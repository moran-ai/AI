{
 "cells": [
  {
   "cell_type": "code",
   "execution_count": 1,
   "id": "occasional-yellow",
   "metadata": {},
   "outputs": [],
   "source": [
    "import numpy as np"
   ]
  },
  {
   "cell_type": "code",
   "execution_count": 4,
   "id": "green-notice",
   "metadata": {},
   "outputs": [
    {
     "data": {
      "text/plain": [
       "array([[1, 3, 1, 1],\n",
       "       [1, 1, 2, 4],\n",
       "       [4, 4, 2, 3]])"
      ]
     },
     "execution_count": 4,
     "metadata": {},
     "output_type": "execute_result"
    }
   ],
   "source": [
    "arr = np.random.randint(1, 5, size=(3, 4))\n",
    "arr"
   ]
  },
  {
   "cell_type": "code",
   "execution_count": 5,
   "id": "portuguese-kazakhstan",
   "metadata": {},
   "outputs": [
    {
     "data": {
      "text/plain": [
       "array([[1, 1, 1, 3],\n",
       "       [1, 1, 2, 4],\n",
       "       [2, 3, 4, 4]])"
      ]
     },
     "execution_count": 5,
     "metadata": {},
     "output_type": "execute_result"
    }
   ],
   "source": [
    "np.sort(arr) #对数组进行排序"
   ]
  },
  {
   "cell_type": "code",
   "execution_count": 6,
   "id": "statutory-radius",
   "metadata": {},
   "outputs": [
    {
     "data": {
      "text/plain": [
       "array([0, 1, 2, 3], dtype=int64)"
      ]
     },
     "execution_count": 6,
     "metadata": {},
     "output_type": "execute_result"
    }
   ],
   "source": [
    "arr[1].argsort()  # 对元素进行排序"
   ]
  },
  {
   "cell_type": "markdown",
   "id": "relevant-spoke",
   "metadata": {},
   "source": [
    "### 形状改变\n",
    "\n",
    "#### reshape"
   ]
  },
  {
   "cell_type": "code",
   "execution_count": 7,
   "id": "lesbian-routine",
   "metadata": {},
   "outputs": [
    {
     "data": {
      "text/plain": [
       "array([[47, 19,  3, 80],\n",
       "       [35, 85, 29,  1],\n",
       "       [61, 81, 42, 39]])"
      ]
     },
     "execution_count": 7,
     "metadata": {},
     "output_type": "execute_result"
    }
   ],
   "source": [
    "arr = np.random.randint(0, 100, size=(3, 4))\n",
    "arr"
   ]
  },
  {
   "cell_type": "code",
   "execution_count": 8,
   "id": "regulation-christmas",
   "metadata": {},
   "outputs": [
    {
     "data": {
      "text/plain": [
       "array([[47, 19,  3, 80],\n",
       "       [35, 85, 29,  1],\n",
       "       [61, 81, 42, 39]])"
      ]
     },
     "metadata": {},
     "output_type": "display_data"
    }
   ],
   "source": [
    "display(arr)"
   ]
  },
  {
   "cell_type": "code",
   "execution_count": 9,
   "id": "monthly-comparison",
   "metadata": {},
   "outputs": [
    {
     "data": {
      "text/plain": [
       "array([[47, 19,  3],\n",
       "       [80, 35, 85],\n",
       "       [29,  1, 61],\n",
       "       [81, 42, 39]])"
      ]
     },
     "execution_count": 9,
     "metadata": {},
     "output_type": "execute_result"
    }
   ],
   "source": [
    "arr.reshape(4, 3)"
   ]
  },
  {
   "cell_type": "code",
   "execution_count": 10,
   "id": "dressed-rubber",
   "metadata": {},
   "outputs": [
    {
     "data": {
      "text/plain": [
       "array([[47, 19,  3, 80],\n",
       "       [35, 85, 29,  1],\n",
       "       [61, 81, 42, 39]])"
      ]
     },
     "metadata": {},
     "output_type": "display_data"
    }
   ],
   "source": [
    "display(arr)"
   ]
  },
  {
   "cell_type": "code",
   "execution_count": 11,
   "id": "distinguished-survival",
   "metadata": {},
   "outputs": [
    {
     "data": {
      "text/plain": [
       "array([47, 19,  3, 80, 35, 85, 29,  1, 61, 81, 42, 39])"
      ]
     },
     "execution_count": 11,
     "metadata": {},
     "output_type": "execute_result"
    }
   ],
   "source": [
    "arr.reshape(-1)"
   ]
  },
  {
   "cell_type": "code",
   "execution_count": 12,
   "id": "tracked-diagram",
   "metadata": {},
   "outputs": [
    {
     "data": {
      "text/plain": [
       "array([[47, 19,  3, 80, 35, 85],\n",
       "       [29,  1, 61, 81, 42, 39]])"
      ]
     },
     "execution_count": 12,
     "metadata": {},
     "output_type": "execute_result"
    }
   ],
   "source": [
    "arr.reshape(2, 6)"
   ]
  },
  {
   "cell_type": "markdown",
   "id": "invalid-burden",
   "metadata": {},
   "source": [
    "### 数组堆叠\n",
    "\n",
    "#### concatenate"
   ]
  },
  {
   "cell_type": "code",
   "execution_count": 13,
   "id": "cubic-invasion",
   "metadata": {},
   "outputs": [],
   "source": [
    "arr = np.random.randint(0, 100, size=(3, 4))\n",
    "arr1 = np.random.randint(0, 100, size=(3, 4))"
   ]
  },
  {
   "cell_type": "code",
   "execution_count": 14,
   "id": "connected-weather",
   "metadata": {},
   "outputs": [
    {
     "data": {
      "text/plain": [
       "array([[48, 54, 32, 59, 65,  6, 59, 95],\n",
       "       [78, 80,  9,  8, 77, 64, 26, 72],\n",
       "       [58, 38, 55, 70, 88, 16, 10, 52]])"
      ]
     },
     "execution_count": 14,
     "metadata": {},
     "output_type": "execute_result"
    }
   ],
   "source": [
    "np.concatenate([arr, arr1], axis=1) # 默认0按照行进行拼接"
   ]
  },
  {
   "cell_type": "code",
   "execution_count": 15,
   "id": "continuous-popularity",
   "metadata": {},
   "outputs": [
    {
     "data": {
      "text/plain": [
       "array([[48, 54, 32, 59],\n",
       "       [78, 80,  9,  8],\n",
       "       [58, 38, 55, 70],\n",
       "       [65,  6, 59, 95],\n",
       "       [77, 64, 26, 72],\n",
       "       [88, 16, 10, 52]])"
      ]
     },
     "execution_count": 15,
     "metadata": {},
     "output_type": "execute_result"
    }
   ],
   "source": [
    "np.vstack((arr, arr1))  # 在竖直方向进行堆叠"
   ]
  },
  {
   "cell_type": "code",
   "execution_count": 16,
   "id": "developed-finish",
   "metadata": {},
   "outputs": [
    {
     "data": {
      "text/plain": [
       "array([[48, 54, 32, 59, 65,  6, 59, 95],\n",
       "       [78, 80,  9,  8, 77, 64, 26, 72],\n",
       "       [58, 38, 55, 70, 88, 16, 10, 52]])"
      ]
     },
     "execution_count": 16,
     "metadata": {},
     "output_type": "execute_result"
    }
   ],
   "source": [
    "np.hstack((arr, arr1))  # 在水平方向进行堆叠"
   ]
  },
  {
   "cell_type": "markdown",
   "id": "increased-antique",
   "metadata": {},
   "source": [
    "### 数组拆分\n",
    "\n",
    "split"
   ]
  },
  {
   "cell_type": "code",
   "execution_count": 17,
   "id": "entire-poverty",
   "metadata": {},
   "outputs": [
    {
     "data": {
      "text/plain": [
       "array([[40, 67, 70, 90, 35, 89, 86, 63, 99],\n",
       "       [74, 41, 60, 78, 19, 90, 31, 24, 12],\n",
       "       [41,  6, 81, 82, 94, 63, 48, 55, 31],\n",
       "       [43, 74, 12, 17, 56,  9, 93, 85, 37],\n",
       "       [64, 69, 53, 75,  9, 86, 73,  2, 58],\n",
       "       [44, 69,  4, 21, 60, 86, 27, 28, 18]])"
      ]
     },
     "execution_count": 17,
     "metadata": {},
     "output_type": "execute_result"
    }
   ],
   "source": [
    "arr = np.random.randint(0, 100, size=(6, 9))\n",
    "arr"
   ]
  },
  {
   "cell_type": "code",
   "execution_count": 18,
   "id": "competitive-mixture",
   "metadata": {},
   "outputs": [
    {
     "data": {
      "text/plain": [
       "[array([[40, 67, 70],\n",
       "        [74, 41, 60],\n",
       "        [41,  6, 81],\n",
       "        [43, 74, 12],\n",
       "        [64, 69, 53],\n",
       "        [44, 69,  4]]),\n",
       " array([[90],\n",
       "        [78],\n",
       "        [82],\n",
       "        [17],\n",
       "        [75],\n",
       "        [21]]),\n",
       " array([[35, 89, 86, 63, 99],\n",
       "        [19, 90, 31, 24, 12],\n",
       "        [94, 63, 48, 55, 31],\n",
       "        [56,  9, 93, 85, 37],\n",
       "        [ 9, 86, 73,  2, 58],\n",
       "        [60, 86, 27, 28, 18]])]"
      ]
     },
     "execution_count": 18,
     "metadata": {},
     "output_type": "execute_result"
    }
   ],
   "source": [
    "np.split(arr, (3,4),axis=1) # 默认按照行进行分割"
   ]
  },
  {
   "cell_type": "code",
   "execution_count": 19,
   "id": "french-nancy",
   "metadata": {},
   "outputs": [
    {
     "data": {
      "text/plain": [
       "[array([[40, 67, 70, 90, 35, 89, 86, 63, 99],\n",
       "        [74, 41, 60, 78, 19, 90, 31, 24, 12],\n",
       "        [41,  6, 81, 82, 94, 63, 48, 55, 31]]),\n",
       " array([[43, 74, 12, 17, 56,  9, 93, 85, 37],\n",
       "        [64, 69, 53, 75,  9, 86, 73,  2, 58],\n",
       "        [44, 69,  4, 21, 60, 86, 27, 28, 18]])]"
      ]
     },
     "execution_count": 19,
     "metadata": {},
     "output_type": "execute_result"
    }
   ],
   "source": [
    "np.vsplit(arr, indices_or_sections=2)  # 在竖直方向进行切割"
   ]
  },
  {
   "cell_type": "code",
   "execution_count": 20,
   "id": "spatial-distribution",
   "metadata": {},
   "outputs": [
    {
     "data": {
      "text/plain": [
       "[array([[40, 67, 70],\n",
       "        [74, 41, 60],\n",
       "        [41,  6, 81],\n",
       "        [43, 74, 12],\n",
       "        [64, 69, 53],\n",
       "        [44, 69,  4]]),\n",
       " array([[90, 35, 89],\n",
       "        [78, 19, 90],\n",
       "        [82, 94, 63],\n",
       "        [17, 56,  9],\n",
       "        [75,  9, 86],\n",
       "        [21, 60, 86]]),\n",
       " array([[86, 63, 99],\n",
       "        [31, 24, 12],\n",
       "        [48, 55, 31],\n",
       "        [93, 85, 37],\n",
       "        [73,  2, 58],\n",
       "        [27, 28, 18]])]"
      ]
     },
     "execution_count": 20,
     "metadata": {},
     "output_type": "execute_result"
    }
   ],
   "source": [
    "np.hsplit(arr, indices_or_sections=3)  # 在水平方向进行切割"
   ]
  },
  {
   "cell_type": "markdown",
   "id": "everyday-penetration",
   "metadata": {},
   "source": [
    "### 广播\n",
    "\n",
    "当两个数组的形状并不相同的时候，我们可以通过扩展数组的方法来实现相加、相减、相乘等操作，这种机制叫做广播（broadcasting）\n",
    "\n",
    "交叉运算"
   ]
  },
  {
   "cell_type": "code",
   "execution_count": 21,
   "id": "medieval-rescue",
   "metadata": {},
   "outputs": [],
   "source": [
    "arr = np.array([1,2,3,4,5]*3).reshape(5, 3)\n",
    "arr1 = np.array([1,2,3])"
   ]
  },
  {
   "cell_type": "code",
   "execution_count": 22,
   "id": "solid-prophet",
   "metadata": {},
   "outputs": [
    {
     "data": {
      "text/plain": [
       "array([[2, 4, 6],\n",
       "       [5, 7, 4],\n",
       "       [3, 5, 7],\n",
       "       [6, 3, 5],\n",
       "       [4, 6, 8]])"
      ]
     },
     "execution_count": 22,
     "metadata": {},
     "output_type": "execute_result"
    }
   ],
   "source": [
    "arr+arr1"
   ]
  },
  {
   "cell_type": "code",
   "execution_count": 23,
   "id": "empty-polymer",
   "metadata": {},
   "outputs": [
    {
     "data": {
      "text/plain": [
       "(5, 3)"
      ]
     },
     "metadata": {},
     "output_type": "display_data"
    },
    {
     "data": {
      "text/plain": [
       "(3,)"
      ]
     },
     "metadata": {},
     "output_type": "display_data"
    }
   ],
   "source": [
    "display(arr.shape, arr1.shape)"
   ]
  },
  {
   "cell_type": "code",
   "execution_count": 24,
   "id": "beneficial-samba",
   "metadata": {},
   "outputs": [
    {
     "data": {
      "text/plain": [
       "array([[1, 2, 3],\n",
       "       [4, 5, 1],\n",
       "       [2, 3, 4],\n",
       "       [5, 1, 2],\n",
       "       [3, 4, 5]])"
      ]
     },
     "metadata": {},
     "output_type": "display_data"
    },
    {
     "data": {
      "text/plain": [
       "array([1, 2, 3])"
      ]
     },
     "metadata": {},
     "output_type": "display_data"
    }
   ],
   "source": [
    "display(arr, arr1)"
   ]
  },
  {
   "cell_type": "code",
   "execution_count": 25,
   "id": "adjacent-columbia",
   "metadata": {},
   "outputs": [
    {
     "data": {
      "text/plain": [
       "array([[1, 1, 1],\n",
       "       [3, 3, 3],\n",
       "       [5, 5, 5],\n",
       "       [7, 7, 7]])"
      ]
     },
     "execution_count": 25,
     "metadata": {},
     "output_type": "execute_result"
    }
   ],
   "source": [
    "arr1 = np.sort(np.array([0,1,2,3]*3)).reshape(4, 3) # shape(4,3)\n",
    "arr2 = np.array([[1],[2],[3],[4]]) # shape(4,1)\n",
    "arr3 = arr1 + arr2 # arr2 进行广播复制3份 shape(4,3)\n",
    "arr3"
   ]
  },
  {
   "cell_type": "code",
   "execution_count": 26,
   "id": "frank-emperor",
   "metadata": {},
   "outputs": [
    {
     "data": {
      "text/plain": [
       "(4, 1)"
      ]
     },
     "execution_count": 26,
     "metadata": {},
     "output_type": "execute_result"
    }
   ],
   "source": [
    "arr2.shape"
   ]
  },
  {
   "cell_type": "code",
   "execution_count": 27,
   "id": "numerical-victor",
   "metadata": {},
   "outputs": [
    {
     "data": {
      "text/plain": [
       "(4, 3)"
      ]
     },
     "execution_count": 27,
     "metadata": {},
     "output_type": "execute_result"
    }
   ],
   "source": [
    "arr3.shape"
   ]
  },
  {
   "cell_type": "code",
   "execution_count": 28,
   "id": "ideal-allergy",
   "metadata": {},
   "outputs": [
    {
     "data": {
      "text/plain": [
       "array([[ 1,  1,  1,  1],\n",
       "       [ 3,  3,  3,  3],\n",
       "       [ 5,  5,  5,  5],\n",
       "       [ 7,  7,  7,  7],\n",
       "       [10, 10, 10, 10]])"
      ]
     },
     "execution_count": 28,
     "metadata": {},
     "output_type": "execute_result"
    }
   ],
   "source": [
    "arr1 = np.sort(np.array([0,1,2,3,5]*4)).reshape(5, 4) # shape(4,3)\n",
    "arr2 = np.array([[1],[2],[3],[4], [5]]) # shape(4,1)\n",
    "arr3 = arr1 + arr2 # arr2 进行广播复制3份 shape(4,3)\n",
    "arr3"
   ]
  },
  {
   "cell_type": "markdown",
   "id": "radical-background",
   "metadata": {},
   "source": [
    "### 通用函数\n",
    "\n",
    "abs、sqrt、square、exp、log、sin、cos、tan，maxinmum、minimum、all、any、inner、clip、round、trace、ceil、floor\n",
    "\n",
    "maxinmum:最大值\n",
    "minimum；最小值\n",
    "sqrt:开平方\n",
    "square：平方\n",
    "exp:幂次方"
   ]
  },
  {
   "cell_type": "code",
   "execution_count": 29,
   "id": "center-broadcast",
   "metadata": {},
   "outputs": [
    {
     "data": {
      "text/plain": [
       "3.141592653589793"
      ]
     },
     "execution_count": 29,
     "metadata": {},
     "output_type": "execute_result"
    }
   ],
   "source": [
    "np.pi"
   ]
  },
  {
   "cell_type": "code",
   "execution_count": 30,
   "id": "applicable-tenant",
   "metadata": {},
   "outputs": [
    {
     "data": {
      "text/plain": [
       "6.123233995736766e-17"
      ]
     },
     "execution_count": 30,
     "metadata": {},
     "output_type": "execute_result"
    }
   ],
   "source": [
    "np.cos(np.pi / 2)"
   ]
  },
  {
   "cell_type": "code",
   "execution_count": 31,
   "id": "portuguese-chest",
   "metadata": {},
   "outputs": [
    {
     "data": {
      "text/plain": [
       "32.0"
      ]
     },
     "execution_count": 31,
     "metadata": {},
     "output_type": "execute_result"
    }
   ],
   "source": [
    "np.sqrt(1024)  # 开平方"
   ]
  },
  {
   "cell_type": "code",
   "execution_count": 32,
   "id": "natural-villa",
   "metadata": {},
   "outputs": [
    {
     "data": {
      "text/plain": [
       "4"
      ]
     },
     "execution_count": 32,
     "metadata": {},
     "output_type": "execute_result"
    }
   ],
   "source": [
    "np.square(2)  # 平方"
   ]
  },
  {
   "cell_type": "code",
   "execution_count": 33,
   "id": "nasty-moore",
   "metadata": {},
   "outputs": [
    {
     "data": {
      "text/plain": [
       "array([2, 5, 3, 9, 3, 9, 8])"
      ]
     },
     "execution_count": 33,
     "metadata": {},
     "output_type": "execute_result"
    }
   ],
   "source": [
    "x = np.array([1,5,2,9,3,6,8])\n",
    "y = np.array([2,4,3,7,1,9,0])\n",
    "np.maximum(x,y) # 返回两个数组中的比较大的值"
   ]
  },
  {
   "cell_type": "code",
   "execution_count": 34,
   "id": "preliminary-sullivan",
   "metadata": {},
   "outputs": [
    {
     "data": {
      "text/plain": [
       "array([166, 103, 107, 175,  79])"
      ]
     },
     "execution_count": 34,
     "metadata": {},
     "output_type": "execute_result"
    }
   ],
   "source": [
    "arr2 = np.random.randint(0,10,size = (5,5))\n",
    "np.inner(arr2[0],arr2) #返回一维数组向量内积"
   ]
  },
  {
   "cell_type": "code",
   "execution_count": 37,
   "id": "adjusted-chase",
   "metadata": {},
   "outputs": [
    {
     "data": {
      "text/plain": [
       "array([[10, 10, 10],\n",
       "       [10, 10, 10],\n",
       "       [10, 10, 10],\n",
       "       [10, 10, 10],\n",
       "       [10, 10, 10]])"
      ]
     },
     "execution_count": 37,
     "metadata": {},
     "output_type": "execute_result"
    }
   ],
   "source": [
    "# np.clip() 裁剪  小于10的变为10，大于20的变为20\n",
    "arr = np.clip(arr, 10, 20)  \n",
    "arr "
   ]
  },
  {
   "cell_type": "markdown",
   "id": "renewable-electronics",
   "metadata": {},
   "source": [
    "### where函数\n",
    "\n",
    "根据条件筛选"
   ]
  },
  {
   "cell_type": "code",
   "execution_count": 38,
   "id": "devoted-context",
   "metadata": {},
   "outputs": [
    {
     "data": {
      "text/plain": [
       "array([1, 5, 4, 7, 8])"
      ]
     },
     "execution_count": 38,
     "metadata": {},
     "output_type": "execute_result"
    }
   ],
   "source": [
    "arr = np.array([1,3,4,56,6])\n",
    "arr1 = np.array([4,5,6,7,8])\n",
    "coda = np.array([True, False, True, False, False])\n",
    "np.where(coda, arr, arr1)  # True返回arr的内容，False返回arr1的内容"
   ]
  },
  {
   "cell_type": "code",
   "execution_count": 48,
   "id": "initial-ending",
   "metadata": {},
   "outputs": [
    {
     "data": {
      "text/plain": [
       "array([[45, 34,  1, 50, 16, 47, 50, 50, 48],\n",
       "       [50, 27, 28, 50, 38, 50, 50, 15, 50],\n",
       "       [50, 50, 19, 50, 50, 50, 38, 50, 31],\n",
       "       [21, 50, 50, 50, 50, 50, 32, 13, 14],\n",
       "       [50,  6, 50, 50, 50, 50, 13, 41, 50],\n",
       "       [36, 40, 18, 29, 28, 50, 50, 15, 50]])"
      ]
     },
     "execution_count": 48,
     "metadata": {},
     "output_type": "execute_result"
    }
   ],
   "source": [
    "arr3 = np.random.randint(1, 100, size=(6, 9))\n",
    "np.where(arr3 < 50, arr3, 50)  # 数组元素小于50，返回对应的数值,否则返回50"
   ]
  },
  {
   "cell_type": "code",
   "execution_count": 43,
   "id": "developmental-cabin",
   "metadata": {},
   "outputs": [],
   "source": [
    "# 将不对的数据进行替换\n",
    "arr4 = np.random.randint(-10, 180, size=(6, 9))"
   ]
  },
  {
   "cell_type": "code",
   "execution_count": 44,
   "id": "outside-junior",
   "metadata": {},
   "outputs": [
    {
     "data": {
      "text/plain": [
       "array([[ 58, 163, 113, 137,  43,  38,  19,  51, 110],\n",
       "       [ 69, 172,  98,   6,   7,  57, 136,  19,   7],\n",
       "       [ 41,  -6, 132,  41,  54,  39, 128,  15, 155],\n",
       "       [ 62,  22,  -9,  93,  56, 119,  24, 163, 179],\n",
       "       [ 41, 122, 108, 152, 118, 117,  97, 162,  65],\n",
       "       [ 16,  95,  12, 121, 179, 138,  -1, 128, 114]])"
      ]
     },
     "execution_count": 44,
     "metadata": {},
     "output_type": "execute_result"
    }
   ],
   "source": [
    "arr4"
   ]
  },
  {
   "cell_type": "code",
   "execution_count": 50,
   "id": "dried-stock",
   "metadata": {},
   "outputs": [
    {
     "data": {
      "text/plain": [
       "array([[   58, -1024,   113,   137,    43,    38,    19,    51,   110],\n",
       "       [   69, -1024,    98,     6,     7,    57,   136,    19,     7],\n",
       "       [   41, -1024,   132,    41,    54,    39,   128,    15, -1024],\n",
       "       [   62,    22, -1024,    93,    56,   119,    24, -1024, -1024],\n",
       "       [   41,   122,   108, -1024,   118,   117,    97, -1024,    65],\n",
       "       [   16,    95,    12,   121, -1024,   138, -1024,   128,   114]])"
      ]
     },
     "execution_count": 50,
     "metadata": {},
     "output_type": "execute_result"
    }
   ],
   "source": [
    "np.where((arr4 < 0) | (arr4 > 150), -1024, arr4)   # 如果小于0或者大于150，将值替换为1024"
   ]
  },
  {
   "cell_type": "markdown",
   "id": "governmental-ownership",
   "metadata": {},
   "source": [
    "### 集合运算函数"
   ]
  },
  {
   "cell_type": "code",
   "execution_count": 53,
   "id": "polyphonic-gibraltar",
   "metadata": {},
   "outputs": [
    {
     "data": {
      "text/plain": [
       "array([ 1,  2, 45])"
      ]
     },
     "execution_count": 53,
     "metadata": {},
     "output_type": "execute_result"
    }
   ],
   "source": [
    "a = np.array([1,2,3,4,45])\n",
    "b = np.array([3,4,5,6,7])\n",
    "\n",
    "# 交集  重复的元素\n",
    "np.intersect1d(a, b)\n",
    "\n",
    "# 并集  去掉重复的数据\n",
    "np.union1d(a, b)\n",
    "\n",
    "# 差集 a中有 b中没有\n",
    "np.setdiff1d(a, b)"
   ]
  },
  {
   "cell_type": "code",
   "execution_count": 54,
   "id": "floating-breakfast",
   "metadata": {},
   "outputs": [
    {
     "data": {
      "text/plain": [
       "array(362.5)"
      ]
     },
     "execution_count": 54,
     "metadata": {},
     "output_type": "execute_result"
    }
   ],
   "source": [
    "np.cov(a, rowvar=True)  # 协方差矩阵  自己和其他进行关联运算  方差是自己与自己进行关联运算"
   ]
  },
  {
   "cell_type": "code",
   "execution_count": 55,
   "id": "initial-sensitivity",
   "metadata": {},
   "outputs": [
    {
     "data": {
      "text/plain": [
       "1.0"
      ]
     },
     "execution_count": 55,
     "metadata": {},
     "output_type": "execute_result"
    }
   ],
   "source": [
    "np.corrcoef(a, rowvar=True)  # 相关系数 "
   ]
  },
  {
   "cell_type": "code",
   "execution_count": 57,
   "id": "furnished-holocaust",
   "metadata": {},
   "outputs": [],
   "source": [
    "a_sum = np.cumsum(a) # 累加和"
   ]
  },
  {
   "cell_type": "code",
   "execution_count": 58,
   "id": "minus-doctor",
   "metadata": {},
   "outputs": [
    {
     "data": {
      "text/plain": [
       "array([ 1,  3,  6, 10, 55], dtype=int32)"
      ]
     },
     "execution_count": 58,
     "metadata": {},
     "output_type": "execute_result"
    }
   ],
   "source": [
    "a_sum  "
   ]
  },
  {
   "cell_type": "markdown",
   "id": "atlantic-atlantic",
   "metadata": {},
   "source": [
    "### 线性代数"
   ]
  },
  {
   "cell_type": "markdown",
   "id": "dramatic-coordinate",
   "metadata": {},
   "source": [
    "#### 矩阵运算"
   ]
  },
  {
   "cell_type": "code",
   "execution_count": 59,
   "id": "gross-runner",
   "metadata": {},
   "outputs": [
    {
     "data": {
      "text/plain": [
       "array([[ 25,  23],\n",
       "       [ -4, -11]])"
      ]
     },
     "execution_count": 59,
     "metadata": {},
     "output_type": "execute_result"
    }
   ],
   "source": [
    "#矩阵的乘积\n",
    "A = np.array([[4,2,3],\n",
    "              [1,3,1]]) # shape(2,3)\n",
    "B = np.array([[2,7],\n",
    "              [-5,-7],\n",
    "              [9,3]]) # shape(3,2)\n",
    "np.dot(A,B) # 矩阵运算 A的最后一维和B的第一维必须一致\n",
    "A @ B # 符号 @ 表示矩阵乘积运算"
   ]
  },
  {
   "cell_type": "code",
   "execution_count": 63,
   "id": "painful-taste",
   "metadata": {},
   "outputs": [
    {
     "data": {
      "text/plain": [
       "-2.0000000000000004"
      ]
     },
     "execution_count": 63,
     "metadata": {},
     "output_type": "execute_result"
    }
   ],
   "source": [
    "#计算矩阵的逆    \n",
    "from numpy.linalg import inv,det,eig,qr,svd\n",
    "t = np.array([[1,2,3],\n",
    "              [2,3,4],\n",
    "              [4,5,8]]) # shape(3,3)\n",
    "A = inv(t) # 逆矩阵\n",
    "det(t) #计算矩阵行列式"
   ]
  },
  {
   "cell_type": "code",
   "execution_count": 65,
   "id": "stylish-weight",
   "metadata": {},
   "outputs": [
    {
     "data": {
      "text/plain": [
       "array([[ 1.,  0., -0.],\n",
       "       [ 0.,  1.,  0.],\n",
       "       [ 0., -0.,  1.]])"
      ]
     },
     "execution_count": 65,
     "metadata": {},
     "output_type": "execute_result"
    }
   ],
   "source": [
    "np.set_printoptions(suppress=True)\n",
    "t.dot(A) # 单位矩阵 "
   ]
  },
  {
   "cell_type": "code",
   "execution_count": 74,
   "id": "covered-daughter",
   "metadata": {},
   "outputs": [],
   "source": [
    "data = np.loadtxt('iris.csv', delimiter=',')  # 加载csv文件"
   ]
  },
  {
   "cell_type": "code",
   "execution_count": 76,
   "id": "orange-option",
   "metadata": {},
   "outputs": [
    {
     "data": {
      "text/plain": [
       "array([[5.1, 3.5, 1.4, 0.2],\n",
       "       [4.9, 3. , 1.4, 0.2],\n",
       "       [4.7, 3.2, 1.3, 0.2],\n",
       "       [4.6, 3.1, 1.5, 0.2],\n",
       "       [5. , 3.6, 1.4, 0.2]])"
      ]
     },
     "execution_count": 76,
     "metadata": {},
     "output_type": "execute_result"
    }
   ],
   "source": [
    "data[:5]"
   ]
  },
  {
   "cell_type": "code",
   "execution_count": 78,
   "id": "external-stranger",
   "metadata": {},
   "outputs": [],
   "source": [
    "data.sort(axis=1) # 按照列进行排序 "
   ]
  },
  {
   "cell_type": "code",
   "execution_count": 79,
   "id": "disabled-federation",
   "metadata": {},
   "outputs": [
    {
     "data": {
      "text/plain": [
       "array([0.1, 0.2, 0.3, 0.4, 0.5, 0.6, 1. , 1.1, 1.2, 1.3, 1.4, 1.5, 1.6,\n",
       "       1.7, 1.8, 1.9, 2. , 2.1, 2.2, 2.3, 2.4, 2.5, 2.6, 2.7, 2.8, 2.9,\n",
       "       3. , 3.1, 3.2, 3.3, 3.4, 3.5, 3.6, 3.7, 3.8, 3.9, 4. , 4.1, 4.2,\n",
       "       4.3, 4.4, 4.5, 4.6, 4.7, 4.8, 4.9, 5. , 5.1, 5.2, 5.3, 5.4, 5.5,\n",
       "       5.6, 5.7, 5.8, 5.9, 6. , 6.1, 6.2, 6.3, 6.4, 6.5, 6.6, 6.7, 6.8,\n",
       "       6.9, 7. , 7.1, 7.2, 7.3, 7.4, 7.6, 7.7, 7.9])"
      ]
     },
     "execution_count": 79,
     "metadata": {},
     "output_type": "execute_result"
    }
   ],
   "source": [
    "np.unique(data)  # 去重 np.unique"
   ]
  },
  {
   "cell_type": "code",
   "execution_count": 81,
   "id": "coastal-museum",
   "metadata": {},
   "outputs": [
    {
     "data": {
      "text/plain": [
       "3.896056416666667"
      ]
     },
     "execution_count": 81,
     "metadata": {},
     "output_type": "execute_result"
    }
   ],
   "source": [
    "# 方差 np.var\n",
    "var = np.var(data)\n",
    "var"
   ]
  },
  {
   "cell_type": "code",
   "execution_count": 82,
   "id": "presidential-breath",
   "metadata": {},
   "outputs": [
    {
     "data": {
      "text/plain": [
       "1.9738430577598278"
      ]
     },
     "execution_count": 82,
     "metadata": {},
     "output_type": "execute_result"
    }
   ],
   "source": [
    "# 标准差 np.std\n",
    "std = np.std(data)\n",
    "std"
   ]
  }
 ],
 "metadata": {
  "gist": {
   "data": {
    "description": "Python基础与科学计算/numpy进阶.ipynb",
    "public": false
   },
   "id": ""
  },
  "kernelspec": {
   "display_name": "Python 3",
   "language": "python",
   "name": "python3"
  },
  "language_info": {
   "codemirror_mode": {
    "name": "ipython",
    "version": 3
   },
   "file_extension": ".py",
   "mimetype": "text/x-python",
   "name": "python",
   "nbconvert_exporter": "python",
   "pygments_lexer": "ipython3",
   "version": "3.7.3"
  },
  "toc": {
   "base_numbering": 1,
   "nav_menu": {},
   "number_sections": true,
   "sideBar": true,
   "skip_h1_title": false,
   "title_cell": "Table of Contents",
   "title_sidebar": "Contents",
   "toc_cell": false,
   "toc_position": {
    "height": "calc(100% - 180px)",
    "left": "10px",
    "top": "150px",
    "width": "384px"
   },
   "toc_section_display": true,
   "toc_window_display": false
  }
 },
 "nbformat": 4,
 "nbformat_minor": 5
}
