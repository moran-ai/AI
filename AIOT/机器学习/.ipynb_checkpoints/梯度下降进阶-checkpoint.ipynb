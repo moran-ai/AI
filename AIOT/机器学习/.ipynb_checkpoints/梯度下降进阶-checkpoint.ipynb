{
 "cells": [
  {
   "cell_type": "markdown",
   "metadata": {},
   "source": [
    "梯度下降的分类：BGD:批量梯度下降  MBGD:小批量梯度下降   SGD:随机梯度下降\n",
    "\n",
    "三种梯度下降不同，体现在第二步中：\n",
    "* BGD是指在**每次迭代**使用**所有样本**来进行梯度的更新\n",
    "* MBGD是指在**每次迭代**使用**一部分样本**（所有样本500个，使用其中32个样本）来进行梯度的更新\n",
    "\n",
    "* SGD是指**每次迭代**随机选择**一个样本**来进行梯度更新"
   ]
  },
  {
   "cell_type": "markdown",
   "metadata": {},
   "source": [
    "### BGD批量梯度下降"
   ]
  },
  {
   "cell_type": "markdown",
   "metadata": {},
   "source": [
    "#### 一元一次线性回归"
   ]
  },
  {
   "cell_type": "code",
   "execution_count": 1,
   "metadata": {},
   "outputs": [],
   "source": [
    "import numpy as np\n",
    "import matplotlib.pyplot as plt"
   ]
  },
  {
   "cell_type": "code",
   "execution_count": 2,
   "metadata": {},
   "outputs": [
    {
     "data": {
      "text/plain": [
       "array([[0.73122384],\n",
       "       [0.43382868],\n",
       "       [0.45678697],\n",
       "       [0.6314936 ],\n",
       "       [0.97145892],\n",
       "       [0.6486051 ],\n",
       "       [0.91063296],\n",
       "       [0.16976543],\n",
       "       [0.06550324],\n",
       "       [0.05433393]])"
      ]
     },
     "execution_count": 2,
     "metadata": {},
     "output_type": "execute_result"
    }
   ],
   "source": [
    "# 定义X np.random.rand：返回一个或者一组(0,1)之间的随机值\n",
    "X = np.random.rand(100, 1)\n",
    "X[:10]"
   ]
  },
  {
   "cell_type": "code",
   "execution_count": 15,
   "metadata": {},
   "outputs": [
    {
     "data": {
      "text/plain": [
       "(6, 1)"
      ]
     },
     "execution_count": 15,
     "metadata": {},
     "output_type": "execute_result"
    }
   ],
   "source": [
    "\"\"\"\n",
    "定义w,b，w为斜率也叫做权重，b为截距也叫做偏置值\n",
    "这个两个值是随机的,用来构建线程方程\n",
    "w,b为随机生成的斜率和截距\n",
    "\"\"\"\n",
    "w, b = np.random.randint(1, 10, size=2)\n",
    "w, b"
   ]
  },
  {
   "cell_type": "code",
   "execution_count": 4,
   "metadata": {},
   "outputs": [
    {
     "data": {
      "text/plain": [
       "array([[7.09007129],\n",
       "       [7.18617744],\n",
       "       [6.06732477],\n",
       "       [7.98869333],\n",
       "       [8.65332852],\n",
       "       [6.00546605],\n",
       "       [9.04769229],\n",
       "       [6.65561855],\n",
       "       [4.71221463],\n",
       "       [5.67799238]])"
      ]
     },
     "execution_count": 4,
     "metadata": {},
     "output_type": "execute_result"
    }
   ],
   "source": [
    "\"\"\"\n",
    "np.random.randn:正态分布，也叫高斯分布\n",
    "np.random.randn(params1, params2, params3)\n",
    "    params1: 行\n",
    "    params2: 列\n",
    "    params3: 维度 默认的维度为2维，可以使用shape查看维度\n",
    "这里使用正态的分布的原因是，是为了模拟真实的数据，加上噪声。如果不加上正态分布，数据就是完全正确的，但是没有完整准确的数据\n",
    "\"\"\"\n",
    "# 回归方程\n",
    "y=w * X + b + np.random.randn(100, 1)\n",
    "y[:10]"
   ]
  },
  {
   "cell_type": "code",
   "execution_count": 5,
   "metadata": {},
   "outputs": [
    {
     "data": {
      "text/plain": [
       "<matplotlib.collections.PathCollection at 0x1bffb7a3580>"
      ]
     },
     "execution_count": 5,
     "metadata": {},
     "output_type": "execute_result"
    },
    {
     "data": {
      "image/png": "[encoded data removed]",
      "text/plain": [
       "<Figure size 432x288 with 1 Axes>"
      ]
     },
     "metadata": {
      "needs_background": "light"
     },
     "output_type": "display_data"
    }
   ],
   "source": [
    "plt.scatter(X, y)"
   ]
  },
  {
   "cell_type": "code",
   "execution_count": 6,
   "metadata": {},
   "outputs": [],
   "source": [
    "# plt.show(X, y)"
   ]
  },
  {
   "cell_type": "code",
   "execution_count": 7,
   "metadata": {},
   "outputs": [
    {
     "data": {
      "text/plain": [
       "array([[0.73122384, 1.        ],\n",
       "       [0.43382868, 1.        ],\n",
       "       [0.45678697, 1.        ],\n",
       "       [0.6314936 , 1.        ],\n",
       "       [0.97145892, 1.        ],\n",
       "       [0.6486051 , 1.        ],\n",
       "       [0.91063296, 1.        ],\n",
       "       [0.16976543, 1.        ],\n",
       "       [0.06550324, 1.        ],\n",
       "       [0.05433393, 1.        ]])"
      ]
     },
     "execution_count": 7,
     "metadata": {},
     "output_type": "execute_result"
    }
   ],
   "source": [
    "# b作为偏置值也是截距,用来更新X \n",
    "# np.full 快速构建一个数组，对数组中的值通过fill_value进行填充 这个拼接只可运行一次\n",
    "# concatenate 进行一个拼接\n",
    "X = np.concatenate([X, np.full(shape=(100,1), fill_value=1)], axis=1)\n",
    "X[:10]"
   ]
  },
  {
   "cell_type": "markdown",
   "metadata": {},
   "source": [
    "thea计算公式：$\\theta^{n + 1} = \\theta^{n} - \\eta * X^T(X\\theta -y)$\n",
    "\n",
    "根据这个公式计算thea，也就是梯度值，需要先给出X， y的值"
   ]
  },
  {
   "cell_type": "code",
   "execution_count": 11,
   "metadata": {},
   "outputs": [
    {
     "name": "stdout",
     "output_type": "stream",
     "text": [
      "真实的w,b是 3 6\n",
      "BGD的预测的w,b为 [[3.17640294]\n",
      " [5.91535903]]\n"
     ]
    }
   ],
   "source": [
    "epochs = 10000 # 循环的次数\n",
    "eca = 0.001   # 学习率\n",
    "# 定义一个函数来调整学习率\n",
    "\"\"\"\n",
    "定义一个函数来调整学习率，随着梯度的次数增加，学习率逐渐减小\n",
    "\"\"\"\n",
    "to, t1=5, 1000\n",
    "def learning_rate_schedule(t):\n",
    "    return to/(t+t1)\n",
    "# 指定需要求的值thea 求解的系数，随机生成 这个也就是线性回归预测的w,b的值\n",
    "thea = np.random.randn(2, 1)\n",
    "t = 0\n",
    "for i in range(epochs):\n",
    "    # 计算出thea的值，也就可以得到预测后的w,b的值\n",
    "    # ① 首先需要计算出导函数的值\n",
    "    g = X.T.dot(X.dot(thea)-y)\n",
    "    eca = learning_rate_schedule(t)\n",
    "    thea = thea - eca * g  # 最终的系数\n",
    "    t += 1\n",
    "print('真实的w,b是', w,b)\n",
    "print('BGD的预测的w,b为', thea)"
   ]
  },
  {
   "cell_type": "code",
   "execution_count": 16,
   "metadata": {},
   "outputs": [],
   "source": [
    "from sklearn.linear_model import SGDRegressor"
   ]
  },
  {
   "cell_type": "code",
   "execution_count": null,
   "metadata": {},
   "outputs": [],
   "source": []
  },
  {
   "cell_type": "code",
   "execution_count": null,
   "metadata": {},
   "outputs": [],
   "source": [
    "'np.c_'\n",
    "\"\"\"\n",
    "np.r_是按列连接两个矩阵，就是把两矩阵上下相加，要求列数相等。\n",
    "np.c_是按行连接两个矩阵，就是把两矩阵左右相加，要求行数相等。\n",
    "\"\"\""
   ]
  }
 ],
 "metadata": {
  "kernelspec": {
   "display_name": "Python 3 (ipykernel)",
   "language": "python",
   "name": "python3"
  },
  "language_info": {
   "codemirror_mode": {
    "name": "ipython",
    "version": 3
   },
   "file_extension": ".py",
   "mimetype": "text/x-python",
   "name": "python",
   "nbconvert_exporter": "python",
   "pygments_lexer": "ipython3",
   "version": "3.8.8"
  },
  "toc": {
   "base_numbering": 1,
   "nav_menu": {},
   "number_sections": true,
   "sideBar": true,
   "skip_h1_title": false,
   "title_cell": "Table of Contents",
   "title_sidebar": "Contents",
   "toc_cell": false,
   "toc_position": {},
   "toc_section_display": true,
   "toc_window_display": false
  }
 },
 "nbformat": 4,
 "nbformat_minor": 4
}
