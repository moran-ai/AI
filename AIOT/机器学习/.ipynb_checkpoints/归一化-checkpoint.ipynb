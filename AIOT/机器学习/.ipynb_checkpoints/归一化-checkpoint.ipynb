{
 "cells": [
  {
   "cell_type": "markdown",
   "id": "76998851-2f92-414b-b167-fc530beaa522",
   "metadata": {},
   "source": [
    "归一化：将不同的数值缩放到同一个区间内，便于梯度下降 归一化也叫标准化\n",
    "\n",
    "归一化的一个目的是，使得梯度下降在不同维度 $\\theta$ 参数（不同数量级）上，可以步调一致协同的进行梯度下降。"
   ]
  },
  {
   "cell_type": "markdown",
   "id": "a07eeaf3-2b23-4a22-97fd-967670dcea97",
   "metadata": {},
   "source": [
    "### 最大值最小值归一化\n",
    "也称为差值标准化\n",
    "\n",
    "公式： $X^* = \\frac{X - X\\_min}{X\\_max -X\\_min}$"
   ]
  },
  {
   "cell_type": "code",
   "execution_count": 22,
   "id": "7163bba7-3986-4593-ae2b-a3b26b2a16f9",
   "metadata": {},
   "outputs": [],
   "source": [
    "import numpy as np\n",
    "import matplotlib.pyplot as plt "
   ]
  },
  {
   "cell_type": "code",
   "execution_count": 23,
   "id": "2b49b411-8777-46ea-979b-255cd3eccde5",
   "metadata": {},
   "outputs": [],
   "source": [
    "x1 = np.random.randint(1, 10, size=10)"
   ]
  },
  {
   "cell_type": "code",
   "execution_count": 25,
   "id": "d101a528-27dd-4a1b-a369-8cee68bc0bb0",
   "metadata": {},
   "outputs": [
    {
     "data": {
      "text/plain": [
       "array([[   8, 4706],\n",
       "       [   9, 2511],\n",
       "       [   4, 4401],\n",
       "       [   5, 3809],\n",
       "       [   6, 2225],\n",
       "       [   7, 1054],\n",
       "       [   7, 4601],\n",
       "       [   9, 4247],\n",
       "       [   3, 3495],\n",
       "       [   3, 2901]])"
      ]
     },
     "execution_count": 25,
     "metadata": {},
     "output_type": "execute_result"
    }
   ],
   "source": [
    "x2 = np.random.randint(1000, 5000, size=10)\n",
    "x = np.c_[x1, x2]  # 按行拼接\n",
    "x"
   ]
  },
  {
   "cell_type": "code",
   "execution_count": 26,
   "id": "f06d0257-a3b9-42f7-bf72-a779cf72ce5a",
   "metadata": {},
   "outputs": [
    {
     "data": {
      "text/plain": [
       "array([   3, 1054])"
      ]
     },
     "execution_count": 26,
     "metadata": {},
     "output_type": "execute_result"
    }
   ],
   "source": [
    "x.min(axis=0)  # 按列计算最小值"
   ]
  },
  {
   "cell_type": "code",
   "execution_count": 27,
   "id": "03cee7d0-fb9f-476c-a716-740f1b9046d2",
   "metadata": {},
   "outputs": [
    {
     "data": {
      "text/plain": [
       "array([[0.83, 1.  ],\n",
       "       [1.  , 0.4 ],\n",
       "       [0.17, 0.92],\n",
       "       [0.33, 0.75],\n",
       "       [0.5 , 0.32],\n",
       "       [0.67, 0.  ],\n",
       "       [0.67, 0.97],\n",
       "       [1.  , 0.87],\n",
       "       [0.  , 0.67],\n",
       "       [0.  , 0.51]])"
      ]
     },
     "execution_count": 27,
     "metadata": {},
     "output_type": "execute_result"
    }
   ],
   "source": [
    "# 进行归一化处理\n",
    "X = (x-x.min(axis=0)) / (x.max(axis=0)-x.min(axis=0))\n",
    "X.round(2)"
   ]
  },
  {
   "cell_type": "code",
   "execution_count": 28,
   "id": "fd8e4f90-c413-4c3e-8636-4214ed4a4b45",
   "metadata": {},
   "outputs": [],
   "source": [
    "# 使用sklearn进行归一化处理\n",
    "from sklearn.preprocessing import MinMaxScaler"
   ]
  },
  {
   "cell_type": "code",
   "execution_count": 29,
   "id": "afac3d2d-564c-480a-900d-86e59f9580a7",
   "metadata": {},
   "outputs": [
    {
     "data": {
      "text/plain": [
       "array([[0.  , 0.42],\n",
       "       [0.38, 0.15],\n",
       "       [0.25, 0.94],\n",
       "       [0.5 , 0.72],\n",
       "       [0.25, 1.  ],\n",
       "       [0.  , 0.  ],\n",
       "       [0.62, 0.08],\n",
       "       [1.  , 0.27],\n",
       "       [0.25, 0.96],\n",
       "       [0.88, 0.62]])"
      ]
     },
     "execution_count": 29,
     "metadata": {},
     "output_type": "execute_result"
    }
   ],
   "source": [
    "x1 = np.random.randint(1, 10, size=10)\n",
    "x2 = np.random.randint(1000, 5000, size=10)\n",
    "x = np.c_[x1, x2]\n",
    "X = MinMaxScaler()\n",
    "y = X.fit_transform(x)\n",
    "y.round(2)"
   ]
  },
  {
   "cell_type": "code",
   "execution_count": null,
   "id": "be065823-188d-4808-951e-3197cd624a3d",
   "metadata": {},
   "outputs": [],
   "source": [
    "### 使用z-core归一化"
   ]
  }
 ],
 "metadata": {
  "kernelspec": {
   "display_name": "Python 3 (ipykernel)",
   "language": "python",
   "name": "python3"
  },
  "language_info": {
   "codemirror_mode": {
    "name": "ipython",
    "version": 3
   },
   "file_extension": ".py",
   "mimetype": "text/x-python",
   "name": "python",
   "nbconvert_exporter": "python",
   "pygments_lexer": "ipython3",
   "version": "3.8.8"
  }
 },
 "nbformat": 4,
 "nbformat_minor": 5
}
