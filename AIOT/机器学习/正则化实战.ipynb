{
 "cells": [
  {
   "cell_type": "markdown",
   "id": "a28e7622-8b79-4791-9120-13e1ee9b9e9e",
   "metadata": {},
   "source": [
    "## 导入模块"
   ]
  },
  {
   "cell_type": "code",
   "execution_count": 50,
   "id": "b7545677-7062-4cf1-b9e9-12cb2a0b0ee6",
   "metadata": {},
   "outputs": [],
   "source": [
    "import pandas as pd \n",
    "import matplotlib.pyplot as plt \n",
    "import numpy as np \n",
    "# 导入模型：依次是：随机梯度下降，套索回归，线性回归，岭回归\n",
    "from sklearn.linear_model import SGDRegressor, Lasso, LinearRegression, Ridge, ElasticNet\n",
    "# 导入归一化处理方式:依次是Z-Score归一化，最大值最小值归一化\n",
    "from sklearn.preprocessing import StandardScaler, MinMaxScaler"
   ]
  },
  {
   "cell_type": "markdown",
   "id": "c8a44cbd-06f9-46a9-aa59-b99c590850e7",
   "metadata": {},
   "source": [
    "## 构建训练集和测试集"
   ]
  },
  {
   "cell_type": "code",
   "execution_count": 2,
   "id": "ee08044e-f5cc-470d-9ba5-09b3fa939c52",
   "metadata": {},
   "outputs": [
    {
     "data": {
      "text/plain": [
       "(2888, 38)"
      ]
     },
     "metadata": {},
     "output_type": "display_data"
    },
    {
     "data": {
      "text/plain": [
       "(2888, 1)"
      ]
     },
     "metadata": {},
     "output_type": "display_data"
    }
   ],
   "source": [
    "df = pd.read_csv('zhengqi_train.txt', sep='\\t')\n",
    "X_train = df.iloc[:, :-1]\n",
    "y_train = df[['target']]\n",
    "display(X_train.shape, y_train.shape)"
   ]
  },
  {
   "cell_type": "code",
   "execution_count": 3,
   "id": "316d4120-dc81-4533-85ca-cf547f90f113",
   "metadata": {},
   "outputs": [
    {
     "data": {
      "text/plain": [
       "(1925, 38)"
      ]
     },
     "metadata": {},
     "output_type": "display_data"
    }
   ],
   "source": [
    "X_test = pd.read_csv('zhengqi_test.txt', sep='\\t')\n",
    "display(X_test.shape)"
   ]
  },
  {
   "cell_type": "markdown",
   "id": "1d314a4b-d904-477c-9354-fe1ebf277f0d",
   "metadata": {},
   "source": [
    "## 数据进行归一化处理\n",
    "\n",
    "一般情况下，目标值【一般为y】是不需要进行归一化处理的"
   ]
  },
  {
   "cell_type": "markdown",
   "id": "05a214e3-64b1-457b-9dd2-eabcc7ed7619",
   "metadata": {},
   "source": [
    "### 使用最大值最小值归一化处理"
   ]
  },
  {
   "cell_type": "code",
   "execution_count": 4,
   "id": "b5105c64-57bb-4f47-baaf-82ef55c3d772",
   "metadata": {},
   "outputs": [],
   "source": [
    "min_max = MinMaxScaler()\n",
    "X_train_min = min_max.fit_transform(X_train)\n",
    "y_train_min = min_max.fit_transform(y_train)\n",
    "X_test_min = min_max.fit_transform(X_test)"
   ]
  },
  {
   "cell_type": "markdown",
   "id": "34792212-dfaa-489e-823d-f106ba3e429e",
   "metadata": {},
   "source": [
    "### 使用Z-Score进行归一化处理"
   ]
  },
  {
   "cell_type": "code",
   "execution_count": 5,
   "id": "3fb77742-6d82-48ed-80de-87d0e440a3f1",
   "metadata": {},
   "outputs": [],
   "source": [
    "score = StandardScaler()\n",
    "X_train_ = score.fit_transform(X_train)\n",
    "y_train_ = score.fit_transform(y_train)\n",
    "X_test_ = score.fit_transform(X_test)"
   ]
  },
  {
   "cell_type": "markdown",
   "id": "561c788a-73fa-4d04-9c50-545ac23d7c2f",
   "metadata": {},
   "source": [
    "## 构建模型"
   ]
  },
  {
   "cell_type": "markdown",
   "id": "495d046d-3542-44dc-bd16-461707f984ba",
   "metadata": {},
   "source": [
    "### 使用未进行归一化处理的数据进行模型的构建  使用简单的线性回归"
   ]
  },
  {
   "cell_type": "code",
   "execution_count": 6,
   "id": "2bd260a6-6ec9-4513-9040-f65980d886cd",
   "metadata": {},
   "outputs": [
    {
     "data": {
      "text/plain": [
       "LinearRegression()"
      ]
     },
     "execution_count": 6,
     "metadata": {},
     "output_type": "execute_result"
    }
   ],
   "source": [
    "model = LinearRegression()\n",
    "model.fit(X_train, y_train)"
   ]
  },
  {
   "cell_type": "code",
   "execution_count": 7,
   "id": "10e9a9d9-e600-4ea7-9b64-9a5c974211eb",
   "metadata": {},
   "outputs": [
    {
     "data": {
      "text/plain": [
       "array([[ 0.26825457],\n",
       "       [ 0.2600059 ],\n",
       "       [-0.06905626],\n",
       "       [ 0.09156779],\n",
       "       [ 0.27141095],\n",
       "       [ 0.19877399],\n",
       "       [-0.13506734],\n",
       "       [ 0.23545488],\n",
       "       [-0.0660262 ],\n",
       "       [ 0.28739887],\n",
       "       [-0.57255987],\n",
       "       [-0.55241158],\n",
       "       [-0.33249774],\n",
       "       [ 0.09408069],\n",
       "       [-0.08724635]])"
      ]
     },
     "execution_count": 7,
     "metadata": {},
     "output_type": "execute_result"
    }
   ],
   "source": [
    "model.predict(X_test)[:15]"
   ]
  },
  {
   "cell_type": "markdown",
   "id": "02a451d0-a533-458c-8b5c-c03a3812cd6f",
   "metadata": {},
   "source": [
    "### 使用进行了归一化处理的数据进行模型的构建---> 线性回归"
   ]
  },
  {
   "cell_type": "markdown",
   "id": "96798f7a-9d0b-4c61-b26c-8a107e42b456",
   "metadata": {},
   "source": [
    "#### 使用Z-score归一化"
   ]
  },
  {
   "cell_type": "code",
   "execution_count": 8,
   "id": "95375928-2480-4ed9-b6ed-bfd9bdfeed27",
   "metadata": {},
   "outputs": [
    {
     "data": {
      "text/plain": [
       "LinearRegression()"
      ]
     },
     "execution_count": 8,
     "metadata": {},
     "output_type": "execute_result"
    }
   ],
   "source": [
    "model = LinearRegression()\n",
    "# Z-score归一化处理的数据\n",
    "model.fit(X_train_, y_train_)"
   ]
  },
  {
   "cell_type": "code",
   "execution_count": 9,
   "id": "ee0ed24a-5669-4a66-a430-53064808bfea",
   "metadata": {},
   "outputs": [
    {
     "data": {
      "text/plain": [
       "array([[ 0.52564964],\n",
       "       [ 0.48973218],\n",
       "       [ 0.32666665],\n",
       "       [ 0.36998727],\n",
       "       [ 0.5268688 ],\n",
       "       [ 0.46154774],\n",
       "       [ 0.22804888],\n",
       "       [ 0.48236749],\n",
       "       [ 0.21097507],\n",
       "       [ 0.49360554],\n",
       "       [-0.10965964],\n",
       "       [-0.09819487],\n",
       "       [-0.02267627],\n",
       "       [ 0.26229629],\n",
       "       [ 0.24690629]])"
      ]
     },
     "execution_count": 9,
     "metadata": {},
     "output_type": "execute_result"
    }
   ],
   "source": [
    "model.predict(X_test_)[:15]"
   ]
  },
  {
   "cell_type": "markdown",
   "id": "1dece9c6-8599-4a64-a497-52bfdc04f5e3",
   "metadata": {},
   "source": [
    "#### 使用最大值最小值归一化"
   ]
  },
  {
   "cell_type": "code",
   "execution_count": 10,
   "id": "bf81c506-5a5c-4361-af37-cbb7b2bb667a",
   "metadata": {},
   "outputs": [
    {
     "data": {
      "text/plain": [
       "LinearRegression()"
      ]
     },
     "execution_count": 10,
     "metadata": {},
     "output_type": "execute_result"
    }
   ],
   "source": [
    "model = LinearRegression()\n",
    "model.fit(X_train_min, y_train_min)"
   ]
  },
  {
   "cell_type": "code",
   "execution_count": 11,
   "id": "beed59e5-d257-4d33-848f-0c8a021952c1",
   "metadata": {},
   "outputs": [
    {
     "data": {
      "text/plain": [
       "array([[0.69801031],\n",
       "       [0.6861968 ],\n",
       "       [0.65270343],\n",
       "       [0.67012411],\n",
       "       [0.69424164],\n",
       "       [0.68954379],\n",
       "       [0.63941183],\n",
       "       [0.69726306],\n",
       "       [0.63169109],\n",
       "       [0.69597451],\n",
       "       [0.57275288],\n",
       "       [0.57584871],\n",
       "       [0.58303058],\n",
       "       [0.64112287],\n",
       "       [0.6590907 ]])"
      ]
     },
     "execution_count": 11,
     "metadata": {},
     "output_type": "execute_result"
    }
   ],
   "source": [
    "model.predict(X_test_min)[:15]"
   ]
  },
  {
   "cell_type": "markdown",
   "id": "bef8e77e-e7e6-46ef-98c1-e60dbf47fde9",
   "metadata": {},
   "source": [
    "### 使用随机梯度下降"
   ]
  },
  {
   "cell_type": "markdown",
   "id": "dcfadc6f-f560-45b6-aa05-9565cfab482c",
   "metadata": {},
   "source": [
    "#### 使用Z-score的归一化处理"
   ]
  },
  {
   "cell_type": "code",
   "execution_count": 36,
   "id": "10faee9a-89f7-40ff-a843-0e86cc53f802",
   "metadata": {},
   "outputs": [
    {
     "data": {
      "text/plain": [
       "SGDRegressor(alpha=0.01, penalty='l1')"
      ]
     },
     "execution_count": 36,
     "metadata": {},
     "output_type": "execute_result"
    }
   ],
   "source": [
    "sgd =SGDRegressor(alpha=0.01, penalty='l1')\n",
    "sgd.fit(X_train_, y_train_.ravel())"
   ]
  },
  {
   "cell_type": "code",
   "execution_count": 42,
   "id": "0b00041d-af79-4244-9f94-42cc17623748",
   "metadata": {},
   "outputs": [
    {
     "data": {
      "text/plain": [
       "array([ 0.3648049 ,  0.31911456,  0.18192628,  0.28915686,  0.38903366,\n",
       "        0.33949308,  0.21804913,  0.27115442,  0.2183158 ,  0.38561143,\n",
       "       -0.00222399, -0.0833308 ,  0.15553928,  0.37228649,  0.20751212])"
      ]
     },
     "execution_count": 42,
     "metadata": {},
     "output_type": "execute_result"
    }
   ],
   "source": [
    "sgd.predict(X_test_)[:15]"
   ]
  },
  {
   "cell_type": "markdown",
   "id": "ab4d485a-c18e-44b0-9692-fdfc128823c7",
   "metadata": {},
   "source": [
    "#### 使用最大值最小值归一化"
   ]
  },
  {
   "cell_type": "code",
   "execution_count": 38,
   "id": "43a68092-9b78-48ea-b466-77390432cc2f",
   "metadata": {},
   "outputs": [
    {
     "data": {
      "text/plain": [
       "SGDRegressor(alpha=0.01, penalty='l1')"
      ]
     },
     "execution_count": 38,
     "metadata": {},
     "output_type": "execute_result"
    }
   ],
   "source": [
    "sgd.fit(X_train_min, y_train_min.ravel())"
   ]
  },
  {
   "cell_type": "code",
   "execution_count": 39,
   "id": "0cb9a483-6c85-4d91-9220-b54227b97340",
   "metadata": {},
   "outputs": [
    {
     "data": {
      "text/plain": [
       "array([0.60794552, 0.60143324, 0.58124095, 0.59721664, 0.61184577,\n",
       "       0.60426296, 0.58611083, 0.59486783, 0.58696681, 0.61077679,\n",
       "       0.55376131, 0.54250184, 0.57669801, 0.60853041, 0.58302566])"
      ]
     },
     "execution_count": 39,
     "metadata": {},
     "output_type": "execute_result"
    }
   ],
   "source": [
    "sgd.predict(X_test_min)[:15]"
   ]
  },
  {
   "cell_type": "markdown",
   "id": "b600ddbf-7fc6-47e6-b339-8b7b7d5287fd",
   "metadata": {},
   "source": [
    "### 使用套索回归"
   ]
  },
  {
   "cell_type": "markdown",
   "id": "fe85b069-2d94-46f4-990d-4fc53561112a",
   "metadata": {},
   "source": [
    "#### 使用Z-score"
   ]
  },
  {
   "cell_type": "code",
   "execution_count": 22,
   "id": "7334da7e-e9ce-413b-8794-52b20e9edba4",
   "metadata": {},
   "outputs": [
    {
     "data": {
      "text/plain": [
       "Lasso(alpha=0.5)"
      ]
     },
     "execution_count": 22,
     "metadata": {},
     "output_type": "execute_result"
    }
   ],
   "source": [
    "lasson = Lasso(alpha=0.5)\n",
    "lasson.fit(X_train_, y_train_)"
   ]
  },
  {
   "cell_type": "code",
   "execution_count": 25,
   "id": "49df4eba-2e2d-4125-ae9c-349395fef51b",
   "metadata": {},
   "outputs": [
    {
     "data": {
      "text/plain": [
       "array([ 0.18813954,  0.15832164,  0.01474993,  0.12222444,  0.18149541,\n",
       "        0.1218764 ,  0.04058251,  0.05945151,  0.01922411,  0.14653267,\n",
       "       -0.21387304, -0.2154687 ,  0.0111866 ,  0.16294088, -0.01170447])"
      ]
     },
     "execution_count": 25,
     "metadata": {},
     "output_type": "execute_result"
    }
   ],
   "source": [
    "lasson.predict(X_test_)[:15]"
   ]
  },
  {
   "cell_type": "markdown",
   "id": "87bfdac3-2c85-430b-8691-9670ce20d363",
   "metadata": {},
   "source": [
    "#### 使用最大值最小值"
   ]
  },
  {
   "cell_type": "code",
   "execution_count": 26,
   "id": "405305f5-23d3-451a-9434-18d36bea8b3a",
   "metadata": {},
   "outputs": [
    {
     "data": {
      "text/plain": [
       "Lasso(alpha=0.5)"
      ]
     },
     "execution_count": 26,
     "metadata": {},
     "output_type": "execute_result"
    }
   ],
   "source": [
    "lasson.fit(X_train_min, y_train_min)"
   ]
  },
  {
   "cell_type": "code",
   "execution_count": 28,
   "id": "dea4b8dc-7fc6-4644-8c5d-4b4e066bbc1f",
   "metadata": {},
   "outputs": [
    {
     "data": {
      "text/plain": [
       "array([0.56796002, 0.56796002, 0.56796002, 0.56796002, 0.56796002,\n",
       "       0.56796002, 0.56796002, 0.56796002, 0.56796002, 0.56796002,\n",
       "       0.56796002, 0.56796002, 0.56796002, 0.56796002, 0.56796002])"
      ]
     },
     "execution_count": 28,
     "metadata": {},
     "output_type": "execute_result"
    }
   ],
   "source": [
    "lasson.predict(X_test_min)[:15]"
   ]
  },
  {
   "cell_type": "markdown",
   "id": "88180a67-e90f-45be-bca9-7ee45395b228",
   "metadata": {},
   "source": [
    "### 使用岭回归"
   ]
  },
  {
   "cell_type": "markdown",
   "id": "aa43a20f-3856-4b37-9d2b-4f2ba4204fad",
   "metadata": {},
   "source": [
    "#### 使用最大值最小值"
   ]
  },
  {
   "cell_type": "code",
   "execution_count": 44,
   "id": "10ba67eb-113a-4bcf-ac53-c07e6461296d",
   "metadata": {},
   "outputs": [
    {
     "data": {
      "text/plain": [
       "Ridge(alpha=0.5, solver='sag')"
      ]
     },
     "execution_count": 44,
     "metadata": {},
     "output_type": "execute_result"
    }
   ],
   "source": [
    "ridge = Ridge(alpha=0.5, solver='sag')\n",
    "ridge.fit(X_train_min, y_train_min)"
   ]
  },
  {
   "cell_type": "code",
   "execution_count": 45,
   "id": "892f3d3f-e548-4490-bdfe-c5ebe7aaef6a",
   "metadata": {},
   "outputs": [
    {
     "data": {
      "text/plain": [
       "array([[0.68437026],\n",
       "       [0.67301388],\n",
       "       [0.64055957],\n",
       "       [0.65328529],\n",
       "       [0.68528402],\n",
       "       [0.67481022],\n",
       "       [0.62581731],\n",
       "       [0.67898933],\n",
       "       [0.6219349 ],\n",
       "       [0.68203385],\n",
       "       [0.55922445],\n",
       "       [0.55494419],\n",
       "       [0.57679869],\n",
       "       [0.63762383],\n",
       "       [0.63584521]])"
      ]
     },
     "execution_count": 45,
     "metadata": {},
     "output_type": "execute_result"
    }
   ],
   "source": [
    "ridge.predict(X_test_min)[:15]"
   ]
  },
  {
   "cell_type": "markdown",
   "id": "736cc9e1-b6a6-4e41-a250-fa33c5ce86a4",
   "metadata": {},
   "source": [
    "#### 使用z-score"
   ]
  },
  {
   "cell_type": "code",
   "execution_count": 46,
   "id": "850ca278-8eaf-4502-9258-6676ad81f8b9",
   "metadata": {},
   "outputs": [
    {
     "data": {
      "text/plain": [
       "Ridge(alpha=0.5, solver='sag')"
      ]
     },
     "execution_count": 46,
     "metadata": {},
     "output_type": "execute_result"
    }
   ],
   "source": [
    "ridge.fit(X_train_, y_train_)"
   ]
  },
  {
   "cell_type": "code",
   "execution_count": 48,
   "id": "4911cf77-633a-48fd-b8bf-0bbf56ed81d7",
   "metadata": {},
   "outputs": [
    {
     "data": {
      "text/plain": [
       "array([[ 0.52513529],\n",
       "       [ 0.48925268],\n",
       "       [ 0.32606849],\n",
       "       [ 0.36918156],\n",
       "       [ 0.52708087],\n",
       "       [ 0.46127099],\n",
       "       [ 0.22776708],\n",
       "       [ 0.48159107],\n",
       "       [ 0.21102041],\n",
       "       [ 0.49355581],\n",
       "       [-0.11007798],\n",
       "       [-0.09947867],\n",
       "       [-0.02226853],\n",
       "       [ 0.26303906],\n",
       "       [ 0.24571822]])"
      ]
     },
     "execution_count": 48,
     "metadata": {},
     "output_type": "execute_result"
    }
   ],
   "source": [
    "ridge.predict(X_test_)[:15]"
   ]
  },
  {
   "cell_type": "markdown",
   "id": "0105b114-b66d-44f9-a56e-8c38f5e01848",
   "metadata": {},
   "source": [
    "### 使用弹性网络"
   ]
  },
  {
   "cell_type": "code",
   "execution_count": 51,
   "id": "a41d2790-a17f-4e43-8ccb-600efa21cfce",
   "metadata": {},
   "outputs": [
    {
     "data": {
      "text/plain": [
       "ElasticNet(alpha=0.5, l1_ratio=0.7)"
      ]
     },
     "execution_count": 51,
     "metadata": {},
     "output_type": "execute_result"
    }
   ],
   "source": [
    "ek = ElasticNet(alpha=0.5, l1_ratio=0.7)\n",
    "ek.fit(X_train_, y_train_)"
   ]
  },
  {
   "cell_type": "code",
   "execution_count": 53,
   "id": "f770d919-93d2-483e-928f-bb2ce4cc878b",
   "metadata": {},
   "outputs": [
    {
     "data": {
      "text/plain": [
       "array([ 0.2554739 ,  0.20001233,  0.03941625,  0.17079058,  0.24308445,\n",
       "        0.18490321,  0.0743446 ,  0.11031951,  0.06236928,  0.21422362,\n",
       "       -0.20511678, -0.24184252,  0.03739644,  0.24507557,  0.04056246])"
      ]
     },
     "execution_count": 53,
     "metadata": {},
     "output_type": "execute_result"
    }
   ],
   "source": [
    "ek.predict(X_test_)[:15]"
   ]
  },
  {
   "cell_type": "code",
   "execution_count": 54,
   "id": "7c64e79a-dd1e-4189-b566-bcdac5c6b035",
   "metadata": {},
   "outputs": [
    {
     "data": {
      "text/plain": [
       "ElasticNet(alpha=0.5, l1_ratio=0.7)"
      ]
     },
     "execution_count": 54,
     "metadata": {},
     "output_type": "execute_result"
    }
   ],
   "source": [
    "ek.fit(X_train_min, y_train_min)"
   ]
  },
  {
   "cell_type": "code",
   "execution_count": 55,
   "id": "8835dc56-a1b7-49be-9fc6-ab14a3f95a34",
   "metadata": {},
   "outputs": [
    {
     "data": {
      "text/plain": [
       "array([0.56796002, 0.56796002, 0.56796002, 0.56796002, 0.56796002,\n",
       "       0.56796002, 0.56796002, 0.56796002, 0.56796002, 0.56796002,\n",
       "       0.56796002, 0.56796002, 0.56796002, 0.56796002, 0.56796002])"
      ]
     },
     "execution_count": 55,
     "metadata": {},
     "output_type": "execute_result"
    }
   ],
   "source": [
    "ek.predict(X_test_min)[:15]"
   ]
  },
  {
   "cell_type": "code",
   "execution_count": 56,
   "id": "3ed00198-a699-430d-b1a5-3bc1d62808ce",
   "metadata": {},
   "outputs": [
    {
     "data": {
      "text/plain": [
       "array([ 1,  2,  3,  4,  5,  6,  7,  8,  9, 10, 11, 12, 13, 14, 15, 16, 17,\n",
       "       18, 19, 20, 21, 22, 23, 24, 25, 26, 27, 28, 29, 30, 31, 32, 33, 34,\n",
       "       35, 36, 37, 38, 39, 40, 41, 42, 43, 44, 45, 46, 47, 48, 49, 50, 51,\n",
       "       52, 53, 54, 55, 56, 57, 58, 59, 60, 61, 62, 63, 64, 65, 66, 67, 68,\n",
       "       69, 70, 71, 72, 73, 74, 75, 76, 77, 78, 79, 80, 81, 82, 83, 84, 85,\n",
       "       86, 87, 88, 89, 90, 91, 92, 93, 94, 95, 96, 97, 98, 99])"
      ]
     },
     "execution_count": 56,
     "metadata": {},
     "output_type": "execute_result"
    }
   ],
   "source": [
    "a = np.arange(1, 100)\n",
    "a"
   ]
  },
  {
   "cell_type": "code",
   "execution_count": 105,
   "id": "bea1aecb-3e5a-4b26-a9d9-9a3519aa964e",
   "metadata": {},
   "outputs": [],
   "source": [
    "np.random.shuffle(a)"
   ]
  },
  {
   "cell_type": "code",
   "execution_count": 106,
   "id": "9985ff90-d6b8-4eb4-b13a-2b5cc9ce6646",
   "metadata": {},
   "outputs": [
    {
     "data": {
      "text/plain": [
       "array([20, 39, 48, 59, 71, 58, 28, 34, 91, 61, 63, 47, 12,  2, 83, 85, 19,\n",
       "       49, 16, 75, 97, 42, 89, 32, 35, 37, 21, 87, 31, 80, 79, 64, 55, 84,\n",
       "       27,  6, 26, 30, 11, 22, 15, 82, 73, 74, 86, 60, 65, 13, 93, 57,  8,\n",
       "       68, 41, 45, 78,  3, 18, 29, 36, 53, 96, 25, 23, 67,  1, 95, 24, 94,\n",
       "       98, 62, 44, 38,  9, 76, 46, 40,  7, 14,  5, 70, 69, 88, 77, 90, 66,\n",
       "       81, 50, 56, 17, 33, 72, 10,  4, 52, 43, 54, 99, 51, 92])"
      ]
     },
     "execution_count": 106,
     "metadata": {},
     "output_type": "execute_result"
    }
   ],
   "source": [
    "a"
   ]
  },
  {
   "cell_type": "code",
   "execution_count": null,
   "id": "194869ec-8360-4ea2-97ce-aec54420e1b0",
   "metadata": {},
   "outputs": [],
   "source": []
  }
 ],
 "metadata": {
  "kernelspec": {
   "display_name": "Python 3 (ipykernel)",
   "language": "python",
   "name": "python3"
  },
  "language_info": {
   "codemirror_mode": {
    "name": "ipython",
    "version": 3
   },
   "file_extension": ".py",
   "mimetype": "text/x-python",
   "name": "python",
   "nbconvert_exporter": "python",
   "pygments_lexer": "ipython3",
   "version": "3.8.8"
  }
 },
 "nbformat": 4,
 "nbformat_minor": 5
}
