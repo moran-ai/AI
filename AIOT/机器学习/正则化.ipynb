{
 "cells": [
  {
   "cell_type": "code",
   "execution_count": 1,
   "id": "85e407bf-b74f-41ab-92e0-46c35dfed300",
   "metadata": {},
   "outputs": [],
   "source": [
    "import numpy as np \n",
    "import matplotlib.pyplot as plt"
   ]
  },
  {
   "cell_type": "markdown",
   "id": "43ea42df-d04f-481b-84b5-148d962e8ea6",
   "metadata": {},
   "source": [
    "$L_1 = |W_1| + |W_2|$"
   ]
  },
  {
   "cell_type": "code",
   "execution_count": 3,
   "id": "654e2f38-52fd-412f-bab6-72d4b8df7ae9",
   "metadata": {},
   "outputs": [
    {
     "ename": "SyntaxError",
     "evalue": "invalid syntax (Temp/ipykernel_14784/1554726699.py, line 2)",
     "output_type": "error",
     "traceback": [
      "\u001b[1;36m  File \u001b[1;32m\"C:\\Users\\20622\\AppData\\Local\\Temp/ipykernel_14784/1554726699.py\"\u001b[1;36m, line \u001b[1;32m2\u001b[0m\n\u001b[1;33m    f(x, y) = |x| + |y|\u001b[0m\n\u001b[1;37m              ^\u001b[0m\n\u001b[1;31mSyntaxError\u001b[0m\u001b[1;31m:\u001b[0m invalid syntax\n"
     ]
    }
   ],
   "source": [
    "# 定义一个方程，用来进行L1正则化对损失函数的影响 求出最小值\n",
    "f(x, y) = |x| + |y|"
   ]
  },
  {
   "cell_type": "markdown",
   "id": "ab79705b-3205-4f5a-b402-d1e2158d6824",
   "metadata": {},
   "source": [
    "### 曼哈顿距离  L1正则化  也称为套索回归\n",
    "\n",
    "$L_1  =  \\alpha * \\sum\\limits_{i = 1}^n|w_i|$\n",
    "\n",
    "Lasso回归和线性回归相比，多了一项：$-\\eta * \\alpha * sgn(w_i)$\n",
    "\n",
    "权重更新公式为： 梯度下降-学习率乘以套索回归的系数再乘以$w_i$\n",
    "\n",
    "$w_i$为正数时，$sgn(w_i)$等于1 直接减去 $\\eta * \\alpha$ （大于0），所以正的 $w_i$ 变小了\n",
    "\n",
    "当$w_i$为负时候  $sgn(w_i) = -1$，相当于直接加上 $\\eta * \\alpha$ （大于0），所以负的 $w_i$​ 变大了，绝对值变小，向0靠近\n",
    "\n",
    "$\\theta_j^{n + 1} = \\theta_j^{n} -\\eta\\sum\\limits_{i = 1}^{n} (h_{\\theta}(x^{(i)}) - y^{(i)} )x_j^{(i)} - \\eta*\\alpha * sgn(w_i)$\n",
    "\n",
    "$\\eta $ 大于零，表示梯度下降学习率\n",
    "\n",
    "$\\alpha$ 大于零，表示L1正则化系数"
   ]
  },
  {
   "cell_type": "code",
   "execution_count": 2,
   "id": "fcab7b46-fc7f-4d58-9536-c22645570a48",
   "metadata": {},
   "outputs": [
    {
     "data": {
      "image/png": "[encoded data removed]",
      "text/plain": [
       "<Figure size 432x432 with 1 Axes>"
      ]
     },
     "metadata": {
      "needs_background": "light"
     },
     "output_type": "display_data"
    }
   ],
   "source": [
    "# 求出最小值，令f(x, y) = 0\n",
    "# |x| + |y| = 0\n",
    "# |x| + |y| = 1\n",
    "#  ① 假设,x和y都是大于0的数 那么方程可以写为\n",
    "# y = - x\n",
    "# y = 1-x\n",
    "\n",
    "# 根据这个方程定义一个匿名函数\n",
    "fun1 = lambda x: 1-x\n",
    "\n",
    "# 根据这个方程画出图形\n",
    "x1 = np.linspace(0, 1, 50)\n",
    "y1 = fun1(x1)\n",
    "plt.figure(figsize=(6,6))\n",
    "plt.plot(x1, y1, color='k')\n",
    "plt.xlim(-2, 2)\n",
    "plt.ylim(-2 ,2)\n",
    "# 获取当前视图\n",
    "ax = plt.gca()\n",
    "# 将图形右边和顶部的颜色设置为None,隐藏\n",
    "ax.spines['right'].set_color('None')\n",
    "ax.spines['top'].set_color('None')\n",
    "# 移动顶部的位置\n",
    "ax.spines['bottom'].set_position(('data', 0))\n",
    "# 移动左边的位置\n",
    "ax.spines['left'].set_position(('data', 0))\n",
    "\n",
    "# ② 假设x, y小于0\n",
    "# 方程可以写为 1 = -x -y \n",
    "fun2 = lambda x: -x - 1\n",
    "x2 = np.linspace(-1, 0, 50)\n",
    "y2=fun2(x2)\n",
    "plt.plot(x2, y2, color='k')\n",
    "\n",
    "# ③ 假设x大于0， y小于0  1 = x -y \n",
    "fun3 = lambda x: x- 1\n",
    "x3 = np.linspace(0, 1, 50)\n",
    "y3 = fun3(x3)\n",
    "plt.plot(x3, y3, color='k')\n",
    "\n",
    "# ④ 假设x小于0，y大于0 1= -x + y  y = 1 + x\n",
    "fun4 = lambda x : 1 + x\n",
    "x4 = np.linspace(-1, 0, 50)\n",
    "y4 = fun4(x4)\n",
    "plt.plot(x4, y4, color='k')\n",
    "plt.show()"
   ]
  },
  {
   "cell_type": "markdown",
   "id": "c7e90b88-9083-4e4b-bddf-e739deb84f5c",
   "metadata": {},
   "source": [
    "### L2正则化 也称为岭回归\n",
    "\n",
    "$L_2 = \\alpha * \\sum\\limits_{i = 1}^n(w_i)^2$ \n",
    "\n",
    "1 = $\\alpha(x^2+y^2)$"
   ]
  },
  {
   "cell_type": "markdown",
   "id": "bb688a75-12f7-4bbd-8f38-bb12513b50ca",
   "metadata": {},
   "source": [
    "$1 = x^2 + y^2$\n",
    "\n",
    "$y = \\pm \\sqrt{1-x^2}$"
   ]
  },
  {
   "cell_type": "code",
   "execution_count": 3,
   "id": "b0b01cb2-aefe-4c43-8ea5-0e2c8415e86d",
   "metadata": {},
   "outputs": [
    {
     "data": {
      "text/plain": [
       "[<matplotlib.lines.Line2D at 0x22dc4fe29d0>]"
      ]
     },
     "execution_count": 3,
     "metadata": {},
     "output_type": "execute_result"
    },
    {
     "data": {
      "image/png": "[encoded data removed]",
      "text/plain": [
       "<Figure size 288x288 with 1 Axes>"
      ]
     },
     "metadata": {
      "needs_background": "light"
     },
     "output_type": "display_data"
    }
   ],
   "source": [
    "fun = lambda x : (1- x**2)**0.5\n",
    "x = np.linspace(-1, 1 , 50)\n",
    "y1 = fun(x)\n",
    "y2 = -fun(x)\n",
    "plt.figure(figsize=(4, 4))\n",
    "plt.plot(x, y1, color='k')\n",
    "plt.plot(x, y2, color='k')"
   ]
  },
  {
   "cell_type": "markdown",
   "id": "f31f022a-9a98-4979-9c5f-d26f305c1ba3",
   "metadata": {},
   "source": [
    "## Ridge岭回归  L2"
   ]
  },
  {
   "cell_type": "code",
   "execution_count": 4,
   "id": "eb7da9c8-df79-4c43-9586-f69c7cea00b4",
   "metadata": {},
   "outputs": [],
   "source": [
    "from sklearn.linear_model import Ridge  # 岭回归\n",
    "from sklearn.linear_model import SGDRegressor, LinearRegression  # 随机梯度下降和线性回归"
   ]
  },
  {
   "cell_type": "code",
   "execution_count": 6,
   "id": "859a3732-57ef-4b16-8dde-2290f5aa833e",
   "metadata": {},
   "outputs": [
    {
     "data": {
      "text/plain": [
       "(100, 5)"
      ]
     },
     "metadata": {},
     "output_type": "display_data"
    },
    {
     "data": {
      "text/plain": [
       "(100, 1)"
      ]
     },
     "metadata": {},
     "output_type": "display_data"
    }
   ],
   "source": [
    "X = 2 * np.random.rand(100, 5)\n",
    "w = np.random.randint(1, 10, size=(5, 1))\n",
    "b = np.random.randint(1, 10, size=1)\n",
    "y = X.dot(w) + b + np.random.randn(100, 1)\n",
    "display(X.shape, y.shape)"
   ]
  },
  {
   "cell_type": "code",
   "execution_count": 7,
   "id": "2ef12fa5-008e-4327-933a-7ca70aba058a",
   "metadata": {},
   "outputs": [
    {
     "data": {
      "text/plain": [
       "Ridge(alpha=1, solver='sag')"
      ]
     },
     "execution_count": 7,
     "metadata": {},
     "output_type": "execute_result"
    }
   ],
   "source": [
    "# alpha：系数  solver：指定梯度下降的方式，sag代表随机梯度下降\n",
    "ridge = Ridge(alpha=1, solver='sag')\n",
    "ridge.fit(X, y)"
   ]
  },
  {
   "cell_type": "code",
   "execution_count": 8,
   "id": "39d68e01-d732-4e9e-81b8-33879dc40cf1",
   "metadata": {},
   "outputs": [
    {
     "name": "stdout",
     "output_type": "stream",
     "text": [
      "[[7.71307171 1.08801717 6.90320882 8.60295904 7.51569635]]\n",
      "[8.12421412]\n"
     ]
    }
   ],
   "source": [
    "print(ridge.coef_)  # 系数\n",
    "print(ridge.intercept_)  # 截距"
   ]
  },
  {
   "cell_type": "code",
   "execution_count": 9,
   "id": "e66514a1-c517-4cfd-9798-147cfe25cf19",
   "metadata": {},
   "outputs": [
    {
     "name": "stdout",
     "output_type": "stream",
     "text": [
      "真实\n",
      " [[8]\n",
      " [1]\n",
      " [7]\n",
      " [9]\n",
      " [8]] [7]\n"
     ]
    }
   ],
   "source": [
    "print('真实\\n', w, b)"
   ]
  },
  {
   "cell_type": "markdown",
   "id": "d0127c8b-bf0f-4ebf-b832-f10c1cd7d123",
   "metadata": {},
   "source": [
    "## 随机梯度下降"
   ]
  },
  {
   "cell_type": "code",
   "execution_count": 13,
   "id": "368546eb-835e-4c4d-8866-8c4a36289051",
   "metadata": {},
   "outputs": [
    {
     "data": {
      "text/plain": [
       "SGDRegressor(alpha=0)"
      ]
     },
     "execution_count": 13,
     "metadata": {},
     "output_type": "execute_result"
    }
   ],
   "source": [
    "# penalty:惩罚项 L1和L2  alpha:正则项的强度  l1_ratio:\n",
    "sgd = SGDRegressor(penalty='l2', alpha=0)\n",
    "sgd.fit(X, y.ravel())"
   ]
  },
  {
   "cell_type": "code",
   "execution_count": 14,
   "id": "bb1b47e9-aac1-41d4-b092-8ff2c867a1bb",
   "metadata": {},
   "outputs": [
    {
     "name": "stdout",
     "output_type": "stream",
     "text": [
      "[7.87171156 1.36211599 7.16213324 8.92048425 7.88539033]\n",
      "[6.70562768]\n"
     ]
    }
   ],
   "source": [
    "print(sgd.coef_)\n",
    "print(sgd.intercept_)"
   ]
  },
  {
   "cell_type": "markdown",
   "id": "c3216c5b-7646-468c-b63a-16a88a7751cb",
   "metadata": {},
   "source": [
    "## 线性回归 使用正规方程"
   ]
  },
  {
   "cell_type": "code",
   "execution_count": 15,
   "id": "8e04eec8-bea3-44a7-8c7f-b3955782565c",
   "metadata": {},
   "outputs": [
    {
     "data": {
      "text/plain": [
       "LinearRegression()"
      ]
     },
     "execution_count": 15,
     "metadata": {},
     "output_type": "execute_result"
    }
   ],
   "source": [
    "model = LinearRegression()\n",
    "model.fit(X,y)"
   ]
  },
  {
   "cell_type": "code",
   "execution_count": 16,
   "id": "fa042d4b-d063-4753-98a0-686a4d5a7f79",
   "metadata": {},
   "outputs": [
    {
     "name": "stdout",
     "output_type": "stream",
     "text": [
      "[[7.99165166 1.16141586 7.08549893 8.90642664 7.78634816]]\n",
      "[7.0312342]\n"
     ]
    }
   ],
   "source": [
    "print(model.coef_)\n",
    "print(model.intercept_)"
   ]
  },
  {
   "cell_type": "markdown",
   "id": "c0b0b57d-4c9d-4843-a06e-14860b640cc5",
   "metadata": {},
   "source": [
    "## Lasso 套索回归  \n",
    "\n",
    "具有稀松性质，一部分系数可以为0"
   ]
  },
  {
   "cell_type": "code",
   "execution_count": 17,
   "id": "b37a58b9-85b1-4848-9f5d-3b6b59fcc726",
   "metadata": {},
   "outputs": [
    {
     "data": {
      "text/plain": [
       "(100, 20)"
      ]
     },
     "metadata": {},
     "output_type": "display_data"
    },
    {
     "data": {
      "text/plain": [
       "(100, 1)"
      ]
     },
     "metadata": {},
     "output_type": "display_data"
    }
   ],
   "source": [
    "from sklearn.linear_model import Lasso\n",
    "X = 2 * np.random.rand(100, 20)\n",
    "w = np.random.randn(20, 1)\n",
    "b = np.random.randint(1, 10, size=1)\n",
    "y = X.dot(w) + b + np.random.randn(100, 1)\n",
    "display(X.shape, y.shape)"
   ]
  },
  {
   "cell_type": "code",
   "execution_count": 19,
   "id": "eff86907-cc4d-48bb-aa46-a1024dc947ec",
   "metadata": {},
   "outputs": [
    {
     "data": {
      "text/plain": [
       "Lasso(alpha=0.5)"
      ]
     },
     "execution_count": 19,
     "metadata": {},
     "output_type": "execute_result"
    }
   ],
   "source": [
    "lasson = Lasso(alpha=0.5)\n",
    "lasson.fit(X, y)"
   ]
  },
  {
   "cell_type": "code",
   "execution_count": 20,
   "id": "eb2653f4-b4df-4d81-b900-8b0eb7c82ea1",
   "metadata": {},
   "outputs": [
    {
     "name": "stdout",
     "output_type": "stream",
     "text": [
      "[-0.          0.          0.         -0.         -0.          0.\n",
      "  0.          0.         -0.          0.          0.          0.\n",
      " -0.         -0.          0.         -0.          0.          0.\n",
      "  0.         -0.79274709]\n",
      "[7.59146122]\n"
     ]
    }
   ],
   "source": [
    "print(lasson.coef_)\n",
    "print(lasson.intercept_)"
   ]
  },
  {
   "cell_type": "code",
   "execution_count": 21,
   "id": "30f4928a-eb58-4273-a701-fcf98a6e63e7",
   "metadata": {},
   "outputs": [
    {
     "data": {
      "text/plain": [
       "SGDRegressor(alpha=0, penalty='l1')"
      ]
     },
     "execution_count": 21,
     "metadata": {},
     "output_type": "execute_result"
    }
   ],
   "source": [
    "sgd = SGDRegressor(penalty='l1', alpha=0)\n",
    "# sgd.fit(X,y.reshape(-1))\n",
    "sgd.fit(X, y.ravel())  # ravel将维度变为1维"
   ]
  },
  {
   "cell_type": "code",
   "execution_count": 22,
   "id": "3edb86f4-2580-487e-808d-6529d5406029",
   "metadata": {},
   "outputs": [
    {
     "name": "stdout",
     "output_type": "stream",
     "text": [
      "[ 0.1861978   0.8559213  -0.06664567 -0.70346683 -0.04187249  0.1042654\n",
      "  0.76133961  0.93755158 -1.11532038  0.56593975  0.73799168  0.80740952\n",
      "  0.62653767 -0.98944841  0.82918805  0.08360654  1.17215485  1.50639286\n",
      "  0.93354937 -1.39577222]\n",
      "[1.14236014]\n"
     ]
    }
   ],
   "source": [
    "print(sgd.coef_)\n",
    "print(sgd.intercept_)"
   ]
  },
  {
   "cell_type": "markdown",
   "id": "2080e59d-7fd3-47be-b28d-a83224c91710",
   "metadata": {},
   "source": [
    "## ElasticNe(弹性网络) \n",
    "\n",
    "弹性网络是L1正则化和L2正则化的结合"
   ]
  },
  {
   "cell_type": "code",
   "execution_count": 23,
   "id": "769acc70-cd6f-4956-bb3d-2f9f18b4c64b",
   "metadata": {},
   "outputs": [
    {
     "name": "stdout",
     "output_type": "stream",
     "text": [
      "原始方程的斜率： [ 1.13466099  0.57028625 -0.30657444 -1.1848157   0.10392322 -0.16179904\n",
      "  1.57634966 -0.52154945 -3.25711513  0.46539007 -0.94620383 -0.82725412\n",
      " -0.04790477  0.34396862  2.50711073 -0.24171961 -1.61941062 -0.08558289\n",
      " -1.46699519  0.88489859]\n",
      "原始方程的截距： [1]\n",
      "弹性网络回归求解的斜率： [ 0.          0.         -0.          0.          0.          0.\n",
      "  0.         -0.         -0.45470449 -0.         -0.         -0.\n",
      " -0.          0.          0.30060409 -0.         -0.         -0.\n",
      " -0.          0.        ]\n",
      "弹性网络回归求解的截距： [-1.73161011]\n",
      "随机梯度下降求解的斜率是： [ 1.12212966  0.53650451 -0.38419184 -0.37988166  0.19117013  0.17401681\n",
      "  1.30712168 -0.57639437 -2.9298498   0.27104318 -1.37714176 -0.7196402\n",
      "  0.08035362  0.50219471  2.52358315 -0.22434869 -1.462242   -0.08228272\n",
      " -1.27888037  0.59154203]\n",
      "随机梯度下降求解的截距是： [0.07601584]\n"
     ]
    }
   ],
   "source": [
    "import numpy as np\n",
    "from sklearn.linear_model import ElasticNet\n",
    "from sklearn.linear_model import SGDRegressor\n",
    "\n",
    "# 1、创建数据集X，y\n",
    "X = 2*np.random.rand(100, 20)\n",
    "w = np.random.randn(20,1)\n",
    "b = np.random.randint(1,10,size = 1)\n",
    "y = X.dot(w) + b + np.random.randn(100, 1)\n",
    "\n",
    "print('原始方程的斜率：',w.ravel())\n",
    "print('原始方程的截距：',b)\n",
    "\n",
    "model = ElasticNet(alpha= 1, l1_ratio = 0.7)\n",
    "model.fit(X, y)\n",
    "print('弹性网络回归求解的斜率：',model.coef_)\n",
    "print('弹性网络回归求解的截距：',model.intercept_)\n",
    "\n",
    "# 线性回归梯度下降方法\n",
    "sgd = SGDRegressor(penalty='l2',alpha=0, l1_ratio=0)\n",
    "sgd.fit(X, y.reshape(-1,))\n",
    "print('随机梯度下降求解的斜率是：',sgd.coef_)\n",
    "print('随机梯度下降求解的截距是：',sgd.intercept_)"
   ]
  },
  {
   "cell_type": "code",
   "execution_count": null,
   "id": "5604e22c-64c3-45b0-9f2d-70cd88c4d822",
   "metadata": {},
   "outputs": [],
   "source": []
  }
 ],
 "metadata": {
  "kernelspec": {
   "display_name": "Python 3 (ipykernel)",
   "language": "python",
   "name": "python3"
  },
  "language_info": {
   "codemirror_mode": {
    "name": "ipython",
    "version": 3
   },
   "file_extension": ".py",
   "mimetype": "text/x-python",
   "name": "python",
   "nbconvert_exporter": "python",
   "pygments_lexer": "ipython3",
   "version": "3.8.8"
  }
 },
 "nbformat": 4,
 "nbformat_minor": 5
}
