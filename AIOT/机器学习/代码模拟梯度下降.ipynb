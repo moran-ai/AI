{
 "cells": [
  {
   "cell_type": "code",
   "execution_count": 1,
   "metadata": {},
   "outputs": [],
   "source": [
    "import matplotlib.pyplot as plt \n",
    "import numpy as np "
   ]
  },
  {
   "cell_type": "markdown",
   "metadata": {},
   "source": [
    "#### 构建函数和导函数"
   ]
  },
  {
   "cell_type": "code",
   "execution_count": 2,
   "metadata": {},
   "outputs": [],
   "source": [
    "# 构建方程\n",
    "f = lambda x : (x-3.5)**2 - 4.5*x + 10 \n",
    "# 对上面的公式进行求导\n",
    "g = lambda x : 2*(x-3.5) - 4.5 "
   ]
  },
  {
   "cell_type": "markdown",
   "metadata": {},
   "source": [
    "#### 可视化函数"
   ]
  },
  {
   "cell_type": "code",
   "execution_count": 3,
   "metadata": {},
   "outputs": [
    {
     "data": {
      "text/plain": [
       "[<matplotlib.lines.Line2D at 0x1a49715bba8>]"
      ]
     },
     "execution_count": 3,
     "metadata": {},
     "output_type": "execute_result"
    },
    {
     "data": {
      "image/png": "[encoded data removed]",
      "text/plain": [
       "<Figure size 432x288 with 1 Axes>"
      ]
     },
     "metadata": {
      "needs_background": "light"
     },
     "output_type": "display_data"
    }
   ],
   "source": [
    "x = np.linspace(0, 11.5, 100)\n",
    "y = f(x)\n",
    "plt.plot(x,y) "
   ]
  },
  {
   "cell_type": "markdown",
   "metadata": {},
   "source": [
    "#### 求这个方程的最小值"
   ]
  },
  {
   "cell_type": "code",
   "execution_count": 4,
   "metadata": {},
   "outputs": [
    {
     "ename": "SyntaxError",
     "evalue": "can't assign to operator (<ipython-input-4-c182f55c45e8>, line 2)",
     "output_type": "error",
     "traceback": [
      "\u001b[1;36m  File \u001b[1;32m\"<ipython-input-4-c182f55c45e8>\"\u001b[1;36m, line \u001b[1;32m2\u001b[0m\n\u001b[1;33m    2*(x-3.5) - 4.5  = 0\u001b[0m\n\u001b[1;37m                         ^\u001b[0m\n\u001b[1;31mSyntaxError\u001b[0m\u001b[1;31m:\u001b[0m can't assign to operator\n"
     ]
    }
   ],
   "source": [
    "# 求导函数的最小值，也就是令导函数等于0\n",
    "2*(x-3.5) - 4.5  = 0 \n",
    "2*x - 11.5 = 0 # 导函数\n",
    "x = 5.75   # 这是方程的最小值 最优解"
   ]
  },
  {
   "cell_type": "markdown",
   "metadata": {},
   "source": [
    "#### 使用梯度下降来求出方程的最小值。不能令方程的导函数为0，进行求解的情况下"
   ]
  },
  {
   "cell_type": "code",
   "execution_count": 22,
   "metadata": {},
   "outputs": [
    {
     "name": "stdout",
     "output_type": "stream",
     "text": [
      "随机的x是: 2\n",
      "g的值是--------> -0.10000000000000009\n",
      "g的值是--------> 0.75\n",
      "g的值是--------> 0.6000000000000001\n",
      "g的值是--------> 0.48\n",
      "g的值是--------> 0.38400000000000034\n",
      "g的值是--------> 0.3071999999999999\n",
      "g的值是--------> 0.24575999999999976\n",
      "g的值是--------> 0.19660800000000034\n",
      "g的值是--------> 0.15728640000000027\n",
      "g的值是--------> 0.12582911999999968\n",
      "g的值是--------> 0.10066329599999957\n",
      "g的值是--------> 0.08053063679999983\n",
      "g的值是--------> 0.06442450944000022\n",
      "g的值是--------> 0.05153960755199982\n",
      "g的值是--------> 0.04123168604160021\n",
      "g的值是--------> 0.03298534883327964\n",
      "g的值是--------> 0.026388279066623888\n",
      "g的值是--------> 0.021110623253298932\n",
      "g的值是--------> 0.016888498602639856\n",
      "g的值是--------> 0.013510798882111708\n",
      "g的值是--------> 0.010808639105689188\n",
      "g的值是--------> 0.008646911284551528\n",
      "g的值是--------> 0.006917529027640867\n",
      "g的值是--------> 0.005534023222113049\n",
      "g的值是--------> 0.0044272185776899065\n",
      "g的值是--------> 0.003541774862152458\n",
      "g的值是--------> 0.0028334198897219665\n",
      "g的值是--------> 0.0022667359117773955\n",
      "g的值是--------> 0.0018133887294222717\n",
      "g的值是--------> 0.0014507109835371068\n",
      "g的值是--------> 0.0011605687868296855\n",
      "g的值是--------> 0.000928455029463926\n",
      "g的值是--------> 0.0007427640235713184\n",
      "g的值是--------> 0.0005942112188570547\n",
      "g的值是--------> 0.00047536897508582143\n",
      "g的值是--------> 0.00038029518006865715\n",
      "g的值是--------> 0.0003042361440543928\n",
      "g的值是--------> 0.0002433889152442248\n",
      "g的值是--------> 0.00019471113219537983\n",
      "g的值是--------> 0.00015576890575630387\n",
      "g的值是--------> 0.0001246151246050431\n",
      "g的值是--------> 9.969209968385684e-05\n",
      "梯度下降的次数是： 41\n"
     ]
    },
    {
     "data": {
      "text/plain": [
       "<matplotlib.collections.PathCollection at 0x1a49ef96390>"
      ]
     },
     "execution_count": 22,
     "metadata": {},
     "output_type": "execute_result"
    },
    {
     "data": {
      "image/png": "[encoded data removed]",
      "text/plain": [
       "<Figure size 432x288 with 1 Axes>"
      ]
     },
     "metadata": {
      "needs_background": "light"
     },
     "output_type": "display_data"
    }
   ],
   "source": [
    "# 定义一个学习率 一般为0.1, 0.001, 0.0001\n",
    "eat = 0.1 \n",
    "# 定义一个随机初始值 作为导数\n",
    "x = np.random.randint(0,12, size=1)[0]\n",
    "\"\"\"\n",
    "使用while循环，每次梯度下降，更新一次x的值,并且需要记录上一次x的值，用来比较x的变化，如果变化\n",
    "不是很大，那么就代表已经接近了最小值或者已经达到了最小值\n",
    "\"\"\"\n",
    "# last_x 用来记录上一次x的值，初始值加上一个0.1，目的是为了和x做区分\n",
    "last_x = x + 0.1 \n",
    "# 定义一个精确度 用来作为循环结束的条件 这里的精确度也可以使用科学计数法的方式表示\n",
    "precision = 0.0001 \n",
    "x_=[x]  # 每一次更新的x的值\n",
    "count = 0 # 用来记录进行了多少次的梯度下降\n",
    "print('随机的x是:', x) \n",
    "while True:\n",
    "    print('g的值是-------->',x-last_x)\n",
    "    if np.abs(x-last_x) < precision:  # 判断梯度是否进行收敛\n",
    "        break\n",
    "    # 进行梯度下降 x是当前数值,赋值给上一次的x\n",
    "    last_x = x \n",
    "    count+=1 \n",
    "    # 进行梯度下降的更新，根据公式\n",
    "    x = x - eat*g(x)  # 计算每一次的梯度值\n",
    "    x_.append(x)\n",
    "#     print('------------>更新之后的x是:', x)\n",
    "#     print('**************上一步的x的值是：', last_x)\n",
    "print('梯度下降的次数是：', count)\n",
    "# 画一条函数的曲线，用来观察梯度变化\n",
    "x1 = np.linspace(0, 11.5, 100)\n",
    "y1 = f(x1)\n",
    "plt.plot(x1, y1)\n",
    "# 画出散点在曲线上的变化趋势  x_是最终的梯度值\n",
    "x_=np.array(x_)\n",
    "plt.scatter(x_, f(x_), color='red')"
   ]
  },
  {
   "cell_type": "code",
   "execution_count": null,
   "metadata": {},
   "outputs": [],
   "source": []
  }
 ],
 "metadata": {
  "kernelspec": {
   "display_name": "Python 3 (ipykernel)",
   "language": "python",
   "name": "python3"
  },
  "language_info": {
   "codemirror_mode": {
    "name": "ipython",
    "version": 3
   },
   "file_extension": ".py",
   "mimetype": "text/x-python",
   "name": "python",
   "nbconvert_exporter": "python",
   "pygments_lexer": "ipython3",
   "version": "3.8.8"
  },
  "toc": {
   "base_numbering": 1,
   "nav_menu": {},
   "number_sections": true,
   "sideBar": true,
   "skip_h1_title": false,
   "title_cell": "Table of Contents",
   "title_sidebar": "Contents",
   "toc_cell": false,
   "toc_position": {},
   "toc_section_display": true,
   "toc_window_display": false
  }
 },
 "nbformat": 4,
 "nbformat_minor": 4
}
