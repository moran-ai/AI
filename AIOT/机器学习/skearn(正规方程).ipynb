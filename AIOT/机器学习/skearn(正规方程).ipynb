{
 "cells": [
  {
   "cell_type": "markdown",
   "metadata": {},
   "source": [
    "线性回归属于有监督的学习,有监督：对历史数据进行分析，从而预测出后面的趋势\n",
    "\n",
    "样本特征只有一个，称为简单线性回归"
   ]
  },
  {
   "cell_type": "markdown",
   "metadata": {},
   "source": [
    "### 简单线性回归\n",
    "\n",
    "$y=wx+b$"
   ]
  },
  {
   "cell_type": "code",
   "execution_count": 1,
   "metadata": {},
   "outputs": [],
   "source": [
    "import numpy as np\n",
    "import matplotlib.pyplot as plt"
   ]
  },
  {
   "cell_type": "code",
   "execution_count": 2,
   "metadata": {},
   "outputs": [
    {
     "data": {
      "text/plain": [
       "[<matplotlib.lines.Line2D at 0x1d34fc32b38>]"
      ]
     },
     "execution_count": 2,
     "metadata": {},
     "output_type": "execute_result"
    },
    {
     "data": {
      "image/png": "[encoded data removed]",
      "text/plain": [
       "<Figure size 432x288 with 1 Axes>"
      ]
     },
     "metadata": {
      "needs_background": "light"
     },
     "output_type": "display_data"
    }
   ],
   "source": [
    "x = np.linspace(0, 10, 50)\n",
    "y = 0.8 * x - 0.5\n",
    "plt.plot(x, y, color='r')"
   ]
  },
  {
   "cell_type": "code",
   "execution_count": 3,
   "metadata": {},
   "outputs": [
    {
     "data": {
      "text/plain": [
       "[<matplotlib.lines.Line2D at 0x1d34fd5c160>]"
      ]
     },
     "execution_count": 3,
     "metadata": {},
     "output_type": "execute_result"
    },
    {
     "data": {
      "image/png": "[encoded data removed]",
      "text/plain": [
       "<Figure size 432x288 with 1 Axes>"
      ]
     },
     "metadata": {
      "needs_background": "light"
     },
     "output_type": "display_data"
    }
   ],
   "source": [
    "y = x ** 2 + 15\n",
    "plt.plot(x, y, color='r')"
   ]
  },
  {
   "cell_type": "markdown",
   "metadata": {},
   "source": [
    "### 多元线性回归\n",
    "\n",
    "$\\hat{y} = w_1X_1 + w_2X_2 + …… + w_nX_n + b$\n",
    "\n",
    "向量的写法  $\\hat{y} = w^Tx$\n",
    "\n",
    "有多个特征"
   ]
  },
  {
   "cell_type": "markdown",
   "metadata": {},
   "source": [
    "#### 正规方程 "
   ]
  },
  {
   "cell_type": "code",
   "execution_count": 4,
   "metadata": {},
   "outputs": [
    {
     "data": {
      "text/plain": [
       "array([[ 1,  1],\n",
       "       [ 2, -1]])"
      ]
     },
     "execution_count": 4,
     "metadata": {},
     "output_type": "execute_result"
    }
   ],
   "source": [
    "X = np.array([[1, 1], [2, -1]])\n",
    "X"
   ]
  },
  {
   "cell_type": "code",
   "execution_count": 5,
   "metadata": {},
   "outputs": [
    {
     "data": {
      "text/plain": [
       "array([14, 10])"
      ]
     },
     "execution_count": 5,
     "metadata": {},
     "output_type": "execute_result"
    }
   ],
   "source": [
    "y = np.array([14, 10])\n",
    "y"
   ]
  },
  {
   "cell_type": "code",
   "execution_count": 6,
   "metadata": {},
   "outputs": [
    {
     "data": {
      "text/plain": [
       "array([8., 6.])"
      ]
     },
     "execution_count": 6,
     "metadata": {},
     "output_type": "execute_result"
    }
   ],
   "source": [
    "# linalg线性代数  solve:计算线性回归问题\n",
    "np.linalg.solve(X, y)"
   ]
  },
  {
   "cell_type": "code",
   "execution_count": 7,
   "metadata": {},
   "outputs": [
    {
     "data": {
      "text/plain": [
       "array([[ 1,  2],\n",
       "       [ 1, -1]])"
      ]
     },
     "execution_count": 7,
     "metadata": {},
     "output_type": "execute_result"
    }
   ],
   "source": [
    "X.T  # 转置"
   ]
  },
  {
   "cell_type": "code",
   "execution_count": 8,
   "metadata": {},
   "outputs": [
    {
     "data": {
      "text/plain": [
       "array([[ 5, -1],\n",
       "       [-1,  2]])"
      ]
     },
     "execution_count": 8,
     "metadata": {},
     "output_type": "execute_result"
    }
   ],
   "source": [
    "X.T.dot(X)"
   ]
  },
  {
   "cell_type": "code",
   "execution_count": 9,
   "metadata": {},
   "outputs": [],
   "source": [
    "# 逆矩阵 np.inv"
   ]
  },
  {
   "cell_type": "code",
   "execution_count": 10,
   "metadata": {},
   "outputs": [],
   "source": [
    "# linear_model 线性模型 \n",
    "from sklearn.linear_model import LinearRegression"
   ]
  },
  {
   "cell_type": "code",
   "execution_count": 11,
   "metadata": {},
   "outputs": [
    {
     "data": {
      "text/plain": [
       "0.0"
      ]
     },
     "execution_count": 11,
     "metadata": {},
     "output_type": "execute_result"
    }
   ],
   "source": [
    "model = LinearRegression(fit_intercept=False) # fit_intercept=False 不计算截距  默认就算\n",
    "# X:数据  y:目标值\n",
    "model.fit(X,y)\n",
    "# coef_():结果，返回值  也就是方程的解，系数，斜率，W\n",
    "model.coef_\n",
    "model.intercept_  # 默认计算截距"
   ]
  },
  {
   "cell_type": "markdown",
   "metadata": {},
   "source": [
    "### 带有截距的线性方程"
   ]
  },
  {
   "cell_type": "markdown",
   "metadata": {},
   "source": [
    "$f(x)=x_1+5x_2+15x_3+3x_4+8x_5+4x_6+17x_7+12x_8+12$"
   ]
  },
  {
   "cell_type": "code",
   "execution_count": 12,
   "metadata": {},
   "outputs": [
    {
     "data": {
      "text/plain": [
       "LinearRegression()"
      ]
     },
     "execution_count": 12,
     "metadata": {},
     "output_type": "execute_result"
    }
   ],
   "source": [
    "y = y + 12\n",
    "y \n",
    "models = LinearRegression(fit_intercept=True)\n",
    "models.fit(X, y)"
   ]
  },
  {
   "cell_type": "code",
   "execution_count": 13,
   "metadata": {},
   "outputs": [
    {
     "data": {
      "text/plain": [
       "array([8., 6.])"
      ]
     },
     "execution_count": 13,
     "metadata": {},
     "output_type": "execute_result"
    }
   ],
   "source": [
    "model.coef_"
   ]
  },
  {
   "cell_type": "code",
   "execution_count": 14,
   "metadata": {},
   "outputs": [
    {
     "data": {
      "text/plain": [
       "0.0"
      ]
     },
     "execution_count": 14,
     "metadata": {},
     "output_type": "execute_result"
    }
   ],
   "source": [
    "model.intercept_"
   ]
  },
  {
   "cell_type": "markdown",
   "metadata": {},
   "source": [
    "### 最大似然估计  MLE\n",
    "\n",
    "&emsp;最大似然估计(maximum likelihood estimation, MLE)一种重要而普遍的求估计量的方法。**最大似然估计**明确地使用概率模型，其目标是寻找能够以较高概率产生观察数据的系统发生树。最大似然估计是一类完全基于**统计**的系统发生树重建方法的代表。"
   ]
  },
  {
   "cell_type": "markdown",
   "metadata": {},
   "source": [
    "### 正规方程"
   ]
  },
  {
   "cell_type": "markdown",
   "metadata": {},
   "source": [
    "#### 简单线性回归"
   ]
  },
  {
   "cell_type": "code",
   "execution_count": 15,
   "metadata": {},
   "outputs": [
    {
     "name": "stdout",
     "output_type": "stream",
     "text": [
      "一元一次方程真实的斜率和截距是： [3] [1]\n",
      "通过正规方程求解的斜率和截距是： [[2.99]\n",
      " [0.88]]\n"
     ]
    },
    {
     "data": {
      "text/plain": [
       "[<matplotlib.lines.Line2D at 0x1d36140d198>]"
      ]
     },
     "execution_count": 15,
     "metadata": {},
     "output_type": "execute_result"
    },
    {
     "data": {
      "image/png": "[encoded data removed]",
      "text/plain": [
       "<Figure size 432x288 with 1 Axes>"
      ]
     },
     "metadata": {
      "needs_background": "light"
     },
     "output_type": "display_data"
    }
   ],
   "source": [
    "import numpy as np\n",
    "import matplotlib.pyplot as plt\n",
    "# 转化成矩阵\n",
    "X = np.linspace(0,10,num = 30).reshape(-1,1)\n",
    "# 斜率和截距，随机生成\n",
    "w = np.random.randint(1,5,size = 1)\n",
    "b = np.random.randint(1,10,size = 1)\n",
    "# 根据一元一次方程计算目标值y，并加上“噪声”，数据有上下波动~\n",
    "y = X * w + b + np.random.randn(30,1)\n",
    "plt.scatter(X,y)\n",
    "# 重新构造X，b截距，相当于系数w0，前面统一乘以1\n",
    "X = np.concatenate([X,np.full(shape = (30,1),fill_value= 1)],axis = 1)\n",
    "# 正规方程求解\n",
    "θ = np.linalg.inv(X.T.dot(X)).dot(X.T).dot(y).round(2)\n",
    "print('一元一次方程真实的斜率和截距是：',w, b)\n",
    "print('通过正规方程求解的斜率和截距是：',θ)\n",
    "# 根据求解的斜率和截距绘制线性回归线型图\n",
    "plt.plot(X[:,0],X.dot(θ),color = 'green')"
   ]
  },
  {
   "cell_type": "markdown",
   "metadata": {},
   "source": [
    "#### 多元线性回归"
   ]
  },
  {
   "cell_type": "code",
   "execution_count": 17,
   "metadata": {},
   "outputs": [
    {
     "name": "stdout",
     "output_type": "stream",
     "text": [
      "二元一次方程真实的斜率和截距是： [2 1 3]\n",
      "通过正规方程求解的斜率和截距是： [2.   1.   2.95]\n"
     ]
    },
    {
     "data": {
      "text/plain": [
       "[<mpl_toolkits.mplot3d.art3d.Line3D at 0x1d363887588>]"
      ]
     },
     "execution_count": 17,
     "metadata": {},
     "output_type": "execute_result"
    },
    {
     "data": {
      "image/png": "[encoded data removed]",
      "text/plain": [
       "<Figure size 648x432 with 1 Axes>"
      ]
     },
     "metadata": {
      "needs_background": "light"
     },
     "output_type": "display_data"
    }
   ],
   "source": [
    "import numpy as np\n",
    "import matplotlib.pyplot as plt\n",
    "from mpl_toolkits.mplot3d.axes3d import Axes3D # 绘制三维图像\n",
    "# 转化成矩阵\n",
    "x1 = np.random.randint(-150,150,size = (300,1))\n",
    "x2 = np.random.randint(0,300,size = (300,1))\n",
    "# 斜率和截距，随机生成\n",
    "w = np.random.randint(1,5,size = 2)\n",
    "b = np.random.randint(1,10,size = 1)\n",
    "# 根据二元一次方程计算目标值y，并加上“噪声”，数据有上下波动~\n",
    "y = x1 * w[0] + x2 * w[1] + b + np.random.randn(300,1)\n",
    "fig = plt.figure(figsize=(9,6))\n",
    "# ax = Axes3D(fig)\n",
    "ax = plt.subplot(111, projection='3d')\n",
    "ax.scatter(x1,x2,y) # 三维散点图\n",
    "ax.view_init(elev=10, azim=-20) # 调整视角\n",
    "# 重新构造X，将x1、x2以及截距b，相当于系数w0，前面统一乘以1进行数据合并\n",
    "X = np.concatenate([x1,x2,np.full(shape = (300,1),fill_value=1)],axis = 1)\n",
    "w = np.concatenate([w,b])\n",
    "# 正规方程求解\n",
    "θ = np.linalg.inv(X.T.dot(X)).dot(X.T).dot(y).round(2)\n",
    "print('二元一次方程真实的斜率和截距是：',w)\n",
    "print('通过正规方程求解的斜率和截距是：',θ.reshape(-1))\n",
    "# # 根据求解的斜率和截距绘制线性回归线型图\n",
    "x = np.linspace(-150,150,100)\n",
    "y = np.linspace(0,300,100)\n",
    "z = x * θ[0] + y * θ[1] + θ[2]\n",
    "ax.plot(x,y,z ,color = 'red')"
   ]
  },
  {
   "cell_type": "code",
   "execution_count": null,
   "metadata": {},
   "outputs": [],
   "source": []
  }
 ],
 "metadata": {
  "kernelspec": {
   "display_name": "Python 3",
   "language": "python",
   "name": "python3"
  },
  "language_info": {
   "codemirror_mode": {
    "name": "ipython",
    "version": 3
   },
   "file_extension": ".py",
   "mimetype": "text/x-python",
   "name": "python",
   "nbconvert_exporter": "python",
   "pygments_lexer": "ipython3",
   "version": "3.7.3"
  },
  "toc": {
   "base_numbering": 1,
   "nav_menu": {},
   "number_sections": true,
   "sideBar": true,
   "skip_h1_title": false,
   "title_cell": "Table of Contents",
   "title_sidebar": "Contents",
   "toc_cell": false,
   "toc_position": {},
   "toc_section_display": true,
   "toc_window_display": false
  }
 },
 "nbformat": 4,
 "nbformat_minor": 4
}
