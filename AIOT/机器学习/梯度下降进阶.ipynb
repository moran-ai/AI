{
 "cells": [
  {
   "cell_type": "markdown",
   "metadata": {},
   "source": [
    "梯度下降的分类：BGD:批量梯度下降  MBGD:小批量梯度下降   SGD:随机梯度下降\n",
    "\n",
    "三种梯度下降不同，体现在第二步中：\n",
    "* BGD是指在**每次迭代**使用**所有样本**来进行梯度的更新\n",
    "* MBGD是指在**每次迭代**使用**一部分样本**（所有样本500个，使用其中32个样本）来进行梯度的更新\n",
    "\n",
    "* SGD是指**每次迭代**随机选择**一个样本**来进行梯度更新"
   ]
  },
  {
   "cell_type": "markdown",
   "metadata": {},
   "source": [
    "### BGD批量梯度下降"
   ]
  },
  {
   "cell_type": "markdown",
   "metadata": {},
   "source": [
    "#### 一元一次线性回归"
   ]
  },
  {
   "cell_type": "code",
   "execution_count": 1,
   "metadata": {},
   "outputs": [],
   "source": [
    "import numpy as np\n",
    "import matplotlib.pyplot as plt"
   ]
  },
  {
   "cell_type": "code",
   "execution_count": 3,
   "metadata": {},
   "outputs": [
    {
     "data": {
      "text/plain": [
       "array([[0.34645968],\n",
       "       [0.73485515],\n",
       "       [0.01509344],\n",
       "       [0.40871906],\n",
       "       [0.99144737]])"
      ]
     },
     "execution_count": 3,
     "metadata": {},
     "output_type": "execute_result"
    }
   ],
   "source": [
    "# 定义X np.random.rand：返回一个或者一组(0,1)之间的随机值\n",
    "X = np.random.rand(100, 1)\n",
    "X[:5]"
   ]
  },
  {
   "cell_type": "code",
   "execution_count": 15,
   "metadata": {},
   "outputs": [
    {
     "data": {
      "text/plain": [
       "(6, 1)"
      ]
     },
     "execution_count": 15,
     "metadata": {},
     "output_type": "execute_result"
    }
   ],
   "source": [
    "\"\"\"\n",
    "定义w,b，w为斜率也叫做权重，b为截距也叫做偏置值\n",
    "这个两个值是随机的,用来构建线程方程\n",
    "w,b为随机生成的斜率和截距\n",
    "\"\"\"\n",
    "w, b = np.random.randint(1, 10, size=2)\n",
    "w, b"
   ]
  },
  {
   "cell_type": "code",
   "execution_count": 4,
   "metadata": {},
   "outputs": [
    {
     "data": {
      "text/plain": [
       "array([[7.09007129],\n",
       "       [7.18617744],\n",
       "       [6.06732477],\n",
       "       [7.98869333],\n",
       "       [8.65332852],\n",
       "       [6.00546605],\n",
       "       [9.04769229],\n",
       "       [6.65561855],\n",
       "       [4.71221463],\n",
       "       [5.67799238]])"
      ]
     },
     "execution_count": 4,
     "metadata": {},
     "output_type": "execute_result"
    }
   ],
   "source": [
    "\"\"\"\n",
    "np.random.randn:正态分布，也叫高斯分布\n",
    "np.random.randn(params1, params2, params3)\n",
    "    params1: 行\n",
    "    params2: 列\n",
    "    params3: 维度 默认的维度为2维，可以使用shape查看维度\n",
    "这里使用正态的分布的原因是，是为了模拟真实的数据，加上噪声。如果不加上正态分布，数据就是完全正确的，但是没有完整准确的数据\n",
    "\"\"\"\n",
    "# 回归方程\n",
    "y=w * X + b + np.random.randn(100, 1)\n",
    "y[:10]"
   ]
  },
  {
   "cell_type": "code",
   "execution_count": 5,
   "metadata": {},
   "outputs": [
    {
     "data": {
      "text/plain": [
       "<matplotlib.collections.PathCollection at 0x1bffb7a3580>"
      ]
     },
     "execution_count": 5,
     "metadata": {},
     "output_type": "execute_result"
    },
    {
     "data": {
      "image/png": "[encoded data removed]",
      "text/plain": [
       "<Figure size 432x288 with 1 Axes>"
      ]
     },
     "metadata": {
      "needs_background": "light"
     },
     "output_type": "display_data"
    }
   ],
   "source": [
    "plt.scatter(X, y)"
   ]
  },
  {
   "cell_type": "code",
   "execution_count": 6,
   "metadata": {},
   "outputs": [],
   "source": [
    "# plt.show(X, y)"
   ]
  },
  {
   "cell_type": "code",
   "execution_count": 7,
   "metadata": {},
   "outputs": [
    {
     "data": {
      "text/plain": [
       "array([[0.73122384, 1.        ],\n",
       "       [0.43382868, 1.        ],\n",
       "       [0.45678697, 1.        ],\n",
       "       [0.6314936 , 1.        ],\n",
       "       [0.97145892, 1.        ],\n",
       "       [0.6486051 , 1.        ],\n",
       "       [0.91063296, 1.        ],\n",
       "       [0.16976543, 1.        ],\n",
       "       [0.06550324, 1.        ],\n",
       "       [0.05433393, 1.        ]])"
      ]
     },
     "execution_count": 7,
     "metadata": {},
     "output_type": "execute_result"
    }
   ],
   "source": [
    "# b作为偏置值也是截距,用来更新X \n",
    "# np.full 快速构建一个数组，对数组中的值通过fill_value进行填充 这个拼接只可运行一次\n",
    "# concatenate 进行一个拼接\n",
    "X = np.concatenate([X, np.full(shape=(100,1), fill_value=1)], axis=1)\n",
    "X[:10]"
   ]
  },
  {
   "cell_type": "markdown",
   "metadata": {},
   "source": [
    "thea计算公式：$\\theta^{n + 1} = \\theta^{n} - \\eta * X^T(X\\theta -y)$\n",
    "\n",
    "根据这个公式计算thea，也就是梯度值，需要先给出X， y的值"
   ]
  },
  {
   "cell_type": "code",
   "execution_count": 11,
   "metadata": {},
   "outputs": [
    {
     "name": "stdout",
     "output_type": "stream",
     "text": [
      "真实的w,b是 3 6\n",
      "BGD的预测的w,b为 [[3.17640294]\n",
      " [5.91535903]]\n"
     ]
    }
   ],
   "source": [
    "epochs = 10000 # 循环的次数\n",
    "eca = 0.001   # 学习率\n",
    "# 定义一个函数来调整学习率\n",
    "\"\"\"\n",
    "定义一个函数来调整学习率，随着梯度的次数增加，学习率逐渐减小\n",
    "\"\"\"\n",
    "to, t1=5, 1000\n",
    "def learning_rate_schedule(t):\n",
    "    return to/(t+t1)\n",
    "# 指定需要求的值thea 求解的系数，随机生成 这个也就是线性回归预测的w,b的值\n",
    "thea = np.random.randn(2, 1)\n",
    "t = 0\n",
    "for i in range(epochs):\n",
    "    # 计算出thea的值，也就可以得到预测后的w,b的值\n",
    "    # ① 首先需要计算出导函数的值\n",
    "    g = X.T.dot(X.dot(thea)-y)\n",
    "    eca = learning_rate_schedule(t)\n",
    "    thea = thea - eca * g  # 最终的系数\n",
    "    t += 1\n",
    "print('真实的w,b是', w,b)\n",
    "print('BGD的预测的w,b为', thea)"
   ]
  },
  {
   "cell_type": "code",
   "execution_count": 16,
   "metadata": {},
   "outputs": [],
   "source": [
    "from sklearn.linear_model import SGDRegressor"
   ]
  },
  {
   "cell_type": "code",
   "execution_count": null,
   "metadata": {},
   "outputs": [],
   "source": []
  },
  {
   "cell_type": "code",
   "execution_count": 31,
   "metadata": {},
   "outputs": [],
   "source": [
    "'np.c_'\n",
    "\"\"\"\n",
    "np.r_是按列连接两个矩阵，就是把两矩阵上下相加，要求列数相等。\n",
    "np.c_是按行连接两个矩阵，就是把两矩阵左右相加，要求行数相等。\n",
    "\"\"\"\n",
    "b = np.c_[X,np.ones((100, 1))]\n"
   ]
  },
  {
   "cell_type": "code",
   "execution_count": 33,
   "metadata": {},
   "outputs": [
    {
     "data": {
      "text/plain": [
       "array([[0.73122384, 1.        , 1.        , 1.        ],\n",
       "       [0.43382868, 1.        , 1.        , 1.        ],\n",
       "       [0.45678697, 1.        , 1.        , 1.        ],\n",
       "       [0.6314936 , 1.        , 1.        , 1.        ],\n",
       "       [0.97145892, 1.        , 1.        , 1.        ]])"
      ]
     },
     "execution_count": 33,
     "metadata": {},
     "output_type": "execute_result"
    }
   ],
   "source": [
    "b[:5]"
   ]
  },
  {
   "cell_type": "code",
   "execution_count": 38,
   "metadata": {},
   "outputs": [
    {
     "data": {
      "text/plain": [
       "array([[1.],\n",
       "       [1.],\n",
       "       [1.],\n",
       "       [1.],\n",
       "       [1.],\n",
       "       [1.],\n",
       "       [1.],\n",
       "       [1.],\n",
       "       [1.],\n",
       "       [1.],\n",
       "       [1.],\n",
       "       [1.],\n",
       "       [1.],\n",
       "       [1.],\n",
       "       [1.],\n",
       "       [1.],\n",
       "       [1.],\n",
       "       [1.],\n",
       "       [1.],\n",
       "       [1.],\n",
       "       [1.],\n",
       "       [1.],\n",
       "       [1.],\n",
       "       [1.],\n",
       "       [1.],\n",
       "       [1.],\n",
       "       [1.],\n",
       "       [1.],\n",
       "       [1.],\n",
       "       [1.],\n",
       "       [1.],\n",
       "       [1.],\n",
       "       [1.],\n",
       "       [1.],\n",
       "       [1.],\n",
       "       [1.],\n",
       "       [1.],\n",
       "       [1.],\n",
       "       [1.],\n",
       "       [1.],\n",
       "       [1.],\n",
       "       [1.],\n",
       "       [1.],\n",
       "       [1.],\n",
       "       [1.],\n",
       "       [1.],\n",
       "       [1.],\n",
       "       [1.],\n",
       "       [1.],\n",
       "       [1.],\n",
       "       [1.],\n",
       "       [1.],\n",
       "       [1.],\n",
       "       [1.],\n",
       "       [1.],\n",
       "       [1.],\n",
       "       [1.],\n",
       "       [1.],\n",
       "       [1.],\n",
       "       [1.],\n",
       "       [1.],\n",
       "       [1.],\n",
       "       [1.],\n",
       "       [1.],\n",
       "       [1.],\n",
       "       [1.],\n",
       "       [1.],\n",
       "       [1.],\n",
       "       [1.],\n",
       "       [1.],\n",
       "       [1.],\n",
       "       [1.],\n",
       "       [1.],\n",
       "       [1.],\n",
       "       [1.],\n",
       "       [1.],\n",
       "       [1.],\n",
       "       [1.],\n",
       "       [1.],\n",
       "       [1.],\n",
       "       [1.],\n",
       "       [1.],\n",
       "       [1.],\n",
       "       [1.],\n",
       "       [1.],\n",
       "       [1.],\n",
       "       [1.],\n",
       "       [1.],\n",
       "       [1.],\n",
       "       [1.],\n",
       "       [1.],\n",
       "       [1.],\n",
       "       [1.],\n",
       "       [1.],\n",
       "       [1.],\n",
       "       [1.],\n",
       "       [1.],\n",
       "       [1.],\n",
       "       [1.],\n",
       "       [1.]])"
      ]
     },
     "execution_count": 38,
     "metadata": {},
     "output_type": "execute_result"
    }
   ],
   "source": [
    "a = np.ones((100, 1))"
   ]
  },
  {
   "cell_type": "code",
   "execution_count": 47,
   "metadata": {},
   "outputs": [
    {
     "data": {
      "text/plain": [
       "array([[ 0.46463118],\n",
       "       [-0.61606066],\n",
       "       [ 0.97028123],\n",
       "       [ 0.15284514],\n",
       "       [ 0.64623788]])"
      ]
     },
     "execution_count": 47,
     "metadata": {},
     "output_type": "execute_result"
    }
   ],
   "source": [
    "c = np.random.randn(100,1)\n",
    "c[:5]"
   ]
  },
  {
   "cell_type": "code",
   "execution_count": 48,
   "metadata": {},
   "outputs": [
    {
     "data": {
      "text/plain": [
       "array([[ 0.46463118],\n",
       "       [-0.61606066],\n",
       "       [ 0.97028123],\n",
       "       [ 0.15284514],\n",
       "       [ 0.64623788],\n",
       "       [ 0.35562359],\n",
       "       [-0.78427468],\n",
       "       [-0.49905378],\n",
       "       [-1.49087629],\n",
       "       [-0.49038687],\n",
       "       [ 0.16966649],\n",
       "       [-0.36386222],\n",
       "       [-2.02947062],\n",
       "       [-2.07936986],\n",
       "       [ 1.86988323],\n",
       "       [ 0.48164915],\n",
       "       [-0.75866611],\n",
       "       [-1.53755793],\n",
       "       [ 0.45605667],\n",
       "       [-1.27507312],\n",
       "       [-0.40915435],\n",
       "       [ 0.5811602 ],\n",
       "       [ 1.87792156],\n",
       "       [-1.06279875],\n",
       "       [-1.11873029],\n",
       "       [-1.85865852],\n",
       "       [-1.55401233],\n",
       "       [ 0.66767523],\n",
       "       [-1.44424691],\n",
       "       [-2.70417315],\n",
       "       [-0.98141906],\n",
       "       [ 0.17916621],\n",
       "       [-0.20271171],\n",
       "       [-1.00145556],\n",
       "       [ 0.4912824 ],\n",
       "       [ 0.01203172],\n",
       "       [ 2.97843261],\n",
       "       [-0.25654281],\n",
       "       [ 1.00055078],\n",
       "       [-0.73270705],\n",
       "       [ 0.16934885],\n",
       "       [-0.03788592],\n",
       "       [-0.15538886],\n",
       "       [ 0.71277391],\n",
       "       [-0.88878183],\n",
       "       [-0.54699686],\n",
       "       [-0.11817116],\n",
       "       [ 2.51264261],\n",
       "       [ 0.32230244],\n",
       "       [ 1.01937219],\n",
       "       [-0.69622662],\n",
       "       [-0.95565765],\n",
       "       [ 0.07659845],\n",
       "       [-0.00391468],\n",
       "       [ 1.13015596],\n",
       "       [-1.15654874],\n",
       "       [-0.80195624],\n",
       "       [-1.71710812],\n",
       "       [ 1.73488433],\n",
       "       [ 0.43523398],\n",
       "       [ 1.48321094],\n",
       "       [ 1.0024489 ],\n",
       "       [-1.6541168 ],\n",
       "       [-1.48468492],\n",
       "       [-2.08007023],\n",
       "       [ 0.38737566],\n",
       "       [-0.50291796],\n",
       "       [-0.24236016],\n",
       "       [ 0.98913104],\n",
       "       [-0.64326754],\n",
       "       [ 0.15655455],\n",
       "       [ 1.1266314 ],\n",
       "       [-1.55669138],\n",
       "       [-1.49492885],\n",
       "       [ 0.97095655],\n",
       "       [ 0.50036199],\n",
       "       [ 1.84169658],\n",
       "       [-0.93363993],\n",
       "       [-0.83385877],\n",
       "       [ 1.07559223],\n",
       "       [ 0.75019245],\n",
       "       [ 1.09804751],\n",
       "       [ 0.32168059],\n",
       "       [-0.44861578],\n",
       "       [ 1.33334205],\n",
       "       [-0.41259291],\n",
       "       [-0.85945529],\n",
       "       [-0.28232141],\n",
       "       [ 0.70007149],\n",
       "       [ 1.08880481],\n",
       "       [ 0.0739918 ],\n",
       "       [-0.84760355],\n",
       "       [ 0.75510851],\n",
       "       [-1.05988557],\n",
       "       [ 1.42156554],\n",
       "       [ 0.05843442],\n",
       "       [-0.58991064],\n",
       "       [ 0.75280724],\n",
       "       [ 1.46940698],\n",
       "       [ 1.39095467],\n",
       "       [ 1.        ],\n",
       "       [ 1.        ],\n",
       "       [ 1.        ],\n",
       "       [ 1.        ],\n",
       "       [ 1.        ],\n",
       "       [ 1.        ],\n",
       "       [ 1.        ],\n",
       "       [ 1.        ],\n",
       "       [ 1.        ],\n",
       "       [ 1.        ],\n",
       "       [ 1.        ],\n",
       "       [ 1.        ],\n",
       "       [ 1.        ],\n",
       "       [ 1.        ],\n",
       "       [ 1.        ],\n",
       "       [ 1.        ],\n",
       "       [ 1.        ],\n",
       "       [ 1.        ],\n",
       "       [ 1.        ],\n",
       "       [ 1.        ],\n",
       "       [ 1.        ],\n",
       "       [ 1.        ],\n",
       "       [ 1.        ],\n",
       "       [ 1.        ],\n",
       "       [ 1.        ],\n",
       "       [ 1.        ],\n",
       "       [ 1.        ],\n",
       "       [ 1.        ],\n",
       "       [ 1.        ],\n",
       "       [ 1.        ],\n",
       "       [ 1.        ],\n",
       "       [ 1.        ],\n",
       "       [ 1.        ],\n",
       "       [ 1.        ],\n",
       "       [ 1.        ],\n",
       "       [ 1.        ],\n",
       "       [ 1.        ],\n",
       "       [ 1.        ],\n",
       "       [ 1.        ],\n",
       "       [ 1.        ],\n",
       "       [ 1.        ],\n",
       "       [ 1.        ],\n",
       "       [ 1.        ],\n",
       "       [ 1.        ],\n",
       "       [ 1.        ],\n",
       "       [ 1.        ],\n",
       "       [ 1.        ],\n",
       "       [ 1.        ],\n",
       "       [ 1.        ],\n",
       "       [ 1.        ],\n",
       "       [ 1.        ],\n",
       "       [ 1.        ],\n",
       "       [ 1.        ],\n",
       "       [ 1.        ],\n",
       "       [ 1.        ],\n",
       "       [ 1.        ],\n",
       "       [ 1.        ],\n",
       "       [ 1.        ],\n",
       "       [ 1.        ],\n",
       "       [ 1.        ],\n",
       "       [ 1.        ],\n",
       "       [ 1.        ],\n",
       "       [ 1.        ],\n",
       "       [ 1.        ],\n",
       "       [ 1.        ],\n",
       "       [ 1.        ],\n",
       "       [ 1.        ],\n",
       "       [ 1.        ],\n",
       "       [ 1.        ],\n",
       "       [ 1.        ],\n",
       "       [ 1.        ],\n",
       "       [ 1.        ],\n",
       "       [ 1.        ],\n",
       "       [ 1.        ],\n",
       "       [ 1.        ],\n",
       "       [ 1.        ],\n",
       "       [ 1.        ],\n",
       "       [ 1.        ],\n",
       "       [ 1.        ],\n",
       "       [ 1.        ],\n",
       "       [ 1.        ],\n",
       "       [ 1.        ],\n",
       "       [ 1.        ],\n",
       "       [ 1.        ],\n",
       "       [ 1.        ],\n",
       "       [ 1.        ],\n",
       "       [ 1.        ],\n",
       "       [ 1.        ],\n",
       "       [ 1.        ],\n",
       "       [ 1.        ],\n",
       "       [ 1.        ],\n",
       "       [ 1.        ],\n",
       "       [ 1.        ],\n",
       "       [ 1.        ],\n",
       "       [ 1.        ],\n",
       "       [ 1.        ],\n",
       "       [ 1.        ],\n",
       "       [ 1.        ],\n",
       "       [ 1.        ],\n",
       "       [ 1.        ]])"
      ]
     },
     "execution_count": 48,
     "metadata": {},
     "output_type": "execute_result"
    }
   ],
   "source": [
    "np.r_[c,a]"
   ]
  },
  {
   "cell_type": "code",
   "execution_count": 2,
   "metadata": {},
   "outputs": [
    {
     "data": {
      "text/plain": [
       "array([[ 0.68503822,  0.37642813, -0.03313617, -0.47339285,  0.43099632,\n",
       "        -1.35868479,  0.81280131,  0.48615573, -1.57898251,  0.35048832],\n",
       "       [ 0.26607726, -0.10506237,  1.51857141, -1.16574054,  1.06865868,\n",
       "         0.96865245,  0.70395546, -1.9252748 ,  0.89457007,  1.13537676],\n",
       "       [-0.66008294, -0.93242551,  0.87649272,  0.25324369, -1.9898386 ,\n",
       "         0.33098789, -0.30215489,  0.12978921, -1.38867486,  0.62339078],\n",
       "       [ 0.67150495,  1.67689437, -1.39309213, -2.04321747, -0.06584995,\n",
       "        -0.23246194, -1.36697977,  0.55457587, -0.30805177,  1.19836646],\n",
       "       [ 1.67902326, -1.09152422, -0.41960397, -0.24506391,  0.26271909,\n",
       "        -0.10871368, -0.64385396, -1.28349878,  0.00272443,  0.92278729],\n",
       "       [ 0.46929332, -0.44374729, -0.12600778,  0.56247523,  0.87067927,\n",
       "         1.53513385,  1.13492964,  0.93343315, -0.66647087, -1.22934708],\n",
       "       [-0.46349707,  0.55788627,  0.45257335, -1.24418097,  0.61378472,\n",
       "        -1.17792363,  0.37050756,  0.18471736, -0.47854912,  0.87138009],\n",
       "       [-1.0543982 ,  0.08891682,  1.03514267,  0.91481012, -0.05448247,\n",
       "         0.14780461, -0.64110389,  1.3681127 , -1.30705893,  0.15690072],\n",
       "       [ 0.77789946,  0.04829617,  0.3566312 , -1.12899101, -0.36632442,\n",
       "        -0.67026252,  0.07322329, -0.04647128,  1.90487989, -0.02331745],\n",
       "       [ 1.39578907, -1.13649791, -2.5748002 , -0.52066559, -0.25386755,\n",
       "         1.91476982, -1.88664938, -0.0756999 , -0.01388247, -0.95204489],\n",
       "       [ 0.316009  , -0.56155055, -0.77160566, -0.42210203, -0.89192872,\n",
       "         1.27367473,  1.25745639,  1.02037386, -1.14312498, -0.85607763],\n",
       "       [-0.88101117,  0.22349479, -0.72544141,  0.93992338,  1.23695829,\n",
       "         0.99206067,  0.17910523, -0.36151618, -0.29473721,  0.55541539],\n",
       "       [-0.27523372,  0.08920319,  0.65668314, -0.39867113, -0.67717495,\n",
       "         0.14828422, -0.17026686, -0.92013889,  0.20801533,  0.88812576],\n",
       "       [ 0.12191859, -0.15054509, -1.51082683, -0.77311379,  0.63586379,\n",
       "         0.3259902 ,  0.53717547,  0.36219951, -0.15727929, -1.16752954],\n",
       "       [-0.62139707,  1.5228401 , -0.21538726,  0.34218481,  0.5775359 ,\n",
       "         0.08672756, -0.68881072,  0.90777205, -2.27219815,  0.40403666],\n",
       "       [ 1.45045564,  0.84776888, -0.86592854, -0.26949301,  0.39286619,\n",
       "         0.33295876, -1.10806299,  0.00809131, -1.41119875, -0.54105289],\n",
       "       [ 0.1984438 , -2.16367372, -0.37691724, -0.69360985,  0.53675091,\n",
       "         0.21998328,  0.46738842,  0.04252644, -1.21708927, -0.47799867],\n",
       "       [ 0.55386059, -0.72195437,  0.10241821,  0.34060568,  0.31319612,\n",
       "         0.84846627, -0.50657136,  0.97682361, -0.9403476 ,  0.43468877],\n",
       "       [-1.08804038,  0.47460287,  0.18533578, -0.10910713,  0.79180192,\n",
       "         1.03049911,  0.03504676,  1.32115328, -0.12563074, -1.28631909],\n",
       "       [-0.34736377, -2.19353009,  1.00512978, -0.02812093,  2.1027349 ,\n",
       "         0.17618781,  0.19251715,  0.43180145, -0.92156772, -0.99299299],\n",
       "       [ 1.1560107 ,  0.58948656,  0.96540451, -0.08634162, -0.34128893,\n",
       "         0.60748744,  1.05523096, -0.9427078 , -1.30125189,  1.80237913],\n",
       "       [ 1.2890314 , -0.7374288 ,  0.03372104, -0.96676831, -0.8249475 ,\n",
       "         0.99132017,  1.44536066, -0.16936694, -1.45581414, -1.77643406],\n",
       "       [ 1.66924068, -0.43590002, -1.23564473, -0.96118318, -1.47332268,\n",
       "         2.51319815,  0.31608584, -2.02535755, -0.07198841,  0.52493431],\n",
       "       [-0.23740239,  0.02726287, -0.99000161,  1.10210165, -0.12534702,\n",
       "         0.07462115,  1.20279935, -0.20652016, -1.24611691, -0.92203601],\n",
       "       [-1.2683029 , -1.31538382, -0.82756512,  0.00258627, -0.06833556,\n",
       "         1.23892408,  1.85894969,  2.02573039, -0.03265317,  0.1569466 ],\n",
       "       [-2.10141263, -0.20877377, -1.26551109,  0.29760596, -0.04383527,\n",
       "        -1.65131667,  0.63426961,  1.47674028, -1.16850217,  0.74614933],\n",
       "       [ 0.495331  ,  0.59535898,  0.26236481,  1.1829694 , -2.03324716,\n",
       "        -0.11542519,  0.37421176, -1.99005988,  0.41747169, -0.95919683],\n",
       "       [-0.82640163,  0.21785165,  0.44668676,  1.34169357,  1.0691261 ,\n",
       "        -0.37817234,  0.04921479, -0.38631968, -1.1849841 ,  1.13676566],\n",
       "       [-0.15049721,  0.54480852, -1.67797891,  1.05461864, -0.77339842,\n",
       "        -0.11285506, -0.51646916, -1.21511384,  0.22739046, -0.11039876],\n",
       "       [ 1.37439763,  0.46313518, -0.43148137, -0.44746795,  0.77125024,\n",
       "        -1.0940191 , -0.97732161, -0.31375516,  0.15414799,  0.36623813],\n",
       "       [ 1.49131892,  1.06276313,  0.49753426,  0.10883734,  0.41192128,\n",
       "         0.69357578,  0.03796621, -0.77833852,  1.16239358,  0.18243079],\n",
       "       [-0.84310031, -0.28055657,  0.20460344,  0.13365275, -1.16839218,\n",
       "        -0.95721104,  0.39692142, -0.98718964, -1.8973632 , -0.07671089],\n",
       "       [ 0.61881169,  1.24717464,  0.589901  ,  0.97320919,  0.79884758,\n",
       "         0.83222119, -0.45777578,  0.18621432,  0.07312053,  0.02521795],\n",
       "       [ 0.57188105, -0.0207533 , -0.29303414,  0.37795347, -0.62576584,\n",
       "         0.54205451,  0.31897919, -0.80402918,  0.28848798, -0.13690727],\n",
       "       [-0.03129856, -0.05035761,  1.00423032, -1.22719872,  0.79845913,\n",
       "        -1.05460915,  0.3416152 , -0.83176954, -0.2202629 , -0.18966341],\n",
       "       [ 1.44044006,  0.83846942, -0.07857227,  0.79849447, -0.54027953,\n",
       "         0.05518299, -1.28438555,  0.31371145,  0.35067719, -1.36715584],\n",
       "       [ 0.54199947,  0.82621972, -2.62600356, -0.44659805,  0.67937291,\n",
       "        -0.96833972,  0.6235637 ,  0.57380832, -0.03557405, -0.05473139],\n",
       "       [ 0.08654782, -0.556564  , -0.63226378, -1.12441593,  0.04111363,\n",
       "         1.21041511, -1.55171159, -1.53903221,  0.7414335 ,  1.26292512],\n",
       "       [-0.34484502, -0.47197473, -2.54211882,  0.19811199,  0.53180069,\n",
       "         1.29021808,  0.02572974,  1.00764269,  0.51489388,  1.69408962],\n",
       "       [ 0.1430167 ,  0.01370857, -0.79717927,  0.54673512, -0.18732758,\n",
       "        -0.07118536, -0.59620507,  0.53294612,  1.61816064,  0.75536245],\n",
       "       [ 0.05705777,  0.06264812,  0.43504789,  0.31234868, -0.57143474,\n",
       "        -0.21395114,  2.73261459, -0.21334622,  0.44256294, -1.69675188],\n",
       "       [-0.15797929, -0.05936013,  0.81004682, -0.08973989, -0.96043316,\n",
       "         0.4131433 ,  0.13301838, -0.9031482 ,  1.8086191 , -1.36732102],\n",
       "       [-0.05001774, -0.81493003,  1.08639896, -1.30050183, -0.75176221,\n",
       "        -1.49575685,  1.23825942, -1.71097749, -0.12839846,  0.16197159],\n",
       "       [-1.24233866,  1.81610349,  0.66861136,  1.11528369, -1.38047868,\n",
       "         0.44635261, -0.21555729, -0.35287719,  0.01024773, -1.06808089],\n",
       "       [ 0.44046717,  0.01914834, -0.12439416, -0.5711065 ,  1.04817253,\n",
       "         0.78836255, -2.08542877,  1.12628861, -0.08740292, -0.33823088],\n",
       "       [ 1.4565735 ,  0.08904322, -1.75934198,  0.46538624,  1.5020673 ,\n",
       "         0.20151337,  1.4187052 , -1.07322685,  0.53622077,  0.14357558],\n",
       "       [ 0.36971338, -0.25359206,  0.59291851,  0.69414177,  0.34207201,\n",
       "         0.58923113, -0.21819753,  0.07921553,  0.01416584,  0.77671028],\n",
       "       [-1.73990239,  0.4930234 ,  0.10097521,  1.72173073,  1.00034809,\n",
       "        -0.10057423, -0.17657678,  1.50013789,  0.53765306,  0.95547967],\n",
       "       [-2.50803623, -0.0879557 ,  0.63936044,  0.11346225, -0.27197274,\n",
       "         1.26606609,  1.71411714, -0.24214215, -0.60525334, -0.23634705],\n",
       "       [ 0.0539638 , -0.57726375,  0.29832032,  0.10231674, -1.86260267,\n",
       "         0.65716463,  0.18263067,  0.23780228,  0.21745795, -0.41835285],\n",
       "       [-0.73592058,  0.96978397, -0.82511836,  0.65471116, -1.46189151,\n",
       "        -0.6014967 ,  0.80682061, -1.57758322,  0.4698216 ,  1.44002112],\n",
       "       [ 0.73332992,  0.35903691,  0.16706331, -0.12475965, -0.61901268,\n",
       "         1.0365608 ,  0.80545793,  1.21586887, -0.06136599,  0.22870633],\n",
       "       [-1.46092117,  0.2626639 , -0.50238626, -0.89482942,  0.48118619,\n",
       "        -2.87939512,  0.47658428,  0.35122771, -1.17209071, -0.26132532],\n",
       "       [ 0.8526252 ,  0.17959812, -0.22814021,  0.32828013, -1.94939211,\n",
       "        -0.73863476, -0.73470806, -0.29671386,  1.87909575, -1.34781905],\n",
       "       [-0.64336269, -1.76677067,  0.9325888 , -1.35507192, -0.12446518,\n",
       "         0.70287001,  0.20309112,  0.41239031, -0.44825389, -0.44225023],\n",
       "       [ 0.06189269,  0.73745214, -1.26320117, -0.48036935, -0.71385422,\n",
       "         1.15572446, -0.08701439, -0.60048451,  0.11111886,  0.88460591],\n",
       "       [ 0.22774874,  0.35838703,  0.27012559, -0.06833621, -0.51853427,\n",
       "        -0.07765696,  1.37889245, -0.57162397,  1.69664693,  1.06900179],\n",
       "       [-1.07999823,  1.33667924,  0.99061121, -1.38263009, -1.11302708,\n",
       "         0.58269731, -0.38169927, -0.37182492,  0.96239329, -2.73828634],\n",
       "       [-0.66969885,  1.40633381, -0.58422249, -1.40610894, -0.58031257,\n",
       "        -0.20472541, -1.8771566 ,  0.46172287,  1.0880776 , -0.53409268],\n",
       "       [-0.30307045, -1.05738505, -0.53229064, -0.85388343,  0.87197223,\n",
       "        -0.28211201,  0.85903425,  1.43175177,  0.96607411, -0.089827  ],\n",
       "       [-1.3800603 ,  0.30257029,  0.34754948, -1.96210503, -0.97858766,\n",
       "        -1.06422413,  0.23492262,  0.13591152,  0.37013018, -0.74195104],\n",
       "       [-0.71055368,  1.93321408, -1.75328823, -0.71094145, -0.77975915,\n",
       "        -0.71425773, -0.90549086, -0.64213367,  1.55290364,  1.39173818],\n",
       "       [-0.16816429, -1.40394824, -1.32144345, -0.99404133,  0.59134782,\n",
       "         0.08721524, -0.2783688 , -0.1058439 ,  0.33294239, -0.1705392 ],\n",
       "       [ 0.61482389,  0.91370455, -1.12642442,  0.32269106,  0.34439353,\n",
       "        -0.01812394,  1.31316633,  0.22665656, -0.61327221,  0.45903851],\n",
       "       [ 0.0223667 ,  0.32085618,  0.54462243, -0.02940495,  1.30870459,\n",
       "        -1.76938734, -0.61570025, -1.63284845,  2.10204067,  0.91870929],\n",
       "       [ 0.65223148, -0.31132654, -0.59561005, -0.69971943, -0.24870011,\n",
       "        -0.19727808,  0.85287907,  0.03803895,  1.70692648, -1.91392916],\n",
       "       [-0.39913613, -0.67080924,  0.27348178, -0.08056665,  0.60414543,\n",
       "        -0.17146158, -0.39653522,  0.77481247,  0.98468741,  0.41027615],\n",
       "       [-0.83665621, -0.74446112, -0.12900289, -0.57030812,  0.50317507,\n",
       "         0.05610161,  0.15930802, -1.66825146, -0.4145974 ,  0.66680318],\n",
       "       [-1.08920735,  0.2349212 ,  0.83839648, -0.97633938,  0.88303521,\n",
       "        -1.3766368 , -0.04881222, -1.13282153, -0.12605795, -0.75532259],\n",
       "       [-1.13944952,  0.33839627, -0.42336725, -1.09497833,  0.91896787,\n",
       "        -0.14591438, -1.06776239,  0.87383543,  2.0693374 , -0.43320809],\n",
       "       [-1.14745086, -0.29729499, -0.11281799, -1.0674974 ,  0.88554047,\n",
       "        -0.56512429,  0.05308401, -0.44355079,  0.38314449, -0.46353274],\n",
       "       [-0.59132906, -0.26941757, -0.55066561, -0.96428371,  0.20055965,\n",
       "        -0.3722028 ,  1.05909668, -0.3421176 , -0.9379533 , -0.25924447],\n",
       "       [-0.90592862,  0.88268461, -0.33055047,  0.47309108,  1.45685686,\n",
       "        -0.89515663, -1.93730553, -1.20353708,  1.30075677, -0.94337948],\n",
       "       [ 0.54261291, -0.29367164,  0.93144245, -1.63560095, -0.13458207,\n",
       "        -0.61702079,  0.74886268,  0.17818084, -0.25214987, -0.22128446],\n",
       "       [ 0.07277234,  0.24373353,  0.22116106, -2.99032895, -1.07569811,\n",
       "         1.24115655, -0.092435  , -0.90235623, -0.31581367,  1.56159323],\n",
       "       [-1.14813432, -0.2847923 ,  1.22754359, -1.64394709, -0.30046259,\n",
       "         0.12158016,  0.09185789,  0.69492433, -0.94109601,  1.87933957],\n",
       "       [-1.17432847,  0.37327767, -0.73461348, -0.02810398, -0.04618585,\n",
       "        -0.63143722,  0.83238603,  1.38622126, -2.34649499, -0.42285871],\n",
       "       [ 0.91771527, -1.79109699,  1.15146484, -1.40610407, -0.30221476,\n",
       "        -1.07538782,  0.33538985,  1.20590512,  1.17813828,  0.37337301],\n",
       "       [-1.59783254,  0.97952191,  0.68994405, -1.18249841, -0.10861046,\n",
       "         1.50390244,  0.36780112, -0.59925743, -0.07572035, -1.3186632 ],\n",
       "       [ 0.35404026,  0.62711345,  1.25540671, -0.11360481, -0.6805272 ,\n",
       "         0.65910386, -0.00155102, -0.41629224,  0.49937376,  1.69883927],\n",
       "       [-1.13577442, -0.78552439, -0.85106502,  1.23258559, -0.51374574,\n",
       "         0.82048062, -0.36080274, -2.05308178, -1.65691549, -0.05145766],\n",
       "       [-0.41825503, -1.00559816,  0.43175243,  0.29369906, -0.14060631,\n",
       "         0.10995485,  0.82774193, -0.4189622 ,  0.23789731, -0.49596683],\n",
       "       [ 0.14131777,  0.56039667, -0.86812442,  0.98599523, -0.87265664,\n",
       "         0.77947858,  0.63294798, -1.66625809, -0.55623922,  0.0430862 ],\n",
       "       [-0.02046969, -1.26639909,  0.24207793, -1.97492756, -1.36453053,\n",
       "         2.17955218, -0.81357543, -1.66151337,  0.32855088, -0.15913824],\n",
       "       [ 0.3070704 ,  0.46292957, -0.78789435, -0.28077654,  0.08811379,\n",
       "         1.55431111, -0.42208584,  0.28016714,  1.05133477, -0.46652099],\n",
       "       [ 0.27543525, -0.18942439, -1.32359261,  0.37774808,  0.54298615,\n",
       "        -0.73105434, -0.69725863,  0.15671874, -0.39117228,  0.10999028],\n",
       "       [-0.65231802,  0.75371766, -0.45437773,  0.12653074, -0.16402731,\n",
       "         0.02939738,  0.61677713,  0.01858449, -0.35768072, -0.33890415],\n",
       "       [ 0.07341413,  0.61850995,  1.59196535, -0.33127323,  0.76242332,\n",
       "        -0.05198555,  1.45258951,  0.39550822,  0.02034678,  1.11620166],\n",
       "       [-0.66784723, -0.46908193,  1.16245927, -0.21537024,  1.02499282,\n",
       "        -0.06955065,  0.45543116,  0.47486446, -0.70990942, -0.96631516],\n",
       "       [-0.6523247 ,  1.15268395,  0.23251325, -0.52631095, -0.97837684,\n",
       "         1.55355541,  0.44114154, -2.79498123,  0.17238039, -0.74001086],\n",
       "       [-1.22823046,  0.25656753,  0.45318021, -0.02420087, -0.35414465,\n",
       "         1.19025206, -0.43876924, -2.25583894, -0.53258281,  0.20782636],\n",
       "       [-0.51206537,  1.08472068,  0.89203781, -1.21408808, -1.45388877,\n",
       "         1.70718426,  1.56829614,  1.48861699,  0.77053845, -0.00594787],\n",
       "       [ 2.46638318, -1.40385455, -0.57929605, -1.07480192, -0.33484735,\n",
       "         0.99521054,  2.01632718, -1.43566503, -1.79982213,  1.0053519 ],\n",
       "       [-0.20408112,  1.76572551,  0.87029556,  1.14254841,  0.33320146,\n",
       "         1.52963054, -0.46329912, -0.62618814,  1.00678367,  0.5430381 ],\n",
       "       [ 0.21830708,  0.8260737 ,  0.42982775,  0.2068217 ,  0.33704647,\n",
       "        -0.58310294,  0.10531599,  0.2825143 ,  0.93555808,  0.12220317],\n",
       "       [ 0.56323488, -1.27691283,  0.20691505,  0.91888048, -0.13912104,\n",
       "         0.61307835, -0.65915353, -0.80379101, -0.19780535,  0.89348027],\n",
       "       [-1.39635554,  0.36318541, -1.59688219,  2.20259003,  0.77439796,\n",
       "         1.02455448,  0.62948346, -1.06164996,  0.96472187, -0.51476413],\n",
       "       [ 2.07928611,  0.75575243,  1.07451799, -0.29367535,  2.0047095 ,\n",
       "        -0.71590444, -0.62732704, -0.63143611, -1.11205679, -0.37086553],\n",
       "       [ 2.002364  , -0.13620204,  0.30185025,  1.93971188, -0.82451335,\n",
       "         0.97227896,  1.84434229,  0.47205866, -1.77094752, -1.55292703],\n",
       "       [-0.30715847, -0.465279  ,  0.92299074,  1.14469193,  1.10542858,\n",
       "        -0.61980979, -0.88864195, -0.87151838,  0.90346489, -0.95327774]])"
      ]
     },
     "execution_count": 2,
     "metadata": {},
     "output_type": "execute_result"
    }
   ],
   "source": [
    "import numpy as np\n",
    "np.set_printoptions(suppress=True)\n",
    "np.random.randn(100, 10)"
   ]
  },
  {
   "cell_type": "code",
   "execution_count": null,
   "metadata": {},
   "outputs": [],
   "source": []
  }
 ],
 "metadata": {
  "kernelspec": {
   "display_name": "Python 3 (ipykernel)",
   "language": "python",
   "name": "python3"
  },
  "language_info": {
   "codemirror_mode": {
    "name": "ipython",
    "version": 3
   },
   "file_extension": ".py",
   "mimetype": "text/x-python",
   "name": "python",
   "nbconvert_exporter": "python",
   "pygments_lexer": "ipython3",
   "version": "3.8.8"
  },
  "toc": {
   "base_numbering": 1,
   "nav_menu": {},
   "number_sections": true,
   "sideBar": true,
   "skip_h1_title": false,
   "title_cell": "Table of Contents",
   "title_sidebar": "Contents",
   "toc_cell": false,
   "toc_position": {},
   "toc_section_display": true,
   "toc_window_display": false
  }
 },
 "nbformat": 4,
 "nbformat_minor": 4
}
