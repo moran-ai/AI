{
 "cells": [
  {
   "cell_type": "code",
   "execution_count": 2,
   "metadata": {},
   "outputs": [],
   "source": [
    "import seaborn as sns\n",
    "import numpy as np\n",
    "import pandas as pd\n",
    "import matplotlib.pyplot as plt"
   ]
  },
  {
   "cell_type": "code",
   "execution_count": 10,
   "metadata": {},
   "outputs": [
    {
     "data": {
      "text/html": [
       "<div>\n",
       "<style scoped>\n",
       "    .dataframe tbody tr th:only-of-type {\n",
       "        vertical-align: middle;\n",
       "    }\n",
       "\n",
       "    .dataframe tbody tr th {\n",
       "        vertical-align: top;\n",
       "    }\n",
       "\n",
       "    .dataframe thead th {\n",
       "        text-align: right;\n",
       "    }\n",
       "</style>\n",
       "<table border=\"1\" class=\"dataframe\">\n",
       "  <thead>\n",
       "    <tr style=\"text-align: right;\">\n",
       "      <th></th>\n",
       "      <th>姓名</th>\n",
       "      <th>基金规模</th>\n",
       "      <th>基金收益</th>\n",
       "    </tr>\n",
       "  </thead>\n",
       "  <tbody>\n",
       "    <tr>\n",
       "      <th>2361</th>\n",
       "      <td>朱少醒</td>\n",
       "      <td>306.81</td>\n",
       "      <td>20.8204</td>\n",
       "    </tr>\n",
       "    <tr>\n",
       "      <th>1946</th>\n",
       "      <td>杨谷</td>\n",
       "      <td>34.82</td>\n",
       "      <td>7.3950</td>\n",
       "    </tr>\n",
       "    <tr>\n",
       "      <th>1911</th>\n",
       "      <td>谢治宇</td>\n",
       "      <td>597.58</td>\n",
       "      <td>7.1091</td>\n",
       "    </tr>\n",
       "    <tr>\n",
       "      <th>2255</th>\n",
       "      <td>张坤</td>\n",
       "      <td>1197.46</td>\n",
       "      <td>6.8180</td>\n",
       "    </tr>\n",
       "    <tr>\n",
       "      <th>55</th>\n",
       "      <td>陈军</td>\n",
       "      <td>34.63</td>\n",
       "      <td>5.5464</td>\n",
       "    </tr>\n",
       "    <tr>\n",
       "      <th>1482</th>\n",
       "      <td>魏博</td>\n",
       "      <td>20.15</td>\n",
       "      <td>5.1685</td>\n",
       "    </tr>\n",
       "    <tr>\n",
       "      <th>96</th>\n",
       "      <td>曹名长</td>\n",
       "      <td>54.68</td>\n",
       "      <td>5.0194</td>\n",
       "    </tr>\n",
       "    <tr>\n",
       "      <th>1836</th>\n",
       "      <td>萧楠</td>\n",
       "      <td>626.39</td>\n",
       "      <td>5.0119</td>\n",
       "    </tr>\n",
       "    <tr>\n",
       "      <th>1393</th>\n",
       "      <td>孙伟</td>\n",
       "      <td>233.79</td>\n",
       "      <td>4.9482</td>\n",
       "    </tr>\n",
       "    <tr>\n",
       "      <th>1320</th>\n",
       "      <td>孙芳</td>\n",
       "      <td>99.72</td>\n",
       "      <td>4.8885</td>\n",
       "    </tr>\n",
       "  </tbody>\n",
       "</table>\n",
       "</div>"
      ],
      "text/plain": [
       "       姓名     基金规模     基金收益\n",
       "2361  朱少醒   306.81  20.8204\n",
       "1946   杨谷    34.82   7.3950\n",
       "1911  谢治宇   597.58   7.1091\n",
       "2255   张坤  1197.46   6.8180\n",
       "55     陈军    34.63   5.5464\n",
       "1482   魏博    20.15   5.1685\n",
       "96    曹名长    54.68   5.0194\n",
       "1836   萧楠   626.39   5.0119\n",
       "1393   孙伟   233.79   4.9482\n",
       "1320   孙芳    99.72   4.8885"
      ]
     },
     "metadata": {},
     "output_type": "display_data"
    },
    {
     "data": {
      "image/png": "[encoded data removed]",
      "text/plain": [
       "<Figure size 648x432 with 1 Axes>"
      ]
     },
     "metadata": {},
     "output_type": "display_data"
    }
   ],
   "source": [
    "df=pd.read_excel('fund.xlsx')\n",
    "df['基金规模']=df['基金规模'].str.extract(r'(\\d+.\\d+)')\n",
    "df.dropna(how = 'any')\n",
    "df['基金规模']=df['基金规模'].astype(float)\n",
    "s=df['基金收益'].str.extract(r'(\\d+.\\d+)')\n",
    "df.dropna(how = 'any')\n",
    "s=s.astype(float)/100\n",
    "df['基金收益']=s\n",
    "df.head()\n",
    "df.sort_values(\"基金收益\",ascending=False,inplace=True)\n",
    "s=df.head(10)\n",
    "s=df[['姓名','基金规模','基金收益']].head(10)\n",
    "plt.figure(figsize = (9,6))\n",
    "display(s)\n",
    "y=s['姓名']\n",
    "x=s['基金收益']\n",
    "sns.set(style = 'whitegrid')\n",
    "# print(s['基金规模'])\n",
    "sns.barplot(x,y,data=s)\n",
    "plt.rcParams['font.sans-serif']=['SimHei']\n",
    "# s1=s['基金规模']\n",
    "# X = s['基金收益'].astype(float)\n",
    "# S = s1.astype(float)\n",
    "# plt.text(x=X,y=y,s=S)\n",
    "a = s['基金规模']\n",
    "for i in range(10):\n",
    "    s1=s['基金规模']\n",
    "#     print(list(s1)[i])\n",
    "    plt.text(x=list(s['基金收益'])[i],y=i,s=list(s1)[i])"
   ]
  },
  {
   "cell_type": "code",
   "execution_count": 5,
   "metadata": {},
   "outputs": [
    {
     "name": "stdout",
     "output_type": "stream",
     "text": [
      "Collecting xlrd\n",
      "  Downloading xlrd-2.0.1-py2.py3-none-any.whl (96 kB)\n",
      "Installing collected packages: xlrd\n",
      "Successfully installed xlrd-2.0.1\n"
     ]
    }
   ],
   "source": [
    "!pip install xlrd"
   ]
  },
  {
   "cell_type": "code",
   "execution_count": null,
   "metadata": {},
   "outputs": [],
   "source": []
  }
 ],
 "metadata": {
  "kernelspec": {
   "display_name": "Python 3",
   "language": "python",
   "name": "python3"
  },
  "language_info": {
   "codemirror_mode": {
    "name": "ipython",
    "version": 3
   },
   "file_extension": ".py",
   "mimetype": "text/x-python",
   "name": "python",
   "nbconvert_exporter": "python",
   "pygments_lexer": "ipython3",
   "version": "3.7.3"
  },
  "toc": {
   "base_numbering": 1,
   "nav_menu": {},
   "number_sections": true,
   "sideBar": true,
   "skip_h1_title": false,
   "title_cell": "Table of Contents",
   "title_sidebar": "Contents",
   "toc_cell": false,
   "toc_position": {},
   "toc_section_display": true,
   "toc_window_display": false
  }
 },
 "nbformat": 4,
 "nbformat_minor": 2
}
