{
 "cells": [
  {
   "cell_type": "markdown",
   "id": "colonial-hurricane",
   "metadata": {},
   "source": [
    "### One-Vs-Rest\n",
    "\n",
    "One-Vs-Rest（ovr）的思想是把一个多分类的问题变成多个二分类的问题\n",
    "\n",
    "<b>这里需要注意的是ovr依然使用sigmoid函数的计算公式</b>\n",
    "\n",
    "* 优点：普适性还比较广，可以应用于能输出值或者概率的分类器，同时效率相对较好，有多少个类别就训练多少个分类器。\n",
    "\n",
    "* 缺点：很容易造成训练集样本数量的不平衡（Unbalance），尤其在类别较多的情况下，经常容易出现正类样本的数量远远不及负类样本的数量，这样就会造成分类器的偏向性。"
   ]
  },
  {
   "cell_type": "code",
   "execution_count": 11,
   "id": "monetary-single",
   "metadata": {},
   "outputs": [],
   "source": [
    "import numpy as np\n",
    "import matplotlib.pyplot as plt \n",
    "from sklearn.linear_model import LogisticRegression\n",
    "from sklearn import datasets\n",
    "from sklearn.model_selection import train_test_split"
   ]
  },
  {
   "cell_type": "code",
   "execution_count": 12,
   "id": "domestic-uncertainty",
   "metadata": {},
   "outputs": [
    {
     "data": {
      "text/plain": [
       "(120, 4)"
      ]
     },
     "metadata": {},
     "output_type": "display_data"
    },
    {
     "data": {
      "text/plain": [
       "(30, 4)"
      ]
     },
     "metadata": {},
     "output_type": "display_data"
    },
    {
     "data": {
      "text/plain": [
       "(120,)"
      ]
     },
     "metadata": {},
     "output_type": "display_data"
    },
    {
     "data": {
      "text/plain": [
       "(30,)"
      ]
     },
     "metadata": {},
     "output_type": "display_data"
    }
   ],
   "source": [
    "X, y = datasets.load_iris(return_X_y=True)  # 150个样本， 3个类别\n",
    "X_train, X_test, y_train, y_test = train_test_split(X, y, test_size=0.2, random_state=1024)  # random_state=1024 随机打乱固定数据\n",
    "display(X_train.shape, X_test.shape)\n",
    "display(y_train.shape, y_test.shape)"
   ]
  },
  {
   "cell_type": "code",
   "execution_count": 13,
   "id": "connected-absolute",
   "metadata": {},
   "outputs": [
    {
     "data": {
      "text/plain": [
       "array([0, 0, 0, 0, 0, 0, 0, 0, 0, 0, 0, 0, 0, 0, 0, 0, 0, 0, 0, 0, 0, 0,\n",
       "       0, 0, 0, 0, 0, 0, 0, 0, 0, 0, 0, 0, 0, 0, 0, 0, 0, 0, 0, 0, 0, 0,\n",
       "       0, 0, 0, 0, 0, 0, 1, 1, 1, 1, 1, 1, 1, 1, 1, 1, 1, 1, 1, 1, 1, 1,\n",
       "       1, 1, 1, 1, 1, 1, 1, 1, 1, 1, 1, 1, 1, 1, 1, 1, 1, 1, 1, 1, 1, 1,\n",
       "       1, 1, 1, 1, 1, 1, 1, 1, 1, 1, 1, 1, 2, 2, 2, 2, 2, 2, 2, 2, 2, 2,\n",
       "       2, 2, 2, 2, 2, 2, 2, 2, 2, 2, 2, 2, 2, 2, 2, 2, 2, 2, 2, 2, 2, 2,\n",
       "       2, 2, 2, 2, 2, 2, 2, 2, 2, 2, 2, 2, 2, 2, 2, 2, 2, 2])"
      ]
     },
     "execution_count": 13,
     "metadata": {},
     "output_type": "execute_result"
    }
   ],
   "source": [
    "y"
   ]
  },
  {
   "cell_type": "markdown",
   "id": "dominican-spokesman",
   "metadata": {},
   "source": [
    "#### ovr建模"
   ]
  },
  {
   "cell_type": "code",
   "execution_count": 15,
   "id": "compatible-tyler",
   "metadata": {},
   "outputs": [
    {
     "data": {
      "text/plain": [
       "array([1, 0, 2, 2, 0, 0, 1, 2, 1, 0])"
      ]
     },
     "metadata": {},
     "output_type": "display_data"
    },
    {
     "data": {
      "text/plain": [
       "array([1, 0, 2, 2, 0, 0, 1, 2, 1, 0])"
      ]
     },
     "metadata": {},
     "output_type": "display_data"
    },
    {
     "name": "stdout",
     "output_type": "stream",
     "text": [
      "ovr的准确率为： 1.0\n"
     ]
    }
   ],
   "source": [
    "\"\"\"\n",
    "multi_class : {'auto', 'ovr', 'multinomial'}\n",
    "auto:默认的参数，根据数据来决定数二分类还是多分类\n",
    "ovr:指定为多分类\n",
    "multinomial:多项式\n",
    "\"\"\"\n",
    "# 准确率\n",
    "from sklearn.metrics import accuracy_score\n",
    "model = LogisticRegression(multi_class='ovr')\n",
    "model.fit(X_train, y_train)\n",
    "y_pred = model.predict(X_test)\n",
    "display(y_test[:10], y_pred[:10])\n",
    "print('ovr的准确率为：', model.score(X_test, y_test))"
   ]
  },
  {
   "cell_type": "code",
   "execution_count": 49,
   "id": "psychological-complexity",
   "metadata": {},
   "outputs": [
    {
     "data": {
      "text/plain": [
       "1.0"
      ]
     },
     "execution_count": 49,
     "metadata": {},
     "output_type": "execute_result"
    }
   ],
   "source": [
    "accuracy_score(y_test, y_pred)"
   ]
  },
  {
   "cell_type": "code",
   "execution_count": 52,
   "id": "egyptian-teach",
   "metadata": {},
   "outputs": [
    {
     "data": {
      "text/plain": [
       "1.0"
      ]
     },
     "execution_count": 52,
     "metadata": {},
     "output_type": "execute_result"
    }
   ],
   "source": [
    "(y_test == y_pred).sum() / 30"
   ]
  },
  {
   "cell_type": "markdown",
   "id": "damaged-florist",
   "metadata": {},
   "source": [
    "#### 概率预测"
   ]
  },
  {
   "cell_type": "code",
   "execution_count": 55,
   "id": "mounted-disposal",
   "metadata": {},
   "outputs": [
    {
     "data": {
      "text/plain": [
       "array([1, 0, 2, 2, 0, 0, 1, 2, 1, 0])"
      ]
     },
     "execution_count": 55,
     "metadata": {},
     "output_type": "execute_result"
    }
   ],
   "source": [
    "y_pred[:10]"
   ]
  },
  {
   "cell_type": "code",
   "execution_count": 54,
   "id": "obvious-repository",
   "metadata": {},
   "outputs": [
    {
     "data": {
      "text/plain": [
       "array([[0.15343204, 0.83995038, 0.00661758],\n",
       "       [0.81155421, 0.18843433, 0.00001146],\n",
       "       [0.00001368, 0.31458264, 0.68540369],\n",
       "       [0.00087407, 0.43021069, 0.56891524],\n",
       "       [0.79198737, 0.2080071 , 0.00000553],\n",
       "       [0.86110144, 0.13889478, 0.00000378],\n",
       "       [0.00650175, 0.84071974, 0.1527785 ],\n",
       "       [0.00019224, 0.19356487, 0.80624289],\n",
       "       [0.01379238, 0.65811053, 0.32809708],\n",
       "       [0.84337093, 0.15662392, 0.00000516]])"
      ]
     },
     "execution_count": 54,
     "metadata": {},
     "output_type": "execute_result"
    }
   ],
   "source": [
    "np.set_printoptions(suppress=True)\n",
    "proba = model.predict_proba(X_test)  # 在使用predict_proba函数时，进行了归一化，所以后面进行手动计算时也需要对数据进行归一化\n",
    "proba[:10]"
   ]
  },
  {
   "cell_type": "markdown",
   "id": "special-conversation",
   "metadata": {},
   "source": [
    "#### 概率手动计算"
   ]
  },
  {
   "cell_type": "code",
   "execution_count": 60,
   "id": "bearing-programming",
   "metadata": {},
   "outputs": [
    {
     "data": {
      "text/plain": [
       "(150, 4)"
      ]
     },
     "execution_count": 60,
     "metadata": {},
     "output_type": "execute_result"
    }
   ],
   "source": [
    "X.shape  # 150个样本  4个特征 花萼长，宽，花瓣 长宽"
   ]
  },
  {
   "cell_type": "code",
   "execution_count": 61,
   "id": "smaller-schedule",
   "metadata": {},
   "outputs": [
    {
     "data": {
      "text/plain": [
       "array([[-0.45418407,  0.77862646, -2.2268873 , -0.87662661],\n",
       "       [-0.41614677, -1.98168225,  0.82180991, -1.2628189 ],\n",
       "       [-0.28832573, -0.49869581,  2.70303022,  2.23465912]])"
      ]
     },
     "metadata": {},
     "output_type": "display_data"
    },
    {
     "data": {
      "text/plain": [
       "array([  6.82628324,   6.16028196, -13.72510278])"
      ]
     },
     "metadata": {},
     "output_type": "display_data"
    }
   ],
   "source": [
    "# ovr依然使用sigmod函数\n",
    "def sigmoid(X):\n",
    "    return 1 / (1 + np.exp(-X))\n",
    "\n",
    "\"\"\"\n",
    "有几个类别，就有几个分类器，分类器也就是线性方程\n",
    "鸢尾花有三个类别 0,1,2 那么就会有3行  因为有四个特征，所以就会有4列\n",
    "这里的每个方程有4个系数\n",
    "\"\"\"\n",
    "b = model.intercept_\n",
    "\n",
    "# 方程系数  系数由属性决定\n",
    "w = model.coef_  \n",
    "display(w, b)"
   ]
  },
  {
   "cell_type": "code",
   "execution_count": 62,
   "id": "legitimate-automation",
   "metadata": {},
   "outputs": [
    {
     "data": {
      "text/plain": [
       "(30, 4)"
      ]
     },
     "execution_count": 62,
     "metadata": {},
     "output_type": "execute_result"
    }
   ],
   "source": [
    "X_test.shape  # 一行4个数据 4列"
   ]
  },
  {
   "cell_type": "code",
   "execution_count": 63,
   "id": "mechanical-albert",
   "metadata": {},
   "outputs": [
    {
     "data": {
      "text/plain": [
       "(3, 4)"
      ]
     },
     "execution_count": 63,
     "metadata": {},
     "output_type": "execute_result"
    }
   ],
   "source": [
    "w.shape # 一列 有3个数据"
   ]
  },
  {
   "cell_type": "code",
   "execution_count": 66,
   "id": "cellular-cycle",
   "metadata": {},
   "outputs": [],
   "source": [
    "y = X_test.dot(w.T) + b  # 进行矩阵乘法时，进行行乘以列"
   ]
  },
  {
   "cell_type": "code",
   "execution_count": 74,
   "id": "noted-given",
   "metadata": {},
   "outputs": [
    {
     "data": {
      "text/plain": [
       "array([[0.15343204, 0.83995038, 0.00661758],\n",
       "       [0.81155421, 0.18843433, 0.00001146],\n",
       "       [0.00001368, 0.31458264, 0.68540369],\n",
       "       [0.00087407, 0.43021069, 0.56891524],\n",
       "       [0.79198737, 0.2080071 , 0.00000553],\n",
       "       [0.86110144, 0.13889478, 0.00000378],\n",
       "       [0.00650175, 0.84071974, 0.1527785 ],\n",
       "       [0.00019224, 0.19356487, 0.80624289],\n",
       "       [0.01379238, 0.65811053, 0.32809708],\n",
       "       [0.84337093, 0.15662392, 0.00000516]])"
      ]
     },
     "execution_count": 74,
     "metadata": {},
     "output_type": "execute_result"
    }
   ],
   "source": [
    "p = sigmoid(y)\n",
    "p = p / p.sum(axis=1).reshape(-1, 1) # 归一化\n",
    "p[:10]"
   ]
  },
  {
   "cell_type": "markdown",
   "id": "behavioral-contest",
   "metadata": {},
   "source": [
    "### Softmax\n",
    "\n",
    "将数据变为概率，数据越大，概率就越大\n",
    "\n",
    "计算公式： $y = e^x / \\sum\\limits_{j = 1}^ke^x$"
   ]
  },
  {
   "cell_type": "code",
   "execution_count": 77,
   "id": "answering-client",
   "metadata": {},
   "outputs": [
    {
     "data": {
      "text/plain": [
       "array([0.87887824, 0.11894324, 0.00217852])"
      ]
     },
     "execution_count": 77,
     "metadata": {},
     "output_type": "execute_result"
    }
   ],
   "source": [
    "def softmax(z):\n",
    "    return np.exp(z) / np.exp(z).sum()\n",
    "\n",
    "z = [3, 1, -3]\n",
    "softmax(z)"
   ]
  },
  {
   "cell_type": "code",
   "execution_count": 78,
   "id": "spanish-garbage",
   "metadata": {},
   "outputs": [],
   "source": [
    "import numpy as np \n",
    "from sklearn import datasets\n",
    "from sklearn.linear_model import LogisticRegression\n",
    "from sklearn.model_selection import train_test_split"
   ]
  },
  {
   "cell_type": "code",
   "execution_count": 82,
   "id": "brown-fireplace",
   "metadata": {},
   "outputs": [
    {
     "data": {
      "text/plain": [
       "(120, 4)"
      ]
     },
     "metadata": {},
     "output_type": "display_data"
    },
    {
     "data": {
      "text/plain": [
       "(30, 4)"
      ]
     },
     "metadata": {},
     "output_type": "display_data"
    },
    {
     "data": {
      "text/plain": [
       "(120,)"
      ]
     },
     "metadata": {},
     "output_type": "display_data"
    },
    {
     "data": {
      "text/plain": [
       "(30,)"
      ]
     },
     "metadata": {},
     "output_type": "display_data"
    }
   ],
   "source": [
    "X, y = datasets.load_iris(return_X_y=True)\n",
    "X_train, X_test, y_train, y_test = train_test_split(X, y, test_size=0.2, random_state=1024)\n",
    "display(X_train.shape, X_test.shape)\n",
    "display(y_train.shape, y_test.shape)"
   ]
  },
  {
   "cell_type": "code",
   "execution_count": 83,
   "id": "private-modern",
   "metadata": {},
   "outputs": [
    {
     "data": {
      "text/plain": [
       "(150, 4)"
      ]
     },
     "execution_count": 83,
     "metadata": {},
     "output_type": "execute_result"
    }
   ],
   "source": [
    "X.shape"
   ]
  },
  {
   "cell_type": "code",
   "execution_count": 84,
   "id": "included-tolerance",
   "metadata": {},
   "outputs": [
    {
     "data": {
      "text/plain": [
       "array([0, 0, 0, 0, 0, 0, 0, 0, 0, 0, 0, 0, 0, 0, 0, 0, 0, 0, 0, 0, 0, 0,\n",
       "       0, 0, 0, 0, 0, 0, 0, 0, 0, 0, 0, 0, 0, 0, 0, 0, 0, 0, 0, 0, 0, 0,\n",
       "       0, 0, 0, 0, 0, 0, 1, 1, 1, 1, 1, 1, 1, 1, 1, 1, 1, 1, 1, 1, 1, 1,\n",
       "       1, 1, 1, 1, 1, 1, 1, 1, 1, 1, 1, 1, 1, 1, 1, 1, 1, 1, 1, 1, 1, 1,\n",
       "       1, 1, 1, 1, 1, 1, 1, 1, 1, 1, 1, 1, 2, 2, 2, 2, 2, 2, 2, 2, 2, 2,\n",
       "       2, 2, 2, 2, 2, 2, 2, 2, 2, 2, 2, 2, 2, 2, 2, 2, 2, 2, 2, 2, 2, 2,\n",
       "       2, 2, 2, 2, 2, 2, 2, 2, 2, 2, 2, 2, 2, 2, 2, 2, 2, 2])"
      ]
     },
     "execution_count": 84,
     "metadata": {},
     "output_type": "execute_result"
    }
   ],
   "source": [
    "y"
   ]
  },
  {
   "cell_type": "markdown",
   "id": "structured-zoning",
   "metadata": {},
   "source": [
    "#### 模型训练和预测"
   ]
  },
  {
   "cell_type": "code",
   "execution_count": 88,
   "id": "selective-hepatitis",
   "metadata": {},
   "outputs": [
    {
     "name": "stdout",
     "output_type": "stream",
     "text": [
      "softmax预测的准确率为： 1.0\n",
      "softmax预测测试数据的准确率为：\n",
      " [[0.1530188  0.84270328 0.00427793]\n",
      " [0.94519984 0.05479963 0.00000053]\n",
      " [0.00000014 0.00672261 0.99327725]\n",
      " [0.00040995 0.16393254 0.83565752]\n",
      " [0.96771734 0.0322825  0.00000016]]\n"
     ]
    },
    {
     "name": "stderr",
     "output_type": "stream",
     "text": [
      "e:\\envs\\jupy_env\\lib\\site-packages\\sklearn\\linear_model\\_logistic.py:765: ConvergenceWarning: lbfgs failed to converge (status=1):\n",
      "STOP: TOTAL NO. of ITERATIONS REACHED LIMIT.\n",
      "\n",
      "Increase the number of iterations (max_iter) or scale the data as shown in:\n",
      "    https://scikit-learn.org/stable/modules/preprocessing.html\n",
      "Please also refer to the documentation for alternative solver options:\n",
      "    https://scikit-learn.org/stable/modules/linear_model.html#logistic-regression\n",
      "  extra_warning_msg=_LOGISTIC_SOLVER_CONVERGENCE_MSG)\n"
     ]
    }
   ],
   "source": [
    "model = LogisticRegression(multi_class='multinomial')  # 使用softmax\n",
    "model.fit(X_train, y_train)\n",
    "y_pred = model.score(X_test, y_test)\n",
    "print('softmax预测的准确率为：', y_pred)\n",
    "print('softmax预测测试数据的准确率为：\\n', model.predict_proba(X_test)[:5])"
   ]
  },
  {
   "cell_type": "markdown",
   "id": "subject-baltimore",
   "metadata": {},
   "source": [
    "#### 概率手动计算"
   ]
  },
  {
   "cell_type": "code",
   "execution_count": 89,
   "id": "through-clock",
   "metadata": {},
   "outputs": [],
   "source": [
    "w = model.coef_\n",
    "b = model.intercept_"
   ]
  },
  {
   "cell_type": "code",
   "execution_count": 95,
   "id": "timely-recipe",
   "metadata": {},
   "outputs": [
    {
     "data": {
      "text/plain": [
       "array([[0.1530188 , 0.84270328, 0.00427793],\n",
       "       [0.94519984, 0.05479963, 0.00000053],\n",
       "       [0.00000014, 0.00672261, 0.99327725],\n",
       "       [0.00040995, 0.16393254, 0.83565752],\n",
       "       [0.96771734, 0.0322825 , 0.00000016]])"
      ]
     },
     "execution_count": 95,
     "metadata": {},
     "output_type": "execute_result"
    }
   ],
   "source": [
    "def sofmax(z):\n",
    "    return np.exp(z) / np.exp(z).sum(axis=1).reshape(-1, 1)\n",
    "\n",
    "y = X_test.dot(w.T) + b\n",
    "sofmax(y)[:5]"
   ]
  },
  {
   "cell_type": "markdown",
   "id": "together-reviewer",
   "metadata": {},
   "source": [
    "## softmax实现手写数字分类 "
   ]
  },
  {
   "cell_type": "code",
   "execution_count": 3,
   "id": "understood-signature",
   "metadata": {},
   "outputs": [],
   "source": [
    "import pandas as pd \n",
    "import numpy as np \n",
    "import matplotlib.pyplot as plt\n",
    "from sklearn.linear_model import  LogisticRegression\n",
    "from sklearn.model_selection import train_test_split\n",
    "from sklearn import datasets"
   ]
  },
  {
   "cell_type": "markdown",
   "id": "convenient-parameter",
   "metadata": {},
   "source": [
    "### 加载数据"
   ]
  },
  {
   "cell_type": "code",
   "execution_count": 4,
   "id": "mediterranean-robert",
   "metadata": {},
   "outputs": [
    {
     "data": {
      "text/plain": [
       "(42000, 784)"
      ]
     },
     "metadata": {},
     "output_type": "display_data"
    },
    {
     "data": {
      "text/plain": [
       "(42000,)"
      ]
     },
     "metadata": {},
     "output_type": "display_data"
    }
   ],
   "source": [
    "data = pd.read_csv('digits.csv')\n",
    "X = data.drop('label', axis=1)\n",
    "y = data['label']\n",
    "display(X.shape, y.shape)"
   ]
  },
  {
   "cell_type": "markdown",
   "id": "major-antibody",
   "metadata": {},
   "source": [
    "### 划分训练集和测试集"
   ]
  },
  {
   "cell_type": "code",
   "execution_count": 5,
   "id": "provincial-columbia",
   "metadata": {},
   "outputs": [
    {
     "data": {
      "text/plain": [
       "(33600, 784)"
      ]
     },
     "metadata": {},
     "output_type": "display_data"
    },
    {
     "data": {
      "text/plain": [
       "(8400, 784)"
      ]
     },
     "metadata": {},
     "output_type": "display_data"
    },
    {
     "data": {
      "text/plain": [
       "(33600,)"
      ]
     },
     "metadata": {},
     "output_type": "display_data"
    },
    {
     "data": {
      "text/plain": [
       "(8400,)"
      ]
     },
     "metadata": {},
     "output_type": "display_data"
    }
   ],
   "source": [
    "X_train, X_test, y_train, y_test = train_test_split(X, y, test_size=0.2)\n",
    "display(X_train.shape, X_test.shape, y_train.shape, y_test.shape)"
   ]
  },
  {
   "cell_type": "markdown",
   "id": "forced-scroll",
   "metadata": {},
   "source": [
    "### 训练模型"
   ]
  },
  {
   "cell_type": "code",
   "execution_count": 96,
   "id": "balanced-berlin",
   "metadata": {},
   "outputs": [
    {
     "name": "stderr",
     "output_type": "stream",
     "text": [
      "e:\\envs\\jupy_env\\lib\\site-packages\\sklearn\\linear_model\\_sag.py:329: ConvergenceWarning: The max_iter was reached which means the coef_ did not converge\n",
      "  \"the coef_ did not converge\", ConvergenceWarning)\n"
     ]
    },
    {
     "data": {
      "text/plain": [
       "LogisticRegression(multi_class='multinomial', solver='sag')"
      ]
     },
     "execution_count": 96,
     "metadata": {},
     "output_type": "execute_result"
    }
   ],
   "source": [
    "model = LogisticRegression(multi_class='multinomial', max_iter=100, solver='sag')\n",
    "model.fit(X_train, y_train)"
   ]
  },
  {
   "cell_type": "code",
   "execution_count": 101,
   "id": "bronze-burns",
   "metadata": {},
   "outputs": [],
   "source": [
    "y_pred = model.predict(X_test)"
   ]
  },
  {
   "cell_type": "code",
   "execution_count": 102,
   "id": "basic-seattle",
   "metadata": {},
   "outputs": [
    {
     "name": "stdout",
     "output_type": "stream",
     "text": [
      "概率为：\n",
      " [[0.         0.00000288 0.99986224 0.00009269 0.         0.00000203\n",
      "  0.00000657 0.         0.00003359 0.        ]\n",
      " [0.00000001 0.         0.00041588 0.9995087  0.         0.0000457\n",
      "  0.         0.00000003 0.00002878 0.0000009 ]\n",
      " [0.         0.00000002 0.00000003 0.0000003  0.00480793 0.00000015\n",
      "  0.         0.00000053 0.00003682 0.99515421]\n",
      " [0.000003   0.0000298  0.00000278 0.00001352 0.99757672 0.00000132\n",
      "  0.00003778 0.00005927 0.00015842 0.0021174 ]\n",
      " [0.00000655 0.00000108 0.0067361  0.00106266 0.00000002 0.0006547\n",
      "  0.00004334 0.         0.9914699  0.00002565]]\n",
      "准确率： 0.9108333333333334\n"
     ]
    }
   ],
   "source": [
    "# np.set_printoptions(suppress=True)\n",
    "print('概率为：\\n', model.predict_proba(X_test)[:5])\n",
    "print('准确率：', model.score(X_test, y_test))"
   ]
  },
  {
   "cell_type": "code",
   "execution_count": 103,
   "id": "middle-billion",
   "metadata": {},
   "outputs": [],
   "source": [
    "w = model.coef_ # 10个方程， 784个系数 10个截距"
   ]
  },
  {
   "cell_type": "code",
   "execution_count": 104,
   "id": "separate-workshop",
   "metadata": {},
   "outputs": [],
   "source": [
    "b = model.intercept_"
   ]
  },
  {
   "cell_type": "markdown",
   "id": "accomplished-register",
   "metadata": {},
   "source": [
    "#### 手动实现概率的计算"
   ]
  },
  {
   "cell_type": "code",
   "execution_count": 105,
   "id": "helpful-attack",
   "metadata": {},
   "outputs": [
    {
     "data": {
      "text/plain": [
       "(8400, 784)"
      ]
     },
     "execution_count": 105,
     "metadata": {},
     "output_type": "execute_result"
    }
   ],
   "source": [
    "X_test.shape"
   ]
  },
  {
   "cell_type": "code",
   "execution_count": 106,
   "id": "central-aviation",
   "metadata": {},
   "outputs": [
    {
     "data": {
      "text/plain": [
       "(10, 784)"
      ]
     },
     "execution_count": 106,
     "metadata": {},
     "output_type": "execute_result"
    }
   ],
   "source": [
    "w.shape"
   ]
  },
  {
   "cell_type": "code",
   "execution_count": 107,
   "id": "cheap-worker",
   "metadata": {},
   "outputs": [],
   "source": [
    "z = X_test.dot(w.T) + b"
   ]
  },
  {
   "cell_type": "code",
   "execution_count": 108,
   "id": "persistent-subcommittee",
   "metadata": {},
   "outputs": [],
   "source": [
    "np.set_printoptions(suppress=True)"
   ]
  },
  {
   "cell_type": "code",
   "execution_count": 109,
   "id": "promising-anderson",
   "metadata": {},
   "outputs": [
    {
     "data": {
      "text/html": [
       "<div>\n",
       "<style scoped>\n",
       "    .dataframe tbody tr th:only-of-type {\n",
       "        vertical-align: middle;\n",
       "    }\n",
       "\n",
       "    .dataframe tbody tr th {\n",
       "        vertical-align: top;\n",
       "    }\n",
       "\n",
       "    .dataframe thead th {\n",
       "        text-align: right;\n",
       "    }\n",
       "</style>\n",
       "<table border=\"1\" class=\"dataframe\">\n",
       "  <thead>\n",
       "    <tr style=\"text-align: right;\">\n",
       "      <th></th>\n",
       "      <th>0</th>\n",
       "      <th>1</th>\n",
       "      <th>2</th>\n",
       "      <th>3</th>\n",
       "      <th>4</th>\n",
       "      <th>5</th>\n",
       "      <th>6</th>\n",
       "      <th>7</th>\n",
       "      <th>8</th>\n",
       "      <th>9</th>\n",
       "      <th>...</th>\n",
       "      <th>41952</th>\n",
       "      <th>41958</th>\n",
       "      <th>41960</th>\n",
       "      <th>41968</th>\n",
       "      <th>41970</th>\n",
       "      <th>41971</th>\n",
       "      <th>41979</th>\n",
       "      <th>41984</th>\n",
       "      <th>41987</th>\n",
       "      <th>41988</th>\n",
       "    </tr>\n",
       "  </thead>\n",
       "  <tbody>\n",
       "    <tr>\n",
       "      <th>2095</th>\n",
       "      <td>3.645032e-10</td>\n",
       "      <td>NaN</td>\n",
       "      <td>NaN</td>\n",
       "      <td>22.816679</td>\n",
       "      <td>NaN</td>\n",
       "      <td>NaN</td>\n",
       "      <td>9.555003e-06</td>\n",
       "      <td>NaN</td>\n",
       "      <td>NaN</td>\n",
       "      <td>NaN</td>\n",
       "      <td>...</td>\n",
       "      <td>NaN</td>\n",
       "      <td>NaN</td>\n",
       "      <td>NaN</td>\n",
       "      <td>NaN</td>\n",
       "      <td>NaN</td>\n",
       "      <td>NaN</td>\n",
       "      <td>NaN</td>\n",
       "      <td>NaN</td>\n",
       "      <td>NaN</td>\n",
       "      <td>NaN</td>\n",
       "    </tr>\n",
       "    <tr>\n",
       "      <th>25638</th>\n",
       "      <td>9.386617e-07</td>\n",
       "      <td>NaN</td>\n",
       "      <td>NaN</td>\n",
       "      <td>208010.935280</td>\n",
       "      <td>NaN</td>\n",
       "      <td>NaN</td>\n",
       "      <td>8.682870e-14</td>\n",
       "      <td>NaN</td>\n",
       "      <td>NaN</td>\n",
       "      <td>NaN</td>\n",
       "      <td>...</td>\n",
       "      <td>NaN</td>\n",
       "      <td>NaN</td>\n",
       "      <td>NaN</td>\n",
       "      <td>NaN</td>\n",
       "      <td>NaN</td>\n",
       "      <td>NaN</td>\n",
       "      <td>NaN</td>\n",
       "      <td>NaN</td>\n",
       "      <td>NaN</td>\n",
       "      <td>NaN</td>\n",
       "    </tr>\n",
       "    <tr>\n",
       "      <th>8536</th>\n",
       "      <td>2.063641e-13</td>\n",
       "      <td>NaN</td>\n",
       "      <td>NaN</td>\n",
       "      <td>0.005548</td>\n",
       "      <td>NaN</td>\n",
       "      <td>NaN</td>\n",
       "      <td>4.043477e-10</td>\n",
       "      <td>NaN</td>\n",
       "      <td>NaN</td>\n",
       "      <td>NaN</td>\n",
       "      <td>...</td>\n",
       "      <td>NaN</td>\n",
       "      <td>NaN</td>\n",
       "      <td>NaN</td>\n",
       "      <td>NaN</td>\n",
       "      <td>NaN</td>\n",
       "      <td>NaN</td>\n",
       "      <td>NaN</td>\n",
       "      <td>NaN</td>\n",
       "      <td>NaN</td>\n",
       "      <td>NaN</td>\n",
       "    </tr>\n",
       "    <tr>\n",
       "      <th>17623</th>\n",
       "      <td>1.621559e-07</td>\n",
       "      <td>NaN</td>\n",
       "      <td>NaN</td>\n",
       "      <td>0.001548</td>\n",
       "      <td>NaN</td>\n",
       "      <td>NaN</td>\n",
       "      <td>2.557933e-08</td>\n",
       "      <td>NaN</td>\n",
       "      <td>NaN</td>\n",
       "      <td>NaN</td>\n",
       "      <td>...</td>\n",
       "      <td>NaN</td>\n",
       "      <td>NaN</td>\n",
       "      <td>NaN</td>\n",
       "      <td>NaN</td>\n",
       "      <td>NaN</td>\n",
       "      <td>NaN</td>\n",
       "      <td>NaN</td>\n",
       "      <td>NaN</td>\n",
       "      <td>NaN</td>\n",
       "      <td>NaN</td>\n",
       "    </tr>\n",
       "    <tr>\n",
       "      <th>21475</th>\n",
       "      <td>1.651919e-06</td>\n",
       "      <td>NaN</td>\n",
       "      <td>NaN</td>\n",
       "      <td>0.566725</td>\n",
       "      <td>NaN</td>\n",
       "      <td>NaN</td>\n",
       "      <td>1.366399e-07</td>\n",
       "      <td>NaN</td>\n",
       "      <td>NaN</td>\n",
       "      <td>NaN</td>\n",
       "      <td>...</td>\n",
       "      <td>NaN</td>\n",
       "      <td>NaN</td>\n",
       "      <td>NaN</td>\n",
       "      <td>NaN</td>\n",
       "      <td>NaN</td>\n",
       "      <td>NaN</td>\n",
       "      <td>NaN</td>\n",
       "      <td>NaN</td>\n",
       "      <td>NaN</td>\n",
       "      <td>NaN</td>\n",
       "    </tr>\n",
       "  </tbody>\n",
       "</table>\n",
       "<p>5 rows × 8407 columns</p>\n",
       "</div>"
      ],
      "text/plain": [
       "              0      1      2              3      4      5             6      \\\n",
       "2095   3.645032e-10    NaN    NaN      22.816679    NaN    NaN  9.555003e-06   \n",
       "25638  9.386617e-07    NaN    NaN  208010.935280    NaN    NaN  8.682870e-14   \n",
       "8536   2.063641e-13    NaN    NaN       0.005548    NaN    NaN  4.043477e-10   \n",
       "17623  1.621559e-07    NaN    NaN       0.001548    NaN    NaN  2.557933e-08   \n",
       "21475  1.651919e-06    NaN    NaN       0.566725    NaN    NaN  1.366399e-07   \n",
       "\n",
       "       7      8      9      ...  41952  41958  41960  41968  41970  41971  \\\n",
       "2095     NaN    NaN    NaN  ...    NaN    NaN    NaN    NaN    NaN    NaN   \n",
       "25638    NaN    NaN    NaN  ...    NaN    NaN    NaN    NaN    NaN    NaN   \n",
       "8536     NaN    NaN    NaN  ...    NaN    NaN    NaN    NaN    NaN    NaN   \n",
       "17623    NaN    NaN    NaN  ...    NaN    NaN    NaN    NaN    NaN    NaN   \n",
       "21475    NaN    NaN    NaN  ...    NaN    NaN    NaN    NaN    NaN    NaN   \n",
       "\n",
       "       41979  41984  41987  41988  \n",
       "2095     NaN    NaN    NaN    NaN  \n",
       "25638    NaN    NaN    NaN    NaN  \n",
       "8536     NaN    NaN    NaN    NaN  \n",
       "17623    NaN    NaN    NaN    NaN  \n",
       "21475    NaN    NaN    NaN    NaN  \n",
       "\n",
       "[5 rows x 8407 columns]"
      ]
     },
     "execution_count": 109,
     "metadata": {},
     "output_type": "execute_result"
    }
   ],
   "source": [
    "# np.set_printoptions(suppress=True)\n",
    "def softmax(z):\n",
    "    return np.exp(z) / np.exp(z).sum(axis=1)\n",
    "p = softmax(z)\n",
    "p[:5]"
   ]
  },
  {
   "cell_type": "code",
   "execution_count": 110,
   "id": "widespread-trance",
   "metadata": {},
   "outputs": [],
   "source": [
    "from sklearn.metrics import accuracy_score"
   ]
  },
  {
   "cell_type": "code",
   "execution_count": 111,
   "id": "matched-share",
   "metadata": {},
   "outputs": [
    {
     "data": {
      "text/plain": [
       "0.9108333333333334"
      ]
     },
     "execution_count": 111,
     "metadata": {},
     "output_type": "execute_result"
    }
   ],
   "source": [
    "accuracy_score(y_test, y_pred)"
   ]
  },
  {
   "cell_type": "code",
   "execution_count": 10,
   "id": "legitimate-spending",
   "metadata": {},
   "outputs": [
    {
     "data": {
      "text/plain": [
       "[<matplotlib.lines.Line2D at 0x25f61993b00>]"
      ]
     },
     "execution_count": 10,
     "metadata": {},
     "output_type": "execute_result"
    },
    {
     "data": {
      "image/png": "[encoded data removed]",
      "text/plain": [
       "<Figure size 432x288 with 1 Axes>"
      ]
     },
     "metadata": {
      "needs_background": "light"
     },
     "output_type": "display_data"
    }
   ],
   "source": [
    "import numpy as np \n",
    "import matplotlib.pyplot as plt\n",
    "\n",
    "X = np.linspace(-10, 10, 100)\n",
    "def softmax(z):\n",
    "    return np.exp(z) / np.exp(-z).sum()\n",
    "y = softmax(X)\n",
    "plt.plot(X, y, color='g')"
   ]
  },
  {
   "cell_type": "raw",
   "id": "classified-broadcasting",
   "metadata": {},
   "source": []
  }
 ],
 "metadata": {
  "kernelspec": {
   "display_name": "Python 3",
   "language": "python",
   "name": "python3"
  },
  "language_info": {
   "codemirror_mode": {
    "name": "ipython",
    "version": 3
   },
   "file_extension": ".py",
   "mimetype": "text/x-python",
   "name": "python",
   "nbconvert_exporter": "python",
   "pygments_lexer": "ipython3",
   "version": "3.7.3"
  }
 },
 "nbformat": 4,
 "nbformat_minor": 5
}
