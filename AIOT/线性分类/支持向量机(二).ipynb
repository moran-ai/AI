{
 "cells": [
  {
   "cell_type": "markdown",
   "id": "descending-boost",
   "metadata": {},
   "source": [
    "### SVC核函数"
   ]
  },
  {
   "cell_type": "markdown",
   "id": "powerful-airport",
   "metadata": {},
   "source": [
    "#### 导包"
   ]
  },
  {
   "cell_type": "code",
   "execution_count": 1,
   "id": "rural-powder",
   "metadata": {},
   "outputs": [],
   "source": [
    "import numpy as np \n",
    "from sklearn import datasets\n",
    "from sklearn.svm import SVC\n",
    "from sklearn.model_selection import train_test_split\n",
    "from sklearn.metrics import accuracy_score"
   ]
  },
  {
   "cell_type": "markdown",
   "id": "extensive-productivity",
   "metadata": {},
   "source": [
    "#### 加载数据"
   ]
  },
  {
   "cell_type": "code",
   "execution_count": 4,
   "id": "annoying-fitting",
   "metadata": {},
   "outputs": [
    {
     "data": {
      "text/plain": [
       "(178, 13)"
      ]
     },
     "metadata": {},
     "output_type": "display_data"
    }
   ],
   "source": [
    "X, y = datasets.load_wine(return_X_y=True)\n",
    "display(X.shape)"
   ]
  },
  {
   "cell_type": "code",
   "execution_count": 5,
   "id": "smoking-shade",
   "metadata": {},
   "outputs": [
    {
     "data": {
      "text/plain": [
       "(142, 13)"
      ]
     },
     "execution_count": 5,
     "metadata": {},
     "output_type": "execute_result"
    }
   ],
   "source": [
    "X_train, X_test, y_train, y_test = train_test_split(X, y, test_size=0.2)\n",
    "X_train.shape"
   ]
  },
  {
   "cell_type": "markdown",
   "id": "champion-postage",
   "metadata": {},
   "source": [
    "#### 建模"
   ]
  },
  {
   "cell_type": "markdown",
   "id": "british-hello",
   "metadata": {},
   "source": [
    "##### 核函数\n",
    "\n",
    "线性: linear\n",
    "\n",
    "多项式(方程幂次大于1)：poly\n",
    "\n",
    "高斯核函数：rbf\n",
    "\n",
    "sigmoid函数"
   ]
  },
  {
   "cell_type": "code",
   "execution_count": 6,
   "id": "available-assist",
   "metadata": {},
   "outputs": [
    {
     "name": "stdout",
     "output_type": "stream",
     "text": [
      "线性核函数linear的得分为： 0.9722222222222222\n"
     ]
    }
   ],
   "source": [
    "# linear\n",
    "svc = SVC(kernel='linear')\n",
    "svc.fit(X_train, y_train)\n",
    "y_pred = svc.predict(X_test)\n",
    "score = accuracy_score(y_test, y_pred)\n",
    "print('线性核函数linear的得分为：', score)"
   ]
  },
  {
   "cell_type": "code",
   "execution_count": 7,
   "id": "inner-territory",
   "metadata": {},
   "outputs": [
    {
     "data": {
      "text/plain": [
       "array([[ 7.31255034e-01,  7.00132966e-01,  1.04324731e+00,\n",
       "        -1.73102909e-01,  9.62152678e-03, -6.34703847e-02,\n",
       "         2.20782867e-01,  2.06316035e-01, -1.88469318e-01,\n",
       "         6.88835331e-01, -1.43104937e-01,  2.41843089e-01,\n",
       "         4.83314852e-03],\n",
       "       [ 6.99473868e-02,  1.04153656e-01,  7.83431056e-02,\n",
       "        -7.73110203e-02,  1.13194860e-02,  3.19168405e-01,\n",
       "         4.95663909e-01,  5.32707762e-03,  1.82402788e-01,\n",
       "        -1.15628483e-01,  5.26410925e-02,  3.74159232e-01,\n",
       "         1.76901478e-03],\n",
       "       [-4.58619463e-01, -2.87288978e-01, -4.27744136e-01,\n",
       "        -5.09249915e-03, -1.98006780e-02,  3.96766433e-02,\n",
       "         7.78533221e-01,  7.91851447e-02, -8.39634902e-02,\n",
       "        -8.15437172e-01,  4.13372266e-01,  5.08031691e-01,\n",
       "        -1.97966186e-04]])"
      ]
     },
     "execution_count": 7,
     "metadata": {},
     "output_type": "execute_result"
    }
   ],
   "source": [
    "svc.coef_"
   ]
  },
  {
   "cell_type": "code",
   "execution_count": 8,
   "id": "relevant-seattle",
   "metadata": {},
   "outputs": [
    {
     "data": {
      "text/plain": [
       "array([-18.29285135,  -4.64958733,  10.84190493])"
      ]
     },
     "execution_count": 8,
     "metadata": {},
     "output_type": "execute_result"
    }
   ],
   "source": [
    "svc.intercept_"
   ]
  },
  {
   "cell_type": "code",
   "execution_count": 9,
   "id": "little-therapist",
   "metadata": {},
   "outputs": [
    {
     "name": "stdout",
     "output_type": "stream",
     "text": [
      "线性核函数poly的得分为： 0.6388888888888888\n"
     ]
    }
   ],
   "source": [
    "# poly\n",
    "svc = SVC(kernel='poly') # 进行了升维\n",
    "svc.fit(X_train, y_train)\n",
    "y_pred = svc.predict(X_test)\n",
    "score = accuracy_score(y_test, y_pred)\n",
    "print('线性核函数poly的得分为：', score)"
   ]
  },
  {
   "cell_type": "code",
   "execution_count": 11,
   "id": "sustainable-paragraph",
   "metadata": {},
   "outputs": [
    {
     "name": "stdout",
     "output_type": "stream",
     "text": [
      "线性核函数rbf的得分为： 0.6388888888888888\n"
     ]
    }
   ],
   "source": [
    "# rbf\n",
    "svc = SVC(kernel='rbf') # 默认的核函数\n",
    "svc.fit(X_train, y_train)\n",
    "y_pred = svc.predict(X_test)\n",
    "score = accuracy_score(y_test, y_pred)\n",
    "print('线性核函数rbf的得分为：', score)"
   ]
  },
  {
   "cell_type": "code",
   "execution_count": 12,
   "id": "based-showcase",
   "metadata": {},
   "outputs": [
    {
     "name": "stdout",
     "output_type": "stream",
     "text": [
      "线性核函数sigmoid的得分为： 0.1111111111111111\n"
     ]
    }
   ],
   "source": [
    "svc = SVC(kernel='sigmoid')\n",
    "svc.fit(X_train, y_train)\n",
    "y_pred = svc.predict(X_test)\n",
    "score = accuracy_score(y_test, y_pred)\n",
    "print('线性核函数sigmoid的得分为：', score)"
   ]
  },
  {
   "cell_type": "markdown",
   "id": "frank-condition",
   "metadata": {},
   "source": [
    "### 非线性核函数"
   ]
  },
  {
   "cell_type": "code",
   "execution_count": 21,
   "id": "southeast-performance",
   "metadata": {},
   "outputs": [
    {
     "data": {
      "text/plain": [
       "(100, 2)"
      ]
     },
     "metadata": {},
     "output_type": "display_data"
    },
    {
     "data": {
      "text/plain": [
       "<matplotlib.collections.PathCollection at 0x21dbd240160>"
      ]
     },
     "execution_count": 21,
     "metadata": {},
     "output_type": "execute_result"
    },
    {
     "data": {
      "image/png": "[encoded data removed]",
      "text/plain": [
       "<Figure size 360x360 with 1 Axes>"
      ]
     },
     "metadata": {
      "needs_background": "light"
     },
     "output_type": "display_data"
    }
   ],
   "source": [
    "import matplotlib.pyplot as plt\n",
    "from matplotlib.colors import ListedColormap\n",
    "# 生成圆圈数据\n",
    "X, y = datasets.make_circles(n_samples=100, factor=0.7)\n",
    "display(X.shape)\n",
    "X += np.random.randn(100, 2)*0.03\n",
    "plt.figure(figsize=(5, 5))\n",
    "cmap = ListedColormap(colors=['red', 'blue'])\n",
    "plt.scatter(X[:, 0], X[:, 1], c=y, cmap=cmap)"
   ]
  },
  {
   "cell_type": "code",
   "execution_count": 15,
   "id": "conventional-thesaurus",
   "metadata": {},
   "outputs": [
    {
     "data": {
      "text/plain": [
       "array([1, 1, 0, 1, 1, 1, 1, 0, 0, 0, 0, 0, 1, 0, 0, 1, 0, 0, 0, 0, 1, 0,\n",
       "       0, 1, 0, 1, 1, 0, 0, 1, 0, 0, 0, 1, 1, 1, 1, 0, 1, 0, 1, 1, 1, 1,\n",
       "       0, 0, 0, 1, 0, 1, 1, 0, 0, 1, 1, 0, 1, 1, 0, 1, 0, 1, 0, 0, 0, 1,\n",
       "       1, 1, 1, 1, 0, 1, 1, 0, 0, 1, 0, 1, 0, 1, 0, 0, 1, 0, 0, 1, 0, 1,\n",
       "       1, 0, 0, 1, 1, 0, 1, 1, 0, 1, 0, 0], dtype=int64)"
      ]
     },
     "execution_count": 15,
     "metadata": {},
     "output_type": "execute_result"
    }
   ],
   "source": [
    "y"
   ]
  },
  {
   "cell_type": "code",
   "execution_count": 22,
   "id": "medical-medicaid",
   "metadata": {},
   "outputs": [
    {
     "data": {
      "text/plain": [
       "0.51"
      ]
     },
     "execution_count": 22,
     "metadata": {},
     "output_type": "execute_result"
    }
   ],
   "source": [
    "svc = SVC(kernel='linear')\n",
    "svc.fit(X, y)\n",
    "svc.score(X, y)"
   ]
  },
  {
   "cell_type": "code",
   "execution_count": 26,
   "id": "alternative-mounting",
   "metadata": {},
   "outputs": [
    {
     "data": {
      "text/plain": [
       "1.0"
      ]
     },
     "execution_count": 26,
     "metadata": {},
     "output_type": "execute_result"
    }
   ],
   "source": [
    "# 多项式\n",
    "svc = SVC(kernel='poly', degree=2)\n",
    "svc.fit(X, y)\n",
    "svc.score(X, y)"
   ]
  },
  {
   "cell_type": "code",
   "execution_count": 25,
   "id": "julian-cycling",
   "metadata": {},
   "outputs": [
    {
     "data": {
      "text/plain": [
       "1.0"
      ]
     },
     "execution_count": 25,
     "metadata": {},
     "output_type": "execute_result"
    }
   ],
   "source": [
    "# 高斯核函数\n",
    "svc = SVC(kernel='rbf')\n",
    "svc.fit(X, y)\n",
    "svc.score(X, y)"
   ]
  },
  {
   "cell_type": "markdown",
   "id": "nearby-christianity",
   "metadata": {},
   "source": [
    "### 支持向量机回归问题"
   ]
  },
  {
   "cell_type": "markdown",
   "id": "anticipated-detroit",
   "metadata": {},
   "source": [
    "#### 加载数据"
   ]
  },
  {
   "cell_type": "code",
   "execution_count": 27,
   "id": "middle-latest",
   "metadata": {},
   "outputs": [],
   "source": [
    "import numpy as np\n",
    "import matplotlib.pyplot as plt\n",
    "from sklearn.svm import SVR"
   ]
  },
  {
   "cell_type": "code",
   "execution_count": 46,
   "id": "utility-armor",
   "metadata": {},
   "outputs": [
    {
     "data": {
      "text/plain": [
       "<matplotlib.collections.PathCollection at 0x21dbe3bb9e8>"
      ]
     },
     "execution_count": 46,
     "metadata": {},
     "output_type": "execute_result"
    },
    {
     "data": {
      "image/png": "[encoded data removed]",
      "text/plain": [
       "<Figure size 432x288 with 1 Axes>"
      ]
     },
     "metadata": {
      "needs_background": "light"
     },
     "output_type": "display_data"
    }
   ],
   "source": [
    "X = np.linspace(0, 2*np.pi*2, 100).reshape(-1, 1)\n",
    "y = np.sin(X)\n",
    "plt.scatter(X, y)"
   ]
  },
  {
   "cell_type": "code",
   "execution_count": 40,
   "id": "fixed-mountain",
   "metadata": {},
   "outputs": [
    {
     "data": {
      "text/plain": [
       "<matplotlib.collections.PathCollection at 0x21dbd806f60>"
      ]
     },
     "execution_count": 40,
     "metadata": {},
     "output_type": "execute_result"
    },
    {
     "data": {
      "image/png": "[encoded data removed]",
      "text/plain": [
       "<Figure size 432x288 with 1 Axes>"
      ]
     },
     "metadata": {
      "needs_background": "light"
     },
     "output_type": "display_data"
    }
   ],
   "source": [
    "svr = SVR(kernel='linear')\n",
    "svr.fit(X, y.ravel())\n",
    "y_ = svr.predict(X)\n",
    "plt.scatter(X, y)\n",
    "plt.scatter(X, y_, color='red')"
   ]
  },
  {
   "cell_type": "code",
   "execution_count": 41,
   "id": "fundamental-savings",
   "metadata": {},
   "outputs": [
    {
     "data": {
      "text/plain": [
       "<matplotlib.collections.PathCollection at 0x21dbd642748>"
      ]
     },
     "execution_count": 41,
     "metadata": {},
     "output_type": "execute_result"
    },
    {
     "data": {
      "image/png": "[encoded data removed]",
      "text/plain": [
       "<Figure size 432x288 with 1 Axes>"
      ]
     },
     "metadata": {
      "needs_background": "light"
     },
     "output_type": "display_data"
    }
   ],
   "source": [
    "svr = SVR(kernel='poly')\n",
    "svr.fit(X, y.ravel())\n",
    "y_ = svr.predict(X)\n",
    "plt.scatter(X, y)\n",
    "plt.scatter(X, y_, color='red')"
   ]
  },
  {
   "cell_type": "code",
   "execution_count": 55,
   "id": "golden-museum",
   "metadata": {},
   "outputs": [
    {
     "data": {
      "image/png": "[encoded data removed]",
      "text/plain": [
       "<Figure size 432x288 with 1 Axes>"
      ]
     },
     "metadata": {
      "needs_background": "light"
     },
     "output_type": "display_data"
    }
   ],
   "source": [
    "svr = SVR(kernel='rbf')\n",
    "svr.fit(X, y.ravel())\n",
    "y_ = svr.predict(X)\n",
    "plt.scatter(X, y)\n",
    "plt.scatter(X, y_, color='red')\n",
    "plt.grid(alpha=0.2, color='g', linestyle='--')"
   ]
  },
  {
   "cell_type": "markdown",
   "id": "smooth-opportunity",
   "metadata": {},
   "source": [
    "### 天猫双十一预测"
   ]
  },
  {
   "cell_type": "code",
   "execution_count": 76,
   "id": "variable-satisfaction",
   "metadata": {},
   "outputs": [
    {
     "data": {
      "text/plain": [
       "<matplotlib.collections.PathCollection at 0x21dbe7532b0>"
      ]
     },
     "execution_count": 76,
     "metadata": {},
     "output_type": "execute_result"
    },
    {
     "data": {
      "image/png": "[encoded data removed]",
      "text/plain": [
       "<Figure size 432x288 with 1 Axes>"
      ]
     },
     "metadata": {
      "needs_background": "light"
     },
     "output_type": "display_data"
    }
   ],
   "source": [
    "x = np.arange(2009, 2020) - 2008\n",
    "y = np.array([0.5, 9.36, 52, 191, 350, 571, 912, 1207, 1682, 2135, 2684])\n",
    "plt.scatter(x, y, color='red')"
   ]
  },
  {
   "cell_type": "code",
   "execution_count": 79,
   "id": "shared-winner",
   "metadata": {},
   "outputs": [
    {
     "data": {
      "text/plain": [
       "[<matplotlib.lines.Line2D at 0x21dbe28b7b8>]"
      ]
     },
     "execution_count": 79,
     "metadata": {},
     "output_type": "execute_result"
    },
    {
     "data": {
      "image/png": "[encoded data removed]",
      "text/plain": [
       "<Figure size 432x288 with 1 Axes>"
      ]
     },
     "metadata": {
      "needs_background": "light"
     },
     "output_type": "display_data"
    }
   ],
   "source": [
    "svr = SVR(kernel='linear')\n",
    "svr.fit(x.reshape(-1,1), y)\n",
    "x_test = np.linspace(2009, 2019, 100).reshape(-1, 1) - 2008\n",
    "y_=svr.predict(x_test)\n",
    "plt.scatter(x, y, color='red')\n",
    "plt.plot(x_test.ravel(), y_, color='blue')"
   ]
  },
  {
   "cell_type": "code",
   "execution_count": 80,
   "id": "opening-instrumentation",
   "metadata": {},
   "outputs": [
    {
     "data": {
      "text/plain": [
       "[<matplotlib.lines.Line2D at 0x21dbde579e8>]"
      ]
     },
     "execution_count": 80,
     "metadata": {},
     "output_type": "execute_result"
    },
    {
     "data": {
      "image/png": "[encoded data removed]",
      "text/plain": [
       "<Figure size 432x288 with 1 Axes>"
      ]
     },
     "metadata": {
      "needs_background": "light"
     },
     "output_type": "display_data"
    }
   ],
   "source": [
    "svr = SVR(kernel='rbf')\n",
    "svr.fit(x.reshape(-1,1), y)\n",
    "x_test = np.linspace(2009, 2019, 100).reshape(-1, 1) - 2008\n",
    "y_=svr.predict(x_test)\n",
    "plt.scatter(x, y, color='red')\n",
    "plt.plot(x_test.ravel(), y_, color='blue')"
   ]
  },
  {
   "cell_type": "code",
   "execution_count": 82,
   "id": "agreed-metadata",
   "metadata": {},
   "outputs": [
    {
     "data": {
      "text/plain": [
       "[<matplotlib.lines.Line2D at 0x21dbe524550>]"
      ]
     },
     "execution_count": 82,
     "metadata": {},
     "output_type": "execute_result"
    },
    {
     "data": {
      "image/png": "[encoded data removed]",
      "text/plain": [
       "<Figure size 432x288 with 1 Axes>"
      ]
     },
     "metadata": {
      "needs_background": "light"
     },
     "output_type": "display_data"
    }
   ],
   "source": [
    "svr = SVR(kernel='poly', coef0=200)  # coef0：系数\n",
    "svr.fit(x.reshape(-1,1), y)\n",
    "x_test = np.linspace(2009, 2019, 100).reshape(-1, 1) - 2008\n",
    "y_=svr.predict(x_test)\n",
    "plt.scatter(x, y, color='red')\n",
    "plt.plot(x_test.ravel(), y_, color='blue')"
   ]
  },
  {
   "cell_type": "code",
   "execution_count": null,
   "id": "seventh-stress",
   "metadata": {},
   "outputs": [],
   "source": []
  }
 ],
 "metadata": {
  "kernelspec": {
   "display_name": "Python 3",
   "language": "python",
   "name": "python3"
  },
  "language_info": {
   "codemirror_mode": {
    "name": "ipython",
    "version": 3
   },
   "file_extension": ".py",
   "mimetype": "text/x-python",
   "name": "python",
   "nbconvert_exporter": "python",
   "pygments_lexer": "ipython3",
   "version": "3.7.3"
  }
 },
 "nbformat": 4,
 "nbformat_minor": 5
}
