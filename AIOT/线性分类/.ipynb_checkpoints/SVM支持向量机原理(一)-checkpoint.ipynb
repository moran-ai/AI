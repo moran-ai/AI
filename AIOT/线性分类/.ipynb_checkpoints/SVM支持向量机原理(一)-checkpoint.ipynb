{
 "cells": [
  {
   "cell_type": "markdown",
   "id": "immediate-driver",
   "metadata": {},
   "source": [
    "### 支持向量机(support vector machines)\n",
    "\n",
    "支持向量机是一种二分类算法，它的目的是寻找一个超平面对样本进行分割，分割的原则是间隔最大化，如果对应的样本特征少，一个普通的SVM就是一条线将样本隔开，但是\n",
    "要求线到两个类别最近样本点的距离要最大\n",
    "\n",
    "支持向量机SVM算法就是在寻找一个最优的决策边界，支持向量也就是距离决策边界最近的点，SVM就是根据支持向量来最大化margin[边界]，来找到最优的分类器(machines)"
   ]
  },
  {
   "cell_type": "code",
   "execution_count": 1,
   "id": "respective-entertainment",
   "metadata": {},
   "outputs": [],
   "source": [
    "import numpy as np\n",
    "import matplotlib.pyplot as plt\n",
    "from sklearn.svm import SVC  # SVC为分类问题， SVR为回归问题\n",
    "from sklearn import datasets"
   ]
  },
  {
   "cell_type": "code",
   "execution_count": 8,
   "id": "unique-suspension",
   "metadata": {},
   "outputs": [
    {
     "data": {
      "text/plain": [
       "(100, 2)"
      ]
     },
     "metadata": {},
     "output_type": "display_data"
    },
    {
     "data": {
      "text/plain": [
       "(100,)"
      ]
     },
     "metadata": {},
     "output_type": "display_data"
    },
    {
     "data": {
      "text/plain": [
       "array([0, 1])"
      ]
     },
     "metadata": {},
     "output_type": "display_data"
    },
    {
     "data": {
      "text/plain": [
       "<matplotlib.collections.PathCollection at 0x16893fd8ef0>"
      ]
     },
     "execution_count": 8,
     "metadata": {},
     "output_type": "execute_result"
    },
    {
     "data": {
      "image/png": "[encoded data removed]",
      "text/plain": [
       "<Figure size 432x288 with 1 Axes>"
      ]
     },
     "metadata": {
      "needs_background": "light"
     },
     "output_type": "display_data"
    }
   ],
   "source": [
    "# make_blobs 生成样本  n_samples：样本数量  n_features:特征数 二维  centers两类点   random_state:随机数状态，固定\n",
    "X, y = datasets.make_blobs(n_samples=100, n_features=2, centers=2, random_state=3)\n",
    "display(X.shape, y.shape, np.unique(y))  # np.unique()去重数组中重复数字，并重新进行排序\n",
    "# y\n",
    "plt.scatter(X[:, 0], X[:, 1],  c=y)"
   ]
  },
  {
   "cell_type": "code",
   "execution_count": 35,
   "id": "union-bishop",
   "metadata": {},
   "outputs": [
    {
     "data": {
      "text/plain": [
       "SVC(kernel='linear')"
      ]
     },
     "execution_count": 35,
     "metadata": {},
     "output_type": "execute_result"
    }
   ],
   "source": [
    "svc = SVC(kernel='linear')   # kernel:核函数  linear:线性\n",
    "svc.fit(X, y)"
   ]
  },
  {
   "cell_type": "code",
   "execution_count": 36,
   "id": "piano-mainland",
   "metadata": {},
   "outputs": [
    {
     "data": {
      "text/plain": [
       "1.0"
      ]
     },
     "execution_count": 36,
     "metadata": {},
     "output_type": "execute_result"
    }
   ],
   "source": [
    "svc.score(X, y)"
   ]
  },
  {
   "cell_type": "code",
   "execution_count": 52,
   "id": "recent-finding",
   "metadata": {},
   "outputs": [
    {
     "data": {
      "text/plain": [
       "array([[-0.69194716, -1.00958201]])"
      ]
     },
     "execution_count": 52,
     "metadata": {},
     "output_type": "execute_result"
    }
   ],
   "source": [
    "# 绘制分割线\n",
    "w_ = svc.coef_\n",
    "w_"
   ]
  },
  {
   "cell_type": "code",
   "execution_count": 54,
   "id": "missing-organization",
   "metadata": {},
   "outputs": [
    {
     "data": {
      "text/plain": [
       "array([0.90732128])"
      ]
     },
     "execution_count": 54,
     "metadata": {},
     "output_type": "execute_result"
    }
   ],
   "source": [
    "b_ = svc.intercept_\n",
    "b_"
   ]
  },
  {
   "cell_type": "markdown",
   "id": "described-improvement",
   "metadata": {},
   "source": [
    "<font size='5'>$y = -\\frac{w1} {w2} x - \\frac{b}{w2}$</font>\n",
    "\n",
    "推导出来的公式"
   ]
  },
  {
   "cell_type": "code",
   "execution_count": 57,
   "id": "accomplished-sword",
   "metadata": {},
   "outputs": [
    {
     "data": {
      "text/plain": [
       "-0.6853798435538032"
      ]
     },
     "execution_count": 57,
     "metadata": {},
     "output_type": "execute_result"
    }
   ],
   "source": [
    "w = -w_[0, 0] / w_[0, 1]\n",
    "w"
   ]
  },
  {
   "cell_type": "code",
   "execution_count": 58,
   "id": "critical-graduation",
   "metadata": {},
   "outputs": [
    {
     "data": {
      "text/plain": [
       "0.8987098253546204"
      ]
     },
     "execution_count": 58,
     "metadata": {},
     "output_type": "execute_result"
    }
   ],
   "source": [
    "b, = -b_ / w_[0, 1]\n",
    "b"
   ]
  },
  {
   "cell_type": "markdown",
   "id": "surgical-acquisition",
   "metadata": {},
   "source": [
    "#### 获得支持向量\n",
    "\n",
    "支持向量有时候不一定是3个，有时候只有2个"
   ]
  },
  {
   "cell_type": "code",
   "execution_count": 59,
   "id": "imported-memory",
   "metadata": {},
   "outputs": [
    {
     "data": {
      "text/plain": [
       "array([[ 0.21219196,  1.74387328],\n",
       "       [-1.8997797 ,  3.19111595],\n",
       "       [-2.19341554,  1.41161044]])"
      ]
     },
     "execution_count": 59,
     "metadata": {},
     "output_type": "execute_result"
    }
   ],
   "source": [
    "sv = svc.support_vectors_\n",
    "sv"
   ]
  },
  {
   "cell_type": "code",
   "execution_count": 60,
   "id": "organic-graduation",
   "metadata": {},
   "outputs": [
    {
     "data": {
      "text/plain": [
       "[<matplotlib.lines.Line2D at 0x16897b08eb8>]"
      ]
     },
     "execution_count": 60,
     "metadata": {},
     "output_type": "execute_result"
    },
    {
     "data": {
      "image/png": "[encoded data removed]",
      "text/plain": [
       "<Figure size 432x288 with 1 Axes>"
      ]
     },
     "metadata": {
      "needs_background": "light"
     },
     "output_type": "display_data"
    }
   ],
   "source": [
    "# 画线\n",
    "x = np.linspace(-5, 1, 100)\n",
    "y_result = w * x + b\n",
    "plt.scatter(X[:, 0], X[:, 1], c=y)\n",
    "plt.plot(x, y_result, color='r')\n",
    "\n",
    "# 获取上边界和下边界  b = y - wx\n",
    "# 上边界\n",
    "b1 = sv[0][1] - w * sv[0][0]\n",
    "plt.plot(x, w * x + b1, color='blue', ls='--')\n",
    "\n",
    "# 下边界\n",
    "b2 = sv[-1][1] - w * sv[-1][0]\n",
    "plt.plot(x, w * x + b2, color='blue', ls = '--')"
   ]
  },
  {
   "cell_type": "code",
   "execution_count": null,
   "id": "artificial-minute",
   "metadata": {},
   "outputs": [],
   "source": []
  }
 ],
 "metadata": {
  "kernelspec": {
   "display_name": "Python 3",
   "language": "python",
   "name": "python3"
  },
  "language_info": {
   "codemirror_mode": {
    "name": "ipython",
    "version": 3
   },
   "file_extension": ".py",
   "mimetype": "text/x-python",
   "name": "python",
   "nbconvert_exporter": "python",
   "pygments_lexer": "ipython3",
   "version": "3.7.3"
  }
 },
 "nbformat": 4,
 "nbformat_minor": 5
}
