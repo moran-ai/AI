{
 "cells": [
  {
   "cell_type": "code",
   "execution_count": 26,
   "id": "1a260ea3-4044-495d-b542-e2729ba7f06e",
   "metadata": {},
   "outputs": [
    {
     "ename": "ModuleNotFoundError",
     "evalue": "No module named 'cartopy'",
     "output_type": "error",
     "traceback": [
      "\u001b[1;31m---------------------------------------------------------------------------\u001b[0m",
      "\u001b[1;31mModuleNotFoundError\u001b[0m                       Traceback (most recent call last)",
      "\u001b[1;32m~\\AppData\\Local\\Temp/ipykernel_16812/978695573.py\u001b[0m in \u001b[0;36m<module>\u001b[1;34m\u001b[0m\n\u001b[0;32m      4\u001b[0m \u001b[1;32mfrom\u001b[0m \u001b[0mmatplotlib\u001b[0m \u001b[1;32mimport\u001b[0m \u001b[0mpyplot\u001b[0m \u001b[1;32mas\u001b[0m \u001b[0mplt\u001b[0m\u001b[1;33m\u001b[0m\u001b[1;33m\u001b[0m\u001b[0m\n\u001b[0;32m      5\u001b[0m \u001b[1;32mimport\u001b[0m \u001b[0mnumpy\u001b[0m \u001b[1;32mas\u001b[0m \u001b[0mnp\u001b[0m\u001b[1;33m\u001b[0m\u001b[1;33m\u001b[0m\u001b[0m\n\u001b[1;32m----> 6\u001b[1;33m \u001b[1;32mimport\u001b[0m \u001b[0mcartopy\u001b[0m\u001b[1;33m.\u001b[0m\u001b[0mcrs\u001b[0m \u001b[1;32mas\u001b[0m \u001b[0mccrs\u001b[0m\u001b[1;33m\u001b[0m\u001b[1;33m\u001b[0m\u001b[0m\n\u001b[0m\u001b[0;32m      7\u001b[0m \u001b[1;31m#公共设置(地图投影，地图边界，坐标刻度地理格式)\u001b[0m\u001b[1;33m\u001b[0m\u001b[1;33m\u001b[0m\u001b[1;33m\u001b[0m\u001b[0m\n\u001b[0;32m      8\u001b[0m \u001b[0mproj\u001b[0m \u001b[1;33m=\u001b[0m \u001b[0mccrs\u001b[0m\u001b[1;33m.\u001b[0m\u001b[0mPlateCarree\u001b[0m\u001b[1;33m(\u001b[0m\u001b[0mcentral_longitude\u001b[0m\u001b[1;33m=\u001b[0m\u001b[1;36m80\u001b[0m\u001b[1;33m)\u001b[0m\u001b[1;33m\u001b[0m\u001b[1;33m\u001b[0m\u001b[0m\n",
      "\u001b[1;31mModuleNotFoundError\u001b[0m: No module named 'cartopy'"
     ]
    }
   ],
   "source": [
    "# 导入 pandas 库并将其简化为 pd\n",
    "import pandas as pd\n",
    "# 导入matplotlib库的pyplot模块\n",
    "from matplotlib import pyplot as plt\n",
    "import numpy as np\n",
    "import cartopy.crs as ccrs\n",
    "#公共设置(地图投影，地图边界，坐标刻度地理格式)\n",
    "proj = ccrs.PlateCarree(central_longitude=80)\n",
    "img_extent = [0,160, 0, 80]\n",
    "lon_formatter = cticker.LongitudeFormatter()\n",
    "lat_formatter = cticker.LatitudeFormatter()\n",
    "fig2 = plt.figure(figsize=(15,15))\n",
    "#子图1\n",
    "f2_ax1 = fig2.add_axes([0.1, 0.1, 0.4, 0.3],projection = proj)\n",
    "#边界，海岸线，湖泊，坐标刻度，坐标格式\n",
    "f2_ax1.set_extent(img_extent, crs=ccrs.PlateCarree())\n",
    "f2_ax1.add_feature(cfeature.COASTLINE.with_scale('50m')) \n",
    "f2_ax1.add_feature(cfeature.LAKES, alpha=0.5)\n",
    "f2_ax1.set_xticks(np.arange(leftlon,rightlon+20,20), crs=ccrs.PlateCarree())\n",
    "f2_ax1.set_yticks(np.arange(lowerlat,upperlat+20,20), crs=ccrs.PlateCarree())\n",
    "f2_ax1.xaxis.set_major_formatter(lon_formatter)\n",
    "f2_ax1.yaxis.set_major_formatter(lat_formatter)\n",
    "#图序\n",
    "f2_ax1.set_title('(a) ',loc='left')\n",
    "#填色\n",
    "f2_ax1.contourf(lon,lat, r, levels=np.arange(-0.9,1.0,0.1),extend='both', zorder=0, transform=ccrs.PlateCarree(), cmap=plt.cm.RdBu_r)\n",
    "#子图2，同上\n",
    "f2_ax2 = fig2.add_axes([0.6, 0.1, 0.4, 0.3],projection = proj)\n",
    "f2_ax2.set_extent(img_extent, crs=ccrs.PlateCarree())\n",
    "f2_ax2.add_feature(cfeature.COASTLINE.with_scale('50m')) \n",
    "f2_ax2.add_feature(cfeature.LAKES, alpha=0.5)\n",
    "f2_ax2.set_xticks(np.arange(leftlon,rightlon+20,20), crs=ccrs.PlateCarree())\n",
    "f2_ax2.set_yticks(np.arange(lowerlat,upperlat+20,20), crs=ccrs.PlateCarree())\n",
    "f2_ax2.xaxis.set_major_formatter(lon_formatter)\n",
    "f2_ax2.yaxis.set_major_formatter(lat_formatter)\n",
    "f2_ax2.set_title('(b) ',loc='left')\n",
    "f2_ax2.contourf(lon,lat, r, levels=np.arange(-0.9,1.0,0.1),extend='both', zorder=0, transform=ccrs.PlateCarree(), cmap=plt.cm.RdBu_r)"
   ]
  },
  {
   "cell_type": "code",
   "execution_count": null,
   "id": "7dc023a3-8b81-4e7a-aef6-891b3d572768",
   "metadata": {},
   "outputs": [],
   "source": []
  }
 ],
 "metadata": {
  "kernelspec": {
   "display_name": "Python 3 (ipykernel)",
   "language": "python",
   "name": "python3"
  },
  "language_info": {
   "codemirror_mode": {
    "name": "ipython",
    "version": 3
   },
   "file_extension": ".py",
   "mimetype": "text/x-python",
   "name": "python",
   "nbconvert_exporter": "python",
   "pygments_lexer": "ipython3",
   "version": "3.8.8"
  }
 },
 "nbformat": 4,
 "nbformat_minor": 5
}
